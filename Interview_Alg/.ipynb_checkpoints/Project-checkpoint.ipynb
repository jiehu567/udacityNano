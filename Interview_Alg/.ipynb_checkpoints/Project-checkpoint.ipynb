{
 "cells": [
  {
   "cell_type": "markdown",
   "metadata": {},
   "source": [
    "### Question 1\n",
    "\n",
    "Given two strings s and t, determine whether some anagram of t is a substring of s. For example: if s = \"udacity\" and t = \"ad\", then the function returns True. Your function definition should look like: question1(s, t) and return a boolean True or False."
   ]
  },
  {
   "cell_type": "code",
   "execution_count": 10,
   "metadata": {},
   "outputs": [],
   "source": [
    "def is_anagram(s, t):\n",
    "    import string\n",
    "    d = {}\n",
    "    \n",
    "    alp = string.ascii_lowercase\n",
    "    for c in alp:\n",
    "        d_s[c] = 0\n",
    "        d_t[c] = 0\n",
    "    \n",
    "    for c in t:\n",
    "        d_t[c]+=1\n",
    "    \n",
    "    for c in s:\n",
    "        d_s[c]+=1\n",
    "    \n",
    "    for c in alp:\n",
    "        if d_s[c] != d_t[c]:\n",
    "            return False\n",
    "    \n",
    "    return True\n",
    "    \n",
    "    \n",
    "\n",
    "def question1(s, t):\n",
    "    \n",
    "    len_s, len_t = len(s), len(t)\n",
    "    \n",
    "    if len_s < len_t or len_t == 0:\n",
    "        return False\n",
    "    \n",
    "    for i in range(len_s - len_t +1):\n",
    "        # print s[i:i+len_t], t\n",
    "        if is_anagram(s[i:i+len_t],t):\n",
    "            return True\n",
    "    \n",
    "    return False"
   ]
  },
  {
   "cell_type": "code",
   "execution_count": 11,
   "metadata": {},
   "outputs": [
    {
     "name": "stdout",
     "output_type": "stream",
     "text": [
      "Question 1: \n",
      "Test1: regular case, s = 'udacity', t = 'ad'\n",
      "True\n",
      "Test2: Empty t string, s = 'udacity', t = ''\n",
      "False\n",
      "Test3: re-arranged original list, s = 'udacity', t = 'dautyci'\n",
      "True\n",
      "Test4: long t, s = 'udacity', t = 'dautycihahaha'\n",
      "False\n",
      "--------------------------------------\n"
     ]
    }
   ],
   "source": [
    "print \"Question 1: \"\n",
    "print \"Test1: regular case, s = 'udacity', t = 'ad'\"\n",
    "print question1(\"udacity\", \"ad\")\n",
    "# True\n",
    "print \"Test2: Empty t string, s = 'udacity', t = ''\"\n",
    "print question1(\"udacity\", \"\")\n",
    "# False\n",
    "\n",
    "print \"Test3: re-arranged original list, s = 'udacity', t = 'dautyci'\"\n",
    "print question1(\"udacity\", \"dautyci\")\n",
    "# True\n",
    "\n",
    "print \"Test4: long t, s = 'udacity', t = 'dautycihahaha'\"\n",
    "print question1(\"udacity\", \"dautycihahaha\")\n",
    "# False\n",
    "print \"--------------------------------------\""
   ]
  },
  {
   "cell_type": "markdown",
   "metadata": {},
   "source": [
    "- Time Complexity:\n",
    "    1. len_s, len_t = len(s), len(t):  cost 2\n",
    "    2. if len_s < len_t: cost 1\n",
    "    3. for loop: cost (len_s - len_t) * O(is_anagram)\n",
    "    4. Because O(is_anagram) = 2 + 1 + O(sort string) * 2 + O(len_t) and since python is using TimSort algorithm and O(sort string) will be len_t * log(len_t) in average case, so O(is_anagram) ~ O(len_t * log(len_t))\n",
    "    5. Put together, complexity of such algorithm is: O(len_t * log(len_t) * (len_s - len_t)), if in most case len_t << len_s, the average complexity will be O(mn*log(m)), in which m is length of the shorter string, and n is length of the longer string\n",
    "    6. Worst case: because TimSort will stay O(nlog(n)) even in worst case, so is_anagram will stay the same. Because for loop will stay the same complexity, so the worst case will have same complexity as average case: O(mn*log(m))\n",
    "\n",
    "- Space Cost:\n",
    "Since no extra array will be stored, the space cost will only be O(n+m)\n",
    "\n",
    "Reference: \n",
    "1. TimSort: https://en.wikipedia.org/wiki/Timsort"
   ]
  },
  {
   "cell_type": "markdown",
   "metadata": {},
   "source": [
    "### Question 2\n",
    "Given a string a, find the longest palindromic substring contained in a. Your function definition should look like question2(a), and return a string."
   ]
  },
  {
   "cell_type": "code",
   "execution_count": 124,
   "metadata": {
    "collapsed": true
   },
   "outputs": [],
   "source": [
    "def is_palindromic(string):\n",
    "    return string[::] == string[::-1]\n",
    "\n",
    "def question2(a):\n",
    "    a = a.lower()\n",
    "    len_a = len(a)\n",
    "    \n",
    "    for l in reversed(range(len_a + 1)):\n",
    "        for i in range(len_a - l + 1):\n",
    "            if is_palindromic(a[i:i+l]):\n",
    "                return a[i:i+l]"
   ]
  },
  {
   "cell_type": "code",
   "execution_count": 390,
   "metadata": {},
   "outputs": [
    {
     "name": "stdout",
     "output_type": "stream",
     "text": [
      "Test1: itself, a = 'aba'\n",
      "aba\n",
      "Test2: empty input, a = 'aba'\n",
      "\n",
      "Test3: long input, a = 'refea sffsa fvasabacabasdr'\n",
      "sabacabas\n",
      "Test3: short input, a = 'ab'\n",
      "a\n",
      "--------------------------------------\n"
     ]
    }
   ],
   "source": [
    "print \"Test1: itself, a = 'aba'\"\n",
    "print question2(\"aba\")\n",
    "# aba\n",
    "print \"Test2: empty input, a = 'aba'\"\n",
    "print question2(\"\")\n",
    "# (nothing)\n",
    "print \"Test3: long input, a = 'refea sffsa fvasabacabasdr'\"\n",
    "print question2(\"refea sffsa fvasabacabasdr\")\n",
    "# sabacabas\n",
    "print \"Test3: short input, a = 'ab'\"\n",
    "print question2(\"ab\")\n",
    "# a\n",
    "print \"--------------------------------------\""
   ]
  },
  {
   "cell_type": "markdown",
   "metadata": {},
   "source": [
    "I just use array to do such job, because it's easy to index and not necessary to transform array into other data structures.\n",
    "\n",
    "- Time Complexity:\n",
    "The most time consumming part is two for loops. The larger l is, the less value i will take. By list the value of the l and i, I find the total is: In worst case, we have to go all the way from full length down to a single character, total = 1 + 2 + ... + n - 1 = n(n-1)/2, so O(n^2). The average case won't affect structure of this \n",
    "\n",
    "Because the question is asking to return longest palindromic substring, so instead of starting from length 1, I start from the full length and it stops whenever there's a fit to palindromic. When the length of the longest palindromic is not 1, we will have a big advantage: it's not necessary to loop all the possible lengths, from 1 to len(a). So compared to another algorithm which start from the substrings with 2 characters, above algorithm will minimize the calculation we need under same estimated complexity.\n",
    "\n",
    "- Space:\n",
    "Since no extra array will be stored, the space cost will only be O(n)"
   ]
  },
  {
   "cell_type": "markdown",
   "metadata": {},
   "source": [
    "### Question 3\n",
    "Given an undirected graph G, find the minimum spanning tree within G. A minimum spanning tree connects all vertices in a graph with the smallest possible total weight of edges. Your function should take in and return an adjacency list structured like this:\n",
    "\n",
    "{'A': [('B', 2)],\n",
    " 'B': [('A', 2), ('C', 5)], \n",
    " 'C': [('B', 5)]}\n",
    "Vertices are represented as unique strings. The function definition should be question3(G)"
   ]
  },
  {
   "cell_type": "code",
   "execution_count": 260,
   "metadata": {},
   "outputs": [],
   "source": [
    "# Kruskal's algorithm\n",
    "## 1. Input: Graph Object\n",
    "class Node(object):\n",
    "    def __init__(self, value):\n",
    "        self.value = value\n",
    "        self.edges = []\n",
    "\n",
    "class Edge(object):\n",
    "    def __init__(self, value, node_from, node_to):\n",
    "        self.value = value\n",
    "        self.node_from = node_from\n",
    "        self.node_to = node_to\n",
    "\n",
    "class Graph(object):\n",
    "    def __init__(self):\n",
    "        self.nodes = []\n",
    "        self.edges = []\n",
    "\n",
    "    def insert_node(self, new_node_val):\n",
    "        new_node = Node(new_node_val)\n",
    "        self.nodes.append(new_node)\n",
    "        \n",
    "    def insert_edge(self, new_edge_val, node_from_val, node_to_val):\n",
    "        from_found = None\n",
    "        to_found = None\n",
    "        for node in self.nodes:\n",
    "            if node_from_val == node.value:\n",
    "                from_found = node\n",
    "            if node_to_val == node.value:\n",
    "                to_found = node\n",
    "        if from_found == None:\n",
    "            from_found = Node(node_from_val)\n",
    "            self.nodes.append(from_found)\n",
    "        if to_found == None:\n",
    "            to_found = Node(node_to_val)\n",
    "            self.nodes.append(to_found)\n",
    "        new_edge = Edge(new_edge_val, from_found, to_found)\n",
    "        from_found.edges.append(new_edge)\n",
    "        to_found.edges.append(new_edge)\n",
    "        self.edges.append(new_edge)\n",
    "\n",
    "    def get_edge_list(self):\n",
    "        return [(edge.value, edge.node_from.value, edge.node_to.value) for edge in self.edges]\n",
    "    \n",
    "    def get_node_list(self):\n",
    "        return [node.value for node in self.nodes]"
   ]
  },
  {
   "cell_type": "code",
   "execution_count": 261,
   "metadata": {
    "collapsed": true
   },
   "outputs": [],
   "source": [
    "# use UnionFind algorithm to detect if a new added edge will create a circle with existed edges\n",
    "def make_circuit(existed_edges, edge):\n",
    "        \n",
    "    # 2. Union Find to judge if there's a circuit created by new edge and existed edges\n",
    "\n",
    "    parent = {}\n",
    "    edges = existed_edges + [edge]\n",
    "    for node_value in nodes_of(edges):\n",
    "        parent[node_value] = -1\n",
    "    \n",
    "    def find_parent(node_value):\n",
    "        if parent[node_value] == -1:\n",
    "            return node_value\n",
    "        else:\n",
    "            return find_parent(parent[node_value])\n",
    "    \n",
    "    def union(x, y):\n",
    "        x_set = find_parent(x)\n",
    "        y_set = find_parent(y)\n",
    "        parent[x_set] = y_set\n",
    "\n",
    "        \n",
    "    for edge in edges:\n",
    "        x = find_parent(edge[1])\n",
    "        y = find_parent(edge[2])\n",
    "        \n",
    "        if x == y:\n",
    "            return True\n",
    "        else:\n",
    "            union(x, y)\n",
    "    \n",
    "    return False\n",
    "\n",
    "\n",
    "    "
   ]
  },
  {
   "cell_type": "code",
   "execution_count": 262,
   "metadata": {
    "collapsed": true
   },
   "outputs": [],
   "source": [
    "def question3(G):\n",
    "        \n",
    "    # 1. get sorted list of edges, element will be (weight, node_to, node_from)\n",
    "    sorted_edge_lst = sorted(G.get_edge_list())\n",
    "\n",
    "    def nodes_of(edge_lst):\n",
    "        node_lst = []\n",
    "        for edge in edge_lst:\n",
    "            node_lst.append(edge[1])\n",
    "            node_lst.append(edge[2])\n",
    "        return sorted(list(set(node_lst)))\n",
    "\n",
    "\n",
    "    # 2. iterate to pickup one edge from sorted edge list, until all nodes reached\n",
    "    ##      if this new edge doesn't makes a circuit with existed edges, add to existed edges\n",
    "    ##      else, do nothing\n",
    "    ##      if all nodes got reached, break\n",
    "\n",
    "    # initialize an empty list as existed edges to append edges from sorted edge list\n",
    "    existed_edges = []\n",
    "\n",
    "    # used to extract nodes and compare if all nodes are reached\n",
    "    nodes_lst = graph.get_node_list()\n",
    "\n",
    "    for edge in sorted_edge_lst:\n",
    "        if not make_circuit(existed_edges, edge):\n",
    "            existed_edges.append(edge)\n",
    "\n",
    "        if nodes_of(existed_edges) == nodes_lst:\n",
    "            break;\n",
    "\n",
    "    # 3. format output (return), from edge list to the required format\n",
    "    # {'A': [('B', 2)], 'B': [('A', 2), ('C', 5)], 'C': [('B', 5)]}\n",
    "    \n",
    "    nodesValues = nodes_of(existed_edges)\n",
    "    adict = {}\n",
    "    \n",
    "    for node in nodesValues:\n",
    "        adict[node] = None\n",
    "\n",
    "    for edge in existed_edges:\n",
    "        if adict[edge[1]]:\n",
    "            adict[edge[1]].append((edge[2], edge[0]))\n",
    "        else:\n",
    "            adict[edge[1]] = [(edge[2], edge[0])]\n",
    "            \n",
    "        if adict[edge[2]]:\n",
    "            adict[edge[2]].append((edge[1], edge[0]))\n",
    "        else:\n",
    "            adict[edge[2]] = [(edge[1], edge[0])]\n",
    "\n",
    "    return adict\n",
    "    "
   ]
  },
  {
   "cell_type": "code",
   "execution_count": 263,
   "metadata": {},
   "outputs": [
    {
     "data": {
      "text/plain": [
       "{'A': [('B', 100), ('C', 101), ('D', 102)],\n",
       " 'B': [('A', 100)],\n",
       " 'C': [('A', 101)],\n",
       " 'D': [('A', 102)]}"
      ]
     },
     "execution_count": 263,
     "metadata": {},
     "output_type": "execute_result"
    }
   ],
   "source": [
    "# Test Case 1: normal case with 1 connected graph\n",
    "\n",
    "graph1.insert_edge(100, 'A', 'B')\n",
    "graph1.insert_edge(101, 'A', 'C')\n",
    "graph1.insert_edge(102, 'A', 'D')\n",
    "graph1.insert_edge(103, 'C', 'D')\n",
    "question3(graph1)\n",
    "# {'A': [('B', 100), ('C', 101), ('D', 102)],\n",
    "# 'B': [('A', 100)],\n",
    "# 'C': [('A', 101)],\n",
    "# 'D': [('A', 102)]}"
   ]
  },
  {
   "cell_type": "code",
   "execution_count": 266,
   "metadata": {},
   "outputs": [
    {
     "data": {
      "text/plain": [
       "{'A': [('C', 100)], 'C': [('A', 100)]}"
      ]
     },
     "execution_count": 266,
     "metadata": {},
     "output_type": "execute_result"
    }
   ],
   "source": [
    "# Test Case 2: 1 edge\n",
    "graph2 = Graph()\n",
    "graph2.insert_edge(100, 'A', 'C')\n",
    "question3(graph2)"
   ]
  },
  {
   "cell_type": "code",
   "execution_count": 268,
   "metadata": {},
   "outputs": [
    {
     "data": {
      "text/plain": [
       "{}"
      ]
     },
     "execution_count": 268,
     "metadata": {},
     "output_type": "execute_result"
    }
   ],
   "source": [
    "# Test Case 3: 0 edge\n",
    "graph3 = Graph()\n",
    "question3(graph3)"
   ]
  },
  {
   "cell_type": "code",
   "execution_count": 269,
   "metadata": {},
   "outputs": [
    {
     "data": {
      "text/plain": [
       "{'A': [('C', 100)], 'B': [('D', 101)], 'C': [('A', 100)], 'D': [('B', 101)]}"
      ]
     },
     "execution_count": 269,
     "metadata": {},
     "output_type": "execute_result"
    }
   ],
   "source": [
    "# Test Case 4: 2 disjoint edges (not in same set), will grow tree in each set seperately\n",
    "graph4 = Graph()\n",
    "graph4.insert_edge(100, 'A', 'C')\n",
    "graph4.insert_edge(101, 'B', 'D')\n",
    "question3(graph4)\n",
    "print \"--------------------------------\""
   ]
  },
  {
   "cell_type": "markdown",
   "metadata": {},
   "source": [
    "### Question 4\n",
    "\n",
    "Find the least common ancestor between two nodes on a binary search tree. The least common ancestor is the farthest node from the root that is an ancestor of both nodes. For example, the root is a common ancestor of all nodes on the tree, but if both nodes are descendents of the root's left child, then that left child might be the lowest common ancestor. You can assume that both nodes are in the tree, and the tree itself adheres to all BST properties. The function definition should look like question4(T, r, n1, n2), where T is the tree represented as a matrix, where the index of the list is equal to the integer stored in that node and a 1 represents a child node, r is a non-negative integer representing the root, and n1 and n2 are non-negative integers representing the two nodes in no particular order. For example, one test case might be\n",
    "\n",
    "question4([[0, 1, 0, 0, 0],\n",
    "           [0, 0, 0, 0, 0],\n",
    "           [0, 0, 0, 0, 0],\n",
    "           [1, 0, 0, 0, 1],\n",
    "           [0, 0, 0, 0, 0]],\n",
    "          3,\n",
    "          1,\n",
    "          4)\n",
    "and the answer would be 3."
   ]
  },
  {
   "cell_type": "code",
   "execution_count": 14,
   "metadata": {},
   "outputs": [],
   "source": [
    "def question4(T, r, n1, n2):\n",
    "    \n",
    "    if not is_matrix(T):\n",
    "        print \"Invalid Matrix\"\n",
    "        return\n",
    "    \n",
    "    if not is_tree(T):\n",
    "        print \"Invalid Tree Matrix\"\n",
    "        return\n",
    "        \n",
    "    if not is_bst(T):\n",
    "        print \"Invalid Binary Search Tree\"\n",
    "        return\n",
    "    \n",
    "    # Step 1. find ancesstors of n1 and ancesstors of n2\n",
    "\n",
    "    \n",
    "    #      - make sure n1 and n2 has such number\n",
    "    \n",
    "    sum_n1 = sum([elem[n1] for elem in T])\n",
    "    sum_n2 = sum([elem[n2] for elem in T])\n",
    "    \n",
    "    if sum_n1 < 1:\n",
    "\n",
    "        print \"No such n1\"\n",
    "        return\n",
    "    \n",
    "    if sum_n2 < 1:\n",
    "        print \"No such n2\"\n",
    "        return    \n",
    "    \n",
    "    answer = question4_helper(T, r, n1, n2)\n",
    "            \n",
    "    return answer\n",
    "        \n",
    "def is_tree(m):\n",
    "    for j in range(len(m[0])):\n",
    "        s = 0\n",
    "        for i in range(len(m)):\n",
    "            s += m[i][j]\n",
    "        \n",
    "        if s > 1:\n",
    "            return False\n",
    "        else:\n",
    "            return True\n",
    "\n",
    "def is_matrix(m):\n",
    "    c = len(m[0])\n",
    "    for i in range(len(m)):\n",
    "        if len(m[i]) != c:\n",
    "            return False\n",
    "    return True   \n",
    "\n",
    "def is_bst(m):\n",
    "    \n",
    "    # 1. sum of each row must be less than 2 to make a binary tree\n",
    "    for i in range(len(m)):\n",
    "        if sum(m[i]) > 2:\n",
    "            return False\n",
    "        \n",
    "        elif sum(m[i]) == 2:\n",
    "            row_index = []\n",
    "            for j in range(len(m[0])):\n",
    "                if m[i][j] == 1:\n",
    "                    row_index.append(j)\n",
    "                    \n",
    "            sorted_row_id = sorted(row_index)\n",
    "            \n",
    "    # 2. each node value must be between its left and right value, if it has\n",
    "    #    which means the row number must be between column ids of cells == 1\n",
    "            if sorted_row_id[0] >= i or sorted_row_id[1] <= i:\n",
    "                return False\n",
    "    \n",
    "    return True\n",
    "\n",
    "\n",
    "# \n",
    "def question4_helper(T, r, n1, n2):\n",
    "    \n",
    "    if r > max(n1, n2):\n",
    "        # traverse left\n",
    "        for j in range(len(T[0])):\n",
    "            if T[r][j] == 1:\n",
    "                r = j\n",
    "                break;\n",
    "        return question4_helper(T, r, n1, n2)\n",
    "                \n",
    "    elif r < min(n1, n2):\n",
    "        # traverse right\n",
    "        for j in reversed(range(len(T[0]))):\n",
    "            if T[r][j] == 1:\n",
    "                r = j\n",
    "                break;\n",
    "        return question4_helper(T, r, n1, n2)\n",
    "    else:\n",
    "        return r\n",
    "        \n",
    "    \n",
    "    \n",
    "    "
   ]
  },
  {
   "cell_type": "code",
   "execution_count": 15,
   "metadata": {},
   "outputs": [
    {
     "data": {
      "text/plain": [
       "3"
      ]
     },
     "execution_count": 15,
     "metadata": {},
     "output_type": "execute_result"
    }
   ],
   "source": [
    "# test 1: regular\n",
    "question4([[0, 1, 0, 0, 0],\n",
    "           [0, 0, 0, 0, 0],\n",
    "           [0, 0, 0, 0, 0],\n",
    "           [1, 0, 0, 0, 1],\n",
    "           [0, 0, 0, 0, 0]],\n",
    "          3,\n",
    "          1,\n",
    "          4)"
   ]
  },
  {
   "cell_type": "code",
   "execution_count": 16,
   "metadata": {},
   "outputs": [
    {
     "name": "stdout",
     "output_type": "stream",
     "text": [
      "Invalid Matrix\n"
     ]
    }
   ],
   "source": [
    "# test 2: invalid matrix\n",
    "question4([[0, 1, 0, 0],\n",
    "           [0, 0, 0, 0, 0],\n",
    "           [0, 0, 0, 0, 0],\n",
    "           [1, 0, 0, 0, 1],\n",
    "           [0, 0, 0, 0, 0]],\n",
    "          3,\n",
    "          1,\n",
    "          4)"
   ]
  },
  {
   "cell_type": "code",
   "execution_count": 17,
   "metadata": {},
   "outputs": [
    {
     "name": "stdout",
     "output_type": "stream",
     "text": [
      "Invalid Binary Search Tree\n"
     ]
    }
   ],
   "source": [
    "# test 3: invalid bst\n",
    "question4([[0, 1, 0, 0, 0],\n",
    "           [0, 0, 0, 1, 1],\n",
    "           [0, 0, 0, 0, 0],\n",
    "           [1, 0, 0, 0, 1],\n",
    "           [0, 0, 0, 0, 0]],\n",
    "          3,\n",
    "          1,\n",
    "          4)"
   ]
  },
  {
   "cell_type": "code",
   "execution_count": 18,
   "metadata": {},
   "outputs": [
    {
     "data": {
      "text/plain": [
       "3"
      ]
     },
     "execution_count": 18,
     "metadata": {},
     "output_type": "execute_result"
    }
   ],
   "source": [
    "# test 4: More complex matrix, should print 3\n",
    "question4([[0, 0, 0, 0, 0, 0, 0, 0, 0],\n",
    "           [0, 0, 0, 0, 0, 0, 0, 0, 0],\n",
    "           [0, 0, 0, 0, 0, 0, 0, 0, 0],\n",
    "           [1, 0, 0, 0, 1, 0, 0, 0, 0],\n",
    "           [0, 0, 0, 0, 0, 0, 0, 0, 0],\n",
    "           [0, 0, 0, 0, 0, 0, 0, 0, 0],\n",
    "           [0, 0, 0, 1, 0, 0, 0, 0, 1],\n",
    "           [0, 0, 0, 0, 0, 0, 0, 0, 0],\n",
    "           [0, 0, 0, 0, 0, 0, 0, 1, 0]],\n",
    "          6,\n",
    "          0,\n",
    "          4)"
   ]
  },
  {
   "cell_type": "code",
   "execution_count": 19,
   "metadata": {},
   "outputs": [
    {
     "data": {
      "text/plain": [
       "3"
      ]
     },
     "execution_count": 19,
     "metadata": {},
     "output_type": "execute_result"
    }
   ],
   "source": [
    "# test 5: Reverse n1 and n2, should print 3\n",
    "question4([[0, 0, 0, 0, 0, 0, 0, 0, 0],\n",
    "           [0, 0, 0, 0, 0, 0, 0, 0, 0],\n",
    "           [0, 0, 0, 0, 0, 0, 0, 0, 0],\n",
    "           [1, 0, 0, 0, 1, 0, 0, 0, 0],\n",
    "           [0, 0, 0, 0, 0, 0, 0, 0, 0],\n",
    "           [0, 0, 0, 0, 0, 0, 0, 0, 0],\n",
    "           [0, 0, 0, 1, 0, 0, 0, 0, 1],\n",
    "           [0, 0, 0, 0, 0, 0, 0, 0, 0],\n",
    "           [0, 0, 0, 0, 0, 0, 0, 1, 0]],\n",
    "          6,\n",
    "          4,\n",
    "          0)"
   ]
  },
  {
   "cell_type": "code",
   "execution_count": 59,
   "metadata": {
    "collapsed": true
   },
   "outputs": [],
   "source": [
    "def is_bst(T, r):\n",
    "    \n",
    "    left, right = None, None\n",
    "    if r != None:\n",
    "        for j in range(len(T[0])):\n",
    "            if T[r][j] == 1:\n",
    "                if j < r:\n",
    "                    left = j\n",
    "                if j > r:\n",
    "                    right = j\n",
    "\n",
    "        if left:\n",
    "            if left > r:\n",
    "                return False\n",
    "\n",
    "        if right:\n",
    "            if right < r:\n",
    "                return False\n",
    "    \n",
    "    return is_bst(T, left) and is_bst(T, right)\n",
    "        \n",
    "    "
   ]
  },
  {
   "cell_type": "code",
   "execution_count": 62,
   "metadata": {},
   "outputs": [
    {
     "data": {
      "text/plain": [
       "True"
      ]
     },
     "execution_count": 62,
     "metadata": {},
     "output_type": "execute_result"
    }
   ],
   "source": [
    "is_bst([[0, 0, 0, 0, 0, 0, 0, 0, 0],\n",
    "           [0, 0, 0, 0, 0, 0, 0, 0, 0],\n",
    "           [0, 0, 0, 0, 0, 0, 0, 0, 0],\n",
    "           [1, 0, 0, 0, 1, 0, 0, 0, 0],\n",
    "           [0, 0, 0, 0, 0, 0, 0, 0, 0],\n",
    "           [0, 0, 0, 0, 0, 0, 0, 0, 0],\n",
    "           [0, 0, 0, 1, 0, 0, 0, 0, 1],\n",
    "           [0, 0, 0, 0, 0, 0, 0, 0, 0],\n",
    "           [0, 0, 0, 0, 0, 0, 0, 1, 0]],\n",
    "          6)"
   ]
  },
  {
   "cell_type": "code",
   "execution_count": 20,
   "metadata": {},
   "outputs": [
    {
     "name": "stdout",
     "output_type": "stream",
     "text": [
      "Invalid Tree Matrix\n",
      "--------------------------------\n"
     ]
    }
   ],
   "source": [
    "# test 5: Empty matrix\n",
    "question4([[]],\n",
    "          6,\n",
    "          4,\n",
    "          0)\n",
    "print \"--------------------------------\""
   ]
  },
  {
   "cell_type": "markdown",
   "metadata": {},
   "source": [
    "### Question 5\n",
    "\n",
    "Find the element in a singly linked list that's m elements from the end. For example, if a linked list has 5 elements, the 3rd element from the end is the 3rd element. The function definition should look like question5(ll, m), where ll is the first node of a linked list and m is the \"mth number from the end\". You should copy/paste the Node class below to use as a representation of a node in the linked list. Return the value of the node at that position.\n",
    "\n",
    "class Node(object):\n",
    "  def __init__(self, data):\n",
    "    self.data = data\n",
    "    self.next = None"
   ]
  },
  {
   "cell_type": "code",
   "execution_count": 40,
   "metadata": {
    "collapsed": true
   },
   "outputs": [],
   "source": [
    "# idea: use stack\n",
    "\n",
    "class Node(object):\n",
    "    def __init__(self, data):\n",
    "        self.data = data\n",
    "        self.next = None\n",
    "        \n",
    "class LinkedList(object):\n",
    "    def __init__(self, head=None):\n",
    "        self.head = head\n",
    "        self.length = 1\n",
    "        \n",
    "    def append(self, new_element):\n",
    "        current = self.head\n",
    "        if self.head:\n",
    "            while current.next:\n",
    "                current = current.next\n",
    "            current.next = new_element\n",
    "            \n",
    "        else:\n",
    "            self.head = new_element\n",
    "        self.length +=1\n",
    "      "
   ]
  },
  {
   "cell_type": "code",
   "execution_count": 41,
   "metadata": {
    "collapsed": true
   },
   "outputs": [],
   "source": [
    "def question5(ll, m):\n",
    "    \n",
    "    if m < 0:\n",
    "        print \"Wrong m value\"\n",
    "        return None\n",
    "    \n",
    "    if m > ll.length:\n",
    "        return None\n",
    "    \n",
    "    current = ll.head\n",
    "    for i in range(ll.length - m):\n",
    "        current = current.next\n",
    "    \n",
    "    return current.data"
   ]
  },
  {
   "cell_type": "code",
   "execution_count": null,
   "metadata": {},
   "outputs": [],
   "source": []
  },
  {
   "cell_type": "code",
   "execution_count": 42,
   "metadata": {},
   "outputs": [
    {
     "name": "stdout",
     "output_type": "stream",
     "text": [
      "2\n",
      "3\n",
      "4\n",
      "2\n"
     ]
    }
   ],
   "source": [
    "# Test1: regular\n",
    "e1 = Node(1)\n",
    "e2 = Node(2)\n",
    "e3 = Node(3)\n",
    "e4 = Node(4)\n",
    "ll = LinkedList(e1)\n",
    "ll.append(e2)\n",
    "ll.append(e3)\n",
    "ll.append(e4)\n",
    "# ll has value 1,2,3,4, so when m = 3, data is 2\n",
    "print question5(ll, 3)"
   ]
  },
  {
   "cell_type": "code",
   "execution_count": 31,
   "metadata": {},
   "outputs": [
    {
     "name": "stdout",
     "output_type": "stream",
     "text": [
      "None\n"
     ]
    }
   ],
   "source": [
    "# Test2: exceed length, print None if m is too large\n",
    "e1 = Node(1)\n",
    "e2 = Node(2)\n",
    "e3 = Node(3)\n",
    "e4 = Node(4)\n",
    "ll = LinkedList(e1)\n",
    "ll.append(e2)\n",
    "ll.append(e3)\n",
    "ll.append(e4)\n",
    "# ll has value 1,2,3,4\n",
    "print question5(ll, 5)"
   ]
  },
  {
   "cell_type": "code",
   "execution_count": 32,
   "metadata": {},
   "outputs": [
    {
     "name": "stdout",
     "output_type": "stream",
     "text": [
      "None\n"
     ]
    }
   ],
   "source": [
    "# Test3: Empty linked list, print None since there's no data\n",
    "e1 = None\n",
    "ll = LinkedList(e1)\n",
    "\n",
    "# ll has value 1,2,3,4, so when m = 3, data is 2\n",
    "print question5(ll, 1)"
   ]
  },
  {
   "cell_type": "code",
   "execution_count": null,
   "metadata": {
    "collapsed": true
   },
   "outputs": [],
   "source": []
  }
 ],
 "metadata": {
  "kernelspec": {
   "display_name": "py2",
   "language": "python",
   "name": "py2"
  },
  "language_info": {
   "codemirror_mode": {
    "name": "ipython",
    "version": 2
   },
   "file_extension": ".py",
   "mimetype": "text/x-python",
   "name": "python",
   "nbconvert_exporter": "python",
   "pygments_lexer": "ipython2",
   "version": "2.7.13"
  }
 },
 "nbformat": 4,
 "nbformat_minor": 2
}
