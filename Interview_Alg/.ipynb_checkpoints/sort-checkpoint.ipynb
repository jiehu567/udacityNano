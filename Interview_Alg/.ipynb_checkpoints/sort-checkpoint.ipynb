{
 "cells": [
  {
   "cell_type": "code",
   "execution_count": 11,
   "metadata": {
    "collapsed": true
   },
   "outputs": [],
   "source": [
    "\"\"\"You're going to write a binary search function.\n",
    "You should use an iterative approach - meaning\n",
    "using loops.\n",
    "Your function should take two inputs:\n",
    "a Python list to search through, and the value\n",
    "you're searching for.\n",
    "Assume the list only has distinct elements,\n",
    "meaning there are no repeated values, and \n",
    "elements are in a strictly increasing order.\n",
    "Return the index of value, or -1 if the value\n",
    "doesn't exist in the list.\"\"\"\n",
    "\n",
    "def binary_search(input_array, value):\n",
    "    \"\"\"Your code goes here.\"\"\"\n",
    "    n = len(input_array)\n",
    "    if n > 1:\n",
    "        if value > input_array[n/2]:\n",
    "            next_result = binary_search(input_array[(n+1)/2:], value)\n",
    "            if next_result == -1:\n",
    "                return -1\n",
    "            return  next_result + n/2\n",
    "        else:\n",
    "            next_result = binary_search(input_array[:n/2], value)\n",
    "            if next_result == -1:\n",
    "                return -1\n",
    "            return next_result\n",
    "    elif n==1 and input_array[0]==value:\n",
    "        return 1\n",
    "    return -1\n",
    "\n"
   ]
  },
  {
   "cell_type": "code",
   "execution_count": 12,
   "metadata": {
    "collapsed": false
   },
   "outputs": [
    {
     "name": "stdout",
     "output_type": "stream",
     "text": [
      "-1\n",
      "4\n"
     ]
    }
   ],
   "source": [
    "test_list = [1,3,9,11,15,19,29]\n",
    "test_val1 = 25\n",
    "test_val2 = 15\n",
    "print binary_search(test_list, test_val1)\n",
    "print binary_search(test_list, test_val2)"
   ]
  },
  {
   "cell_type": "code",
   "execution_count": 1,
   "metadata": {
    "collapsed": true
   },
   "outputs": [],
   "source": [
    "test_list = [1,3,9,11,15,19,29]"
   ]
  },
  {
   "cell_type": "code",
   "execution_count": 4,
   "metadata": {
    "collapsed": false
   },
   "outputs": [
    {
     "data": {
      "text/plain": [
       "[11, 15, 19, 29]"
      ]
     },
     "execution_count": 4,
     "metadata": {},
     "output_type": "execute_result"
    }
   ],
   "source": [
    "test_list[len(test_list)/2:]"
   ]
  },
  {
   "cell_type": "code",
   "execution_count": 28,
   "metadata": {
    "collapsed": true
   },
   "outputs": [],
   "source": [
    "def binary_search(input_array, value):\n",
    "    \"\"\"Your code goes here.\"\"\"\n",
    "    r = len(input_array)-1\n",
    "    l = 0\n",
    "    while(l<=r):\n",
    "        mid = (l+r)/2\n",
    "        if value < input_array[mid]:\n",
    "            r = mid - 1\n",
    "        elif value > input_array[mid]:\n",
    "            l = mid + 1\n",
    "        else:\n",
    "            return mid\n",
    "    \n",
    "    return -1\n"
   ]
  },
  {
   "cell_type": "code",
   "execution_count": 29,
   "metadata": {
    "collapsed": false
   },
   "outputs": [
    {
     "name": "stdout",
     "output_type": "stream",
     "text": [
      "-1\n",
      "4\n"
     ]
    }
   ],
   "source": [
    "test_list = [1,3,9,11,15,19,29]\n",
    "test_val1 = 25\n",
    "test_val2 = 15\n",
    "print binary_search(test_list, test_val1)\n",
    "print binary_search(test_list, test_val2)"
   ]
  },
  {
   "cell_type": "code",
   "execution_count": 23,
   "metadata": {
    "collapsed": false
   },
   "outputs": [
    {
     "data": {
      "text/plain": [
       "7"
      ]
     },
     "execution_count": 23,
     "metadata": {},
     "output_type": "execute_result"
    }
   ],
   "source": [
    "len(test_list)"
   ]
  },
  {
   "cell_type": "code",
   "execution_count": 30,
   "metadata": {
    "collapsed": false
   },
   "outputs": [
    {
     "name": "stdout",
     "output_type": "stream",
     "text": [
      "34\n",
      "89\n",
      "0\n"
     ]
    }
   ],
   "source": [
    "\"\"\"Implement a function recursivly to get the desired\n",
    "Fibonacci sequence value.\n",
    "Your code should have the same input/output as the \n",
    "iterative code in the instructions.\"\"\"\n",
    "\n",
    "def get_fib(position):\n",
    "    \n",
    "    if position == 0 or position == 1:\n",
    "        return position\n",
    "    else:\n",
    "        return get_fib(position - 1) + get_fib(position - 2)\n",
    "    \n",
    "    \n",
    "    return -1\n",
    "\n",
    "# Test cases\n",
    "print get_fib(9)\n",
    "print get_fib(11)\n",
    "print get_fib(0)\n"
   ]
  },
  {
   "cell_type": "code",
   "execution_count": 41,
   "metadata": {
    "collapsed": false
   },
   "outputs": [
    {
     "name": "stdout",
     "output_type": "stream",
     "text": [
      "[1, 3, 4, 6, 9, 14, 20, 21, 21, 25]\n"
     ]
    }
   ],
   "source": [
    "\"\"\"Implement quick sort in Python.\n",
    "Input a list.\n",
    "Output a sorted list.\"\"\"\n",
    "\n",
    "\n",
    "def quicksort(array):\n",
    "    quicksortHelper(array, 0, len(array)-1)\n",
    "    return array\n",
    "\n",
    "def quicksortHelper(array, first, last):\n",
    "    if first < last:\n",
    "        splitpoint = partition(array, first, last)\n",
    "\n",
    "        quicksortHelper(array, first, splitpoint-1)\n",
    "        quicksortHelper(array, splitpoint+1, last)\n",
    "\n",
    "def partition(array, first, last):\n",
    "    \n",
    "    p = first\n",
    "    pivot = array[first]\n",
    "    l = p+1\n",
    "    r = last\n",
    "    done = False\n",
    "    \n",
    "    while not done:\n",
    "        \n",
    "        while(array[l] <= pivot and l <= r):\n",
    "            l+=1\n",
    "        while(array[r] >= pivot and l <= r):\n",
    "            r-=1\n",
    "        \n",
    "        if r<l:\n",
    "            done = True\n",
    "        else:\n",
    "            temp = array[l]\n",
    "            array[l] = array[r]\n",
    "            array[r] = temp\n",
    "        \n",
    "        \n",
    "        \n",
    "    temp = array[first]\n",
    "    array[first] = array[r]\n",
    "    array[r] = temp\n",
    "    return r\n",
    "\n",
    "\n",
    "test = [21, 4, 1, 3, 9, 20, 25, 6, 21, 14]\n",
    "print quicksort(test)\n"
   ]
  },
  {
   "cell_type": "code",
   "execution_count": null,
   "metadata": {
    "collapsed": true
   },
   "outputs": [],
   "source": []
  }
 ],
 "metadata": {
  "kernelspec": {
   "display_name": "py2",
   "language": "python",
   "name": "py2"
  },
  "language_info": {
   "codemirror_mode": {
    "name": "ipython",
    "version": 2
   },
   "file_extension": ".py",
   "mimetype": "text/x-python",
   "name": "python",
   "nbconvert_exporter": "python",
   "pygments_lexer": "ipython2",
   "version": "2.7.13"
  }
 },
 "nbformat": 4,
 "nbformat_minor": 2
}
