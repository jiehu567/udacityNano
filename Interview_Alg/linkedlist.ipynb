{
 "cells": [
  {
   "cell_type": "code",
   "execution_count": 9,
   "metadata": {
    "collapsed": false
   },
   "outputs": [
    {
     "name": "stdout",
     "output_type": "stream",
     "text": [
      "0\n",
      "2\n",
      "11\n",
      "15\n"
     ]
    }
   ],
   "source": [
    "\"\"\"You can use this class to represent how classy someone\n",
    "or something is.\n",
    "\"Classy\" is interchangable with \"fancy\".\n",
    "If you add fancy-looking items, you will increase\n",
    "your \"classiness\".\n",
    "Create a function in \"Classy\" that takes a string as\n",
    "input and adds it to the \"items\" list.\n",
    "Another method should calculate the \"classiness\"\n",
    "value based on the items.\n",
    "The following items have classiness points associated\n",
    "with them:\n",
    "\"tophat\" = 2\n",
    "\"bowtie\" = 4\n",
    "\"monocle\" = 5\n",
    "Everything else has 0 points.\n",
    "Use the test cases below to guide you!\"\"\"\n",
    "\n",
    "class Classy(object):\n",
    "    def __init__(self):\n",
    "        self.items = []\n",
    "        self.class_n = 0\n",
    "    def addItem(self, string):\n",
    "        self.items.append(string)\n",
    "        x = 0\n",
    "        if string == \"tophat\":\n",
    "            x = 2\n",
    "        elif string == \"bowtie\":\n",
    "            x = 4\n",
    "        elif string == \"monocle\":\n",
    "            x = 5\n",
    "        else:\n",
    "            x = 0\n",
    "        self.class_n +=x\n",
    "    def getClassiness(self):\n",
    "        \n",
    "        return self.class_n\n",
    "    \n",
    "# Test cases\n",
    "me = Classy()\n",
    "\n",
    "# Should be 0\n",
    "print me.getClassiness()\n",
    "\n",
    "me.addItem(\"tophat\")\n",
    "# Should be 2\n",
    "print me.getClassiness()\n",
    "\n",
    "me.addItem(\"bowtie\")\n",
    "me.addItem(\"jacket\")\n",
    "me.addItem(\"monocle\")\n",
    "# Should be 11\n",
    "print me.getClassiness()\n",
    "\n",
    "me.addItem(\"bowtie\")\n",
    "# Should be 15\n",
    "print me.getClassiness()"
   ]
  },
  {
   "cell_type": "code",
   "execution_count": 3,
   "metadata": {
    "collapsed": false
   },
   "outputs": [
    {
     "data": {
      "text/plain": [
       "[[1], '2']"
      ]
     },
     "execution_count": 3,
     "metadata": {},
     "output_type": "execute_result"
    }
   ],
   "source": [
    "[[1],\"2\"]"
   ]
  },
  {
   "cell_type": "code",
   "execution_count": 50,
   "metadata": {
    "collapsed": true
   },
   "outputs": [],
   "source": [
    "## Linked List\n",
    "\"\"\"The LinkedList code from before is provided below.\n",
    "Add three functions to the LinkedList.\n",
    "\"get_position\" returns the element at a certain position.\n",
    "The \"insert\" function will add an element to a particular\n",
    "spot in the list.\n",
    "\"delete\" will delete the first element with that\n",
    "particular value.\n",
    "Then, use \"Test Run\" and \"Submit\" to run the test cases\n",
    "at the bottom.\"\"\"\n",
    "\n",
    "class Element(object):\n",
    "    def __init__(self, value):\n",
    "        self.value = value\n",
    "        self.next = None\n",
    "        \n",
    "class LinkedList(object):\n",
    "    def __init__(self, head=None):\n",
    "        self.head = head\n",
    "        \n",
    "    def append(self, new_element):\n",
    "        current = self.head\n",
    "        if self.head:\n",
    "            while current.next:\n",
    "                current = current.next\n",
    "            current.next = new_element\n",
    "        else:\n",
    "            self.head = new_element\n",
    "            \n",
    "    def get_position(self, position):\n",
    "        \"\"\"Get an element from a particular position.\n",
    "        Assume the first position is \"1\".\n",
    "        Return \"None\" if position is not in the list.\"\"\"\n",
    "        if position < 1:\n",
    "            return None\n",
    "        \n",
    "        temp = self.head\n",
    "        while(position > 1):\n",
    "            if temp == None:\n",
    "                break\n",
    "            temp = temp.next\n",
    "            position -= 1\n",
    "        \n",
    "        return temp\n",
    "    \n",
    "    def insert(self, new_element, position):\n",
    "        \"\"\"Insert a new node at the given position.\n",
    "        Assume the first position is \"1\".\n",
    "        Inserting at position 3 means between\n",
    "        the 2nd and 3rd elements.\"\"\"\n",
    "        \n",
    "        node_B = self.get_position(position)\n",
    "        node_A = self.get_position(position - 1)\n",
    "        \n",
    "        node_A.next = new_element\n",
    "        new_element.next = node_B\n",
    "        \n",
    "        \n",
    "    \n",
    "    def delete(self, value):\n",
    "        \"\"\"Delete the first node with a given value.\"\"\"\n",
    "        p = self.head\n",
    "        before = p\n",
    "        \n",
    "        while(p.value != value and p != None):\n",
    "            before = p\n",
    "            p = p.next\n",
    "            \n",
    "        if p == self.head:\n",
    "            self.head = p.next\n",
    "            \n",
    "        elif p:\n",
    "            before.next = p.next\n",
    "            \n",
    "\n",
    "# Test cases\n",
    "# Set up some Elements\n",
    "e1 = Element(1)\n",
    "e2 = Element(2)\n",
    "e3 = Element(3)\n",
    "e4 = Element(4)\n",
    "\n",
    "# Start setting up a LinkedList\n",
    "ll = LinkedList(e1)\n",
    "ll.append(e2)\n",
    "ll.append(e3)\n",
    "\n"
   ]
  },
  {
   "cell_type": "code",
   "execution_count": 51,
   "metadata": {
    "collapsed": false
   },
   "outputs": [
    {
     "name": "stdout",
     "output_type": "stream",
     "text": [
      "3\n"
     ]
    }
   ],
   "source": [
    "# Test get_position\n",
    "# Should print 3\n",
    "print ll.head.next.next.value\n"
   ]
  },
  {
   "cell_type": "code",
   "execution_count": 52,
   "metadata": {
    "collapsed": false
   },
   "outputs": [
    {
     "name": "stdout",
     "output_type": "stream",
     "text": [
      "3\n"
     ]
    }
   ],
   "source": [
    "# Should also print 3\n",
    "print ll.get_position(3).value"
   ]
  },
  {
   "cell_type": "code",
   "execution_count": 53,
   "metadata": {
    "collapsed": false
   },
   "outputs": [
    {
     "name": "stdout",
     "output_type": "stream",
     "text": [
      "4\n"
     ]
    }
   ],
   "source": [
    "# Test insert\n",
    "ll.insert(e4,3)\n",
    "# Should print 4 now\n",
    "print ll.get_position(3).value\n",
    "\n"
   ]
  },
  {
   "cell_type": "code",
   "execution_count": 54,
   "metadata": {
    "collapsed": false
   },
   "outputs": [
    {
     "name": "stdout",
     "output_type": "stream",
     "text": [
      "2\n",
      "4\n",
      "3\n"
     ]
    }
   ],
   "source": [
    "# Test delete\n",
    "ll.delete(1)\n",
    "# Should print 2 now\n",
    "print ll.get_position(1).value\n",
    "# Should print 4 now\n",
    "print ll.get_position(2).value\n",
    "# Should print 3 now\n",
    "print ll.get_position(3).value"
   ]
  },
  {
   "cell_type": "code",
   "execution_count": 73,
   "metadata": {
    "collapsed": false
   },
   "outputs": [
    {
     "name": "stdout",
     "output_type": "stream",
     "text": [
      "3\n",
      "2\n",
      "1\n",
      "None\n",
      "4\n"
     ]
    }
   ],
   "source": [
    "## Stack\n",
    "\n",
    "\"\"\"Add a couple methods to our LinkedList class,\n",
    "and use that to implement a Stack.\n",
    "You have 4 functions below to fill in:\n",
    "insert_first, delete_first, push, and pop.\n",
    "Think about this while you're implementing:\n",
    "why is it easier to add an \"insert_first\"\n",
    "function than just use \"append\"?\"\"\"\n",
    "\n",
    "class Element(object):\n",
    "    def __init__(self, value):\n",
    "        self.value = value\n",
    "        self.next = None\n",
    "        \n",
    "class LinkedList(object):\n",
    "    def __init__(self, head=None):\n",
    "        self.head = head\n",
    "        \n",
    "    def append(self, new_element):\n",
    "        current = self.head\n",
    "        if self.head:\n",
    "            while current.next:\n",
    "                current = current.next\n",
    "            current.next = new_element\n",
    "        else:\n",
    "            self.head = new_element\n",
    "\n",
    "    def insert_first(self, new_element):\n",
    "        \"Insert new element as the head of the LinkedList\"\n",
    "        \n",
    "        new_element.next = self.head\n",
    "        self.head = new_element\n",
    "\n",
    "    def delete_first(self):\n",
    "        \"Delete the first (head) element in the LinkedList as return it\"\n",
    "        if self.head == None:\n",
    "            return None\n",
    "        \n",
    "        current = self.head\n",
    "        self.head = current.next\n",
    "        return current\n",
    "\n",
    "class Stack(object):\n",
    "    def __init__(self,top=None):\n",
    "        self.ll = LinkedList(top)\n",
    "\n",
    "    def push(self, new_element):\n",
    "        self.ll.insert_first(new_element)\n",
    "\n",
    "    def pop(self):\n",
    "        \"Pop (remove) the first element off the top of the stack and return it\"\n",
    "        value = self.ll.delete_first()\n",
    "        return value\n",
    "        \n",
    "    \n",
    "# Test cases\n",
    "# Set up some Elements\n",
    "e1 = Element(1)\n",
    "e2 = Element(2)\n",
    "e3 = Element(3)\n",
    "e4 = Element(4)\n",
    "\n",
    "# Start setting up a Stack\n",
    "stack = Stack(e1)\n",
    "\n",
    "# Test stack functionality\n",
    "stack.push(e2)\n",
    "stack.push(e3)\n",
    "print stack.pop().value\n",
    "print stack.pop().value\n",
    "print stack.pop().value\n",
    "print stack.pop()\n",
    "stack.push(e4)\n",
    "print stack.pop().value"
   ]
  },
  {
   "cell_type": "code",
   "execution_count": 67,
   "metadata": {
    "collapsed": true
   },
   "outputs": [],
   "source": [
    "class Element(object):\n",
    "    def __init__(self, value):\n",
    "        self.value = value\n",
    "        self.next = None\n",
    "\n",
    "class LinkedList(object):\n",
    "    def __init__(self, head=None):\n",
    "        self.head = head\n",
    "\n",
    "    def append(self, new_element):\n",
    "        current = self.head\n",
    "        if self.head:\n",
    "            while current.next:\n",
    "                current = current.next\n",
    "            current.next = new_element\n",
    "        else:\n",
    "            self.head = new_element\n",
    "\n",
    "    def insert_first(self, new_element):\n",
    "        new_element.next = self.head\n",
    "        self.head = new_element\n",
    "\n",
    "    def delete_first(self):\n",
    "        if self.head:\n",
    "            deleted_element = self.head\n",
    "            self.head = deleted_element.next\n",
    "            return deleted_element\n",
    "        else:\n",
    "            return None\n",
    "\n",
    "class Stack(object):\n",
    "    def __init__(self,top=None):\n",
    "        self.ll = LinkedList(top)\n",
    "\n",
    "    def push(self, new_element):\n",
    "        self.ll.insert_first(new_element)\n",
    "\n",
    "    def pop(self):\n",
    "        return self.ll.delete_first()"
   ]
  },
  {
   "cell_type": "code",
   "execution_count": 68,
   "metadata": {
    "collapsed": false
   },
   "outputs": [
    {
     "name": "stdout",
     "output_type": "stream",
     "text": [
      "3\n",
      "2\n",
      "1\n",
      "None\n",
      "4\n"
     ]
    }
   ],
   "source": [
    "# Test cases\n",
    "# Set up some Elements\n",
    "e1 = Element(1)\n",
    "e2 = Element(2)\n",
    "e3 = Element(3)\n",
    "e4 = Element(4)\n",
    "\n",
    "# Start setting up a Stack\n",
    "stack = Stack(e1)\n",
    "\n",
    "# Test stack functionality\n",
    "stack.push(e2)\n",
    "stack.push(e3)\n",
    "print stack.pop().value\n",
    "print stack.pop().value\n",
    "print stack.pop().value\n",
    "print stack.pop()\n",
    "stack.push(e4)\n",
    "print stack.pop().value"
   ]
  },
  {
   "cell_type": "code",
   "execution_count": 76,
   "metadata": {
    "collapsed": true
   },
   "outputs": [],
   "source": [
    "## Queue\n",
    "\n",
    "\"\"\"Make a Queue class using a list!\n",
    "Hint: You can use any Python list method\n",
    "you'd like! Try to write each one in as \n",
    "few lines as possible.\n",
    "Make sure you pass the test cases too!\"\"\"\n",
    "\n",
    "class Queue:\n",
    "    def __init__(self, head=None):\n",
    "        self.storage = [head]\n",
    "\n",
    "    def enqueue(self, new_element):\n",
    "        self.storage.append(new_element)\n",
    "\n",
    "    def peek(self):\n",
    "        return self.storage[0] \n",
    "\n",
    "    def dequeue(self):\n",
    "        value = self.storage[0]\n",
    "        del self.storage[0]\n",
    "        return value\n",
    "    \n",
    "# Setup\n",
    "q = Queue(1)\n",
    "q.enqueue(2)\n",
    "q.enqueue(3)\n",
    "\n"
   ]
  },
  {
   "cell_type": "code",
   "execution_count": 77,
   "metadata": {
    "collapsed": false
   },
   "outputs": [
    {
     "name": "stdout",
     "output_type": "stream",
     "text": [
      "1\n",
      "1\n",
      "2\n",
      "3\n",
      "4\n",
      "5\n"
     ]
    }
   ],
   "source": [
    "# Test peek\n",
    "# Should be 1\n",
    "print q.peek()\n",
    "\n",
    "# Test dequeue\n",
    "# Should be 1\n",
    "print q.dequeue()\n",
    "\n",
    "# Test enqueue\n",
    "q.enqueue(4)\n",
    "# Should be 2\n",
    "print q.dequeue()\n",
    "# Should be 3\n",
    "print q.dequeue()\n",
    "# Should be 4\n",
    "print q.dequeue()\n",
    "q.enqueue(5)\n",
    "# Should be 5\n",
    "print q.peek()"
   ]
  },
  {
   "cell_type": "code",
   "execution_count": null,
   "metadata": {
    "collapsed": true
   },
   "outputs": [],
   "source": [
    "class Queue(object):\n",
    "    def __init__(self, head=None):\n",
    "        self.storage = [head]\n",
    "\n",
    "    def enqueue(self, new_element):\n",
    "        self.storage.append(new_element)\n",
    "\n",
    "    def peek(self):\n",
    "        return self.storage[0]\n",
    "\n",
    "    def dequeue(self):\n",
    "        return self.storage.pop(0)"
   ]
  }
 ],
 "metadata": {
  "kernelspec": {
   "display_name": "py2",
   "language": "python",
   "name": "py2"
  },
  "language_info": {
   "codemirror_mode": {
    "name": "ipython",
    "version": 2
   },
   "file_extension": ".py",
   "mimetype": "text/x-python",
   "name": "python",
   "nbconvert_exporter": "python",
   "pygments_lexer": "ipython2",
   "version": "2.7.13"
  }
 },
 "nbformat": 4,
 "nbformat_minor": 2
}
