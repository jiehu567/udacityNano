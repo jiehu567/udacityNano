{
 "cells": [
  {
   "cell_type": "code",
   "execution_count": 2,
   "metadata": {
    "collapsed": false
   },
   "outputs": [
    {
     "name": "stdout",
     "output_type": "stream",
     "text": [
      "True\n",
      "False\n"
     ]
    }
   ],
   "source": [
    "# BST\n",
    "class Node(object):\n",
    "    def __init__(self, value):\n",
    "        self.value = value\n",
    "        self.left = None\n",
    "        self.right = None\n",
    "\n",
    "class BST(object):\n",
    "    def __init__(self, root):\n",
    "        self.root = Node(root)\n",
    "\n",
    "    def insert(self, new_val):\n",
    "        if self:\n",
    "            self = Node(new_val)\n",
    "        else:\n",
    "            if new_val < self.root.value:\n",
    "                self.insert(self.root.left)\n",
    "            elif new_val > self.value:\n",
    "                self.insert(self.root.right)\n",
    "            else:\n",
    "                print \"item existed\"\n",
    "\n",
    "    def search(self, find_val):\n",
    "        \n",
    "        if self.root.value == find_val:\n",
    "            return True\n",
    "        \n",
    "        if find_val < self.root.value:\n",
    "            if self.root.left:\n",
    "                self.search(self.root.left, find_val)\n",
    "            else:\n",
    "                return False\n",
    "        else:\n",
    "            if self.root.right:\n",
    "                self.search(self.root.right, find_val)\n",
    "            else:\n",
    "                return False\n",
    "    \n",
    "# Set up tree\n",
    "tree = BST(4)\n",
    "\n",
    "# Insert elements\n",
    "tree.insert(2)\n",
    "tree.insert(1)\n",
    "tree.insert(3)\n",
    "tree.insert(5)\n",
    "\n",
    "# Check search\n",
    "# Should be True\n",
    "print tree.search(4)\n",
    "# Should be False\n",
    "print tree.search(6)"
   ]
  },
  {
   "cell_type": "code",
   "execution_count": null,
   "metadata": {
    "collapsed": true
   },
   "outputs": [],
   "source": []
  }
 ],
 "metadata": {
  "kernelspec": {
   "display_name": "py2",
   "language": "python",
   "name": "py2"
  },
  "language_info": {
   "codemirror_mode": {
    "name": "ipython",
    "version": 2
   },
   "file_extension": ".py",
   "mimetype": "text/x-python",
   "name": "python",
   "nbconvert_exporter": "python",
   "pygments_lexer": "ipython2",
   "version": "2.7.13"
  }
 },
 "nbformat": 4,
 "nbformat_minor": 2
}
