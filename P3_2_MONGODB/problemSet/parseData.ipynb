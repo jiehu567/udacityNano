{
 "cells": [
  {
   "cell_type": "code",
   "execution_count": 2,
   "metadata": {
    "collapsed": true
   },
   "outputs": [],
   "source": [
    "#!/usr/bin/env python\n",
    "# -*- coding: utf-8 -*-\n",
    "\"\"\"\n",
    "In this problem set you work with another type of infobox data, audit it,\n",
    "clean it, come up with a data model, insert it into MongoDB and then run some\n",
    "queries against your database. The set contains data about Arachnid class\n",
    "animals.\n",
    "\n",
    "Your task in this exercise is to parse the file, process only the fields that\n",
    "are listed in the FIELDS dictionary as keys, and return a list of dictionaries\n",
    "of cleaned values. \n",
    "\n",
    "The following things should be done:\n",
    "- keys of the dictionary changed according to the mapping in FIELDS dictionary\n",
    "- trim out redundant description in parenthesis from the 'rdf-schema#label'\n",
    "  field, like \"(spider)\"\n",
    "- if 'name' is \"NULL\" or contains non-alphanumeric characters, set it to the\n",
    "  same value as 'label'.\n",
    "- if a value of a field is \"NULL\", convert it to None\n",
    "- if there is a value in 'synonym', it should be converted to an array (list)\n",
    "  by stripping the \"{}\" characters and splitting the string on \"|\". Rest of the\n",
    "  cleanup is up to you, e.g. removing \"*\" prefixes etc. If there is a singular\n",
    "  synonym, the value should still be formatted in a list.\n",
    "- strip leading and ending whitespace from all fields, if there is any\n",
    "- the output structure should be as follows:\n",
    "\n",
    "[ { 'label': 'Argiope',\n",
    "    'uri': 'http://dbpedia.org/resource/Argiope_(spider)',\n",
    "    'description': 'The genus Argiope includes rather large and spectacular spiders that often ...',\n",
    "    'name': 'Argiope',\n",
    "    'synonym': [\"One\", \"Two\"],\n",
    "    'classification': {\n",
    "                      'family': 'Orb-weaver spider',\n",
    "                      'class': 'Arachnid',\n",
    "                      'phylum': 'Arthropod',\n",
    "                      'order': 'Spider',\n",
    "                      'kingdom': 'Animal',\n",
    "                      'genus': None\n",
    "                      }\n",
    "  },\n",
    "  { 'label': ... , }, ...\n",
    "]\n",
    "\n",
    "  * Note that the value associated with the classification key is a dictionary\n",
    "    with taxonomic labels.\n",
    "\"\"\"\n",
    "import codecs\n",
    "import csv\n",
    "import json\n",
    "import pprint\n",
    "import re\n",
    "\n",
    "DATAFILE = 'arachnid.csv'\n",
    "FIELDS ={'rdf-schema#label': 'label',\n",
    "         'URI': 'uri',\n",
    "         'rdf-schema#comment': 'description',\n",
    "         'synonym': 'synonym',\n",
    "         'name': 'name',\n",
    "         'family_label': 'family',\n",
    "         'class_label': 'class',\n",
    "         'phylum_label': 'phylum',\n",
    "         'order_label': 'order',\n",
    "         'kingdom_label': 'kingdom',\n",
    "         'genus_label': 'genus'}\n"
   ]
  },
  {
   "cell_type": "code",
   "execution_count": 8,
   "metadata": {
    "collapsed": true
   },
   "outputs": [],
   "source": [
    "def change_keys(d):\n",
    "    for key in FIELDS.keys():\n",
    "        d[FIELDS[key]] = d.pop(key)"
   ]
  },
  {
   "cell_type": "code",
   "execution_count": 19,
   "metadata": {
    "collapsed": false
   },
   "outputs": [
    {
     "data": {
      "text/plain": [
       "['Argiope ']"
      ]
     },
     "execution_count": 19,
     "metadata": {},
     "output_type": "execute_result"
    }
   ],
   "source": [
    "re.findall(string=\"Argiope (spider)\", pattern=r\"(.*)\\(.*\\)\")[0]"
   ]
  },
  {
   "cell_type": "code",
   "execution_count": 28,
   "metadata": {
    "collapsed": false
   },
   "outputs": [
    {
     "data": {
      "text/plain": [
       "True"
      ]
     },
     "execution_count": 28,
     "metadata": {},
     "output_type": "execute_result"
    }
   ],
   "source": [
    "re.findall(string= \"Tick\", pattern=r\"(.*)\\(.*\\)\") == []"
   ]
  },
  {
   "cell_type": "code",
   "execution_count": 76,
   "metadata": {
    "collapsed": false
   },
   "outputs": [],
   "source": [
    "#   rdf-schema#label\n",
    "with open(DATAFILE, \"r\") as f:\n",
    "    reader = csv.DictReader(f)\n",
    "    for i in range(3):\n",
    "        l = reader.next()\n",
    "\n",
    "    for line in reader:\n",
    "        if line.has_key('classification'):\n",
    "            print line['classification']"
   ]
  },
  {
   "cell_type": "code",
   "execution_count": 71,
   "metadata": {
    "collapsed": false
   },
   "outputs": [
    {
     "data": {
      "text/plain": [
       "['Hydracarina', 'Hydrachnellae', 'Hydrachnidia']"
      ]
     },
     "execution_count": 71,
     "metadata": {},
     "output_type": "execute_result"
    }
   ],
   "source": [
    "snames = ['* Hydracarina', '* Hydrachnellae', '* Hydrachnidia']\n",
    "new_snames = []\n",
    "for sname in snames:\n",
    "    if sname[0] == '*':\n",
    "        new_snames.append(sname[1:].lstrip())\n",
    "snames = new_snames\n",
    "snames"
   ]
  },
  {
   "cell_type": "code",
   "execution_count": 72,
   "metadata": {
    "collapsed": false
   },
   "outputs": [],
   "source": [
    "process_fields = FIELDS.keys()\n",
    "data = []\n",
    "with open(DATAFILE, \"r\") as f:\n",
    "    reader = csv.DictReader(f)\n",
    "    for i in range(3):\n",
    "        l = reader.next()\n",
    "\n",
    "    for line in reader:\n",
    "        # 1. change key\n",
    "        change_keys(line)\n",
    "        \n",
    "        # 2. trim out redundant description in parenthesis\n",
    "        pattern = re.findall(string= line['label'], pattern=r\"(.*)\\(.*\\)\")\n",
    "        if pattern != []:\n",
    "            line['label'] = pattern[0].strip()\n",
    "        \n",
    "        # 3. reset name if it's none\n",
    "        if line['name'] == \"NULL\" or re.match('^[\\w-]+$', line['name']) is None:\n",
    "            line['name'] = line['label']\n",
    "        \n",
    "        # 4. convert \"NULL\" to None\n",
    "        for key in FIELDS.values():\n",
    "            if line[key] == \"NULL\":\n",
    "                line[key] = None\n",
    "            \n",
    "                \n",
    "        # 5. synonym is not None, convert to list\n",
    "        if line['synonym'] is not None:\n",
    "            snames_str = re.findall('\\{(.*)\\}', line['synonym'])\n",
    "            if snames_str == []:\n",
    "                line['synonym'] = [line['synonym']]\n",
    "            else:\n",
    "                # line['synonym'] = snames_str[0].split('|')\n",
    "                snames = snames_str[0].split('|')\n",
    "                new_snames = []\n",
    "                for sname in snames:\n",
    "                    if sname[0] == '*':\n",
    "                        new_snames.append(sname[1:].lstrip())\n",
    "                    else:\n",
    "                        new_snames.append(sname.lstrip())\n",
    "                line['synonym'] = new_snames\n",
    "\n",
    "        data.append(line)"
   ]
  },
  {
   "cell_type": "code",
   "execution_count": 74,
   "metadata": {
    "collapsed": false
   },
   "outputs": [
    {
     "ename": "KeyError",
     "evalue": "'classification'",
     "output_type": "error",
     "traceback": [
      "\u001b[0;31m---------------------------------------------------------------------------\u001b[0m",
      "\u001b[0;31mKeyError\u001b[0m                                  Traceback (most recent call last)",
      "\u001b[0;32m<ipython-input-74-f9c1a86457db>\u001b[0m in \u001b[0;36m<module>\u001b[0;34m()\u001b[0m\n\u001b[1;32m      1\u001b[0m \u001b[0;32mfor\u001b[0m \u001b[0mline\u001b[0m \u001b[0;32min\u001b[0m \u001b[0mdata\u001b[0m\u001b[0;34m:\u001b[0m\u001b[0;34m\u001b[0m\u001b[0m\n\u001b[0;32m----> 2\u001b[0;31m     \u001b[0;32mprint\u001b[0m \u001b[0mline\u001b[0m\u001b[0;34m[\u001b[0m\u001b[0;34m'classification'\u001b[0m\u001b[0;34m]\u001b[0m\u001b[0;34m\u001b[0m\u001b[0m\n\u001b[0m",
      "\u001b[0;31mKeyError\u001b[0m: 'classification'"
     ]
    }
   ],
   "source": [
    "for line in data:\n",
    "    print line['classification']"
   ]
  },
  {
   "cell_type": "code",
   "execution_count": 61,
   "metadata": {
    "collapsed": false
   },
   "outputs": [
    {
     "data": {
      "text/plain": [
       "'Heterometrus (Chersonesometrus) Couzijn 1978'"
      ]
     },
     "execution_count": 61,
     "metadata": {},
     "output_type": "execute_result"
    }
   ],
   "source": [
    "'* Heterometrus (Chersonesometrus) Couzijn 1978'[1:].lstrip()"
   ]
  },
  {
   "cell_type": "code",
   "execution_count": 86,
   "metadata": {
    "collapsed": true
   },
   "outputs": [],
   "source": [
    "def process_file(filename, fields):\n",
    "\n",
    "    process_fields = fields.keys()\n",
    "    data = []\n",
    "    with open(filename, \"r\") as f:\n",
    "        reader = csv.DictReader(f)\n",
    "        for i in range(3):\n",
    "            l = reader.next()\n",
    "\n",
    "        for line in reader:\n",
    "            # 1. change key\n",
    "            change_keys(line)\n",
    "\n",
    "            # 2. trim out redundant description in parenthesis\n",
    "            pattern = re.findall(string= line['label'], pattern=r\"(.*)\\(.*\\)\")\n",
    "            if pattern != []:\n",
    "                line['label'] = pattern[0].strip()\n",
    "\n",
    "            # 3. reset name if it's none\n",
    "            if line['name'] == \"NULL\" or re.match('^[\\w-]+$', line['name']) is None:\n",
    "                line['name'] = line['label']\n",
    "\n",
    "            # 4. convert \"NULL\" to None\n",
    "            for key in FIELDS.values():\n",
    "                if line[key] == \"NULL\":\n",
    "                    line[key] = None\n",
    "\n",
    "\n",
    "            # 5. synonym is not None, convert to list\n",
    "            if line['synonym'] is not None:\n",
    "                snames_str = re.findall('\\{(.*)\\}', line['synonym'])\n",
    "                if snames_str == []:\n",
    "                    line['synonym'] = [line['synonym']]\n",
    "                else:\n",
    "                    # line['synonym'] = snames_str[0].split('|')\n",
    "                    snames = snames_str[0].split('|')\n",
    "                    new_snames = []\n",
    "                    for sname in snames:\n",
    "                        if sname[0] == '*':\n",
    "                            new_snames.append(sname[1:].lstrip())\n",
    "                        else:\n",
    "                            new_snames.append(sname.lstrip())\n",
    "                    line['synonym'] = new_snames\n",
    "            new_dic = {}\n",
    "            classification_keys = [\"kingdom\", \"family\",\"order\",\"phylum\",\"genus\",\"class\"]\n",
    "            for old_key, value in line.items():\n",
    "                class_d = {}\n",
    "                if old_key in FIELDS.values():\n",
    "                    if old_key not in classification_keys:\n",
    "                        new_dic[old_key] = value\n",
    "                    else:\n",
    "                        for c_key in classification_keys:\n",
    "                            class_d[c_key] = line[c_key]\n",
    "                        new_dic['classification'] = class_d\n",
    "            \n",
    "            data.append(new_dic)\n",
    "            \n",
    "    return data"
   ]
  },
  {
   "cell_type": "code",
   "execution_count": 87,
   "metadata": {
    "collapsed": true
   },
   "outputs": [],
   "source": [
    "def parse_array(v):\n",
    "    if (v[0] == \"{\") and (v[-1] == \"}\"):\n",
    "        v = v.lstrip(\"{\")\n",
    "        v = v.rstrip(\"}\")\n",
    "        v_array = v.split(\"|\")\n",
    "        v_array = [i.strip() for i in v_array]\n",
    "        return v_array\n",
    "    return [v]"
   ]
  },
  {
   "cell_type": "code",
   "execution_count": 92,
   "metadata": {
    "collapsed": false
   },
   "outputs": [
    {
     "name": "stdout",
     "output_type": "stream",
     "text": [
      "Your first entry:\n",
      "{'classification': {'class': 'Arachnid',\n",
      "                    'family': 'Orb-weaver spider',\n",
      "                    'genus': None,\n",
      "                    'kingdom': 'Animal',\n",
      "                    'order': 'Spider',\n",
      "                    'phylum': 'Arthropod'},\n",
      " 'description': 'The genus Argiope includes rather large and spectacular spiders that often have a strikingly coloured abdomen. These spiders are distributed throughout the world. Most countries in tropical or temperate climates host one or more species that are similar in appearance. The etymology of the name is from a Greek name meaning silver-faced.',\n",
      " 'label': 'Argiope',\n",
      " 'name': 'Argiope',\n",
      " 'synonym': None,\n",
      " 'uri': 'http://dbpedia.org/resource/Argiope_(spider)'}\n"
     ]
    }
   ],
   "source": [
    "\n",
    "data = process_file(DATAFILE, FIELDS)\n",
    "print \"Your first entry:\"\n",
    "pprint.pprint(data[0])\n",
    "first_entry = {\n",
    "    \"synonym\": None, \n",
    "    \"name\": \"Argiope\", \n",
    "    \"classification\": {\n",
    "        \"kingdom\": \"Animal\", \n",
    "        \"family\": \"Orb-weaver spider\", \n",
    "        \"order\": \"Spider\", \n",
    "        \"phylum\": \"Arthropod\", \n",
    "        \"genus\": None, \n",
    "        \"class\": \"Arachnid\"\n",
    "    }, \n",
    "    \"uri\": \"http://dbpedia.org/resource/Argiope_(spider)\", \n",
    "    \"label\": \"Argiope\", \n",
    "    \"description\": \"The genus Argiope includes rather large and spectacular spiders that often have a strikingly coloured abdomen. These spiders are distributed throughout the world. Most countries in tropical or temperate climates host one or more species that are similar in appearance. The etymology of the name is from a Greek name meaning silver-faced.\"\n",
    "}\n",
    "\n",
    "len(data)\n",
    "data[0]\n",
    "assert len(data) == 76\n",
    "assert data[0] == first_entry\n",
    "assert data[17][\"name\"] == \"Ogdenia\"\n",
    "assert data[48][\"label\"] == \"Hydrachnidiae\"\n",
    "assert data[14][\"synonym\"] == [\"Cyrene Peckham & Peckham\"]\n",
    "\n"
   ]
  },
  {
   "cell_type": "code",
   "execution_count": null,
   "metadata": {
    "collapsed": true
   },
   "outputs": [],
   "source": []
  }
 ],
 "metadata": {
  "anaconda-cloud": {},
  "kernelspec": {
   "display_name": "Python 2",
   "language": "python",
   "name": "python2"
  },
  "language_info": {
   "codemirror_mode": {
    "name": "ipython",
    "version": 2
   },
   "file_extension": ".py",
   "mimetype": "text/x-python",
   "name": "python",
   "nbconvert_exporter": "python",
   "pygments_lexer": "ipython2",
   "version": "2.7.12"
  }
 },
 "nbformat": 4,
 "nbformat_minor": 2
}
