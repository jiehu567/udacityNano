{
 "cells": [
  {
   "cell_type": "code",
   "execution_count": 1,
   "metadata": {
    "collapsed": true
   },
   "outputs": [],
   "source": [
    "import csv\n",
    "import pandas\n",
    "import re"
   ]
  },
  {
   "cell_type": "code",
   "execution_count": 3,
   "metadata": {
    "collapsed": false
   },
   "outputs": [],
   "source": [
    "raw_data = []\n",
    "with open('wser2003.txt', 'r') as f:\n",
    "    for line in f:\n",
    "        raw_data.append(line)"
   ]
  },
  {
   "cell_type": "code",
   "execution_count": 12,
   "metadata": {
    "collapsed": false
   },
   "outputs": [
    {
     "data": {
      "text/plain": [
       "['Pl',\n",
       " 'Last Name',\n",
       " 'First Name',\n",
       " 'Bib',\n",
       " 'Time',\n",
       " 'Pace',\n",
       " 'D-Pl Div',\n",
       " 'Hometown',\n",
       " 'Start',\n",
       " 'Red Star',\n",
       " 'LB Mtn',\n",
       " 'DThumb',\n",
       " 'Michigan',\n",
       " 'Foresthill',\n",
       " 'River',\n",
       " 'Hwy49',\n",
       " 'Finish']"
      ]
     },
     "execution_count": 12,
     "metadata": {},
     "output_type": "execute_result"
    }
   ],
   "source": [
    "firstLine = raw_data[0]\n",
    "header = []\n",
    "for element in firstLine.split('  '):\n",
    "    if element != \"\":\n",
    "        header.append(element.strip())\n",
    "header"
   ]
  },
  {
   "cell_type": "code",
   "execution_count": 34,
   "metadata": {
    "collapsed": false
   },
   "outputs": [
    {
     "data": {
      "text/plain": [
       "['  1  Jurek',\n",
       " '',\n",
       " '',\n",
       " '',\n",
       " ' Scott',\n",
       " '',\n",
       " '',\n",
       " '',\n",
       " 'M1  16:01:18  9:37',\n",
       " '  1  M1829  Seattle, WA',\n",
       " '',\n",
       " '',\n",
       " '',\n",
       " '',\n",
       " '',\n",
       " '',\n",
       " ' OUT SAT 05:00  IN SAT 07:35',\n",
       " 'IN SAT 09:15',\n",
       " 'IN SAT 12:13',\n",
       " 'IN SAT 13:40  OUT SAT 14:41',\n",
       " 'IN SAT 17:07',\n",
       " 'OUT SAT 19:52  FIN SAT 21:01\\n']"
      ]
     },
     "execution_count": 34,
     "metadata": {},
     "output_type": "execute_result"
    }
   ],
   "source": [
    "first_line = raw_data[1]\n",
    "first_line.split('   ')"
   ]
  },
  {
   "cell_type": "code",
   "execution_count": 31,
   "metadata": {
    "collapsed": false
   },
   "outputs": [
    {
     "name": "stdout",
     "output_type": "stream",
     "text": [
      "False\n"
     ]
    }
   ],
   "source": [
    "print re.match(\"[0-9]+:[0-9]+\",\"17\") is not None"
   ]
  },
  {
   "cell_type": "code",
   "execution_count": 40,
   "metadata": {
    "collapsed": false
   },
   "outputs": [
    {
     "data": {
      "text/plain": [
       "['1',\n",
       " 'Jurek',\n",
       " 'Scott',\n",
       " 'M1',\n",
       " '16:01:18',\n",
       " '9:37',\n",
       " '1',\n",
       " 'M1829',\n",
       " 'Seattle,',\n",
       " 'WA',\n",
       " 'OUT',\n",
       " 'SAT',\n",
       " '05:00',\n",
       " 'IN',\n",
       " 'SAT',\n",
       " '07:35',\n",
       " 'IN',\n",
       " 'SAT',\n",
       " '09:15',\n",
       " 'IN',\n",
       " 'SAT',\n",
       " '12:13',\n",
       " 'IN',\n",
       " 'SAT',\n",
       " '13:40',\n",
       " 'OUT',\n",
       " 'SAT',\n",
       " '14:41',\n",
       " 'IN',\n",
       " 'SAT',\n",
       " '17:07',\n",
       " 'OUT',\n",
       " 'SAT',\n",
       " '19:52',\n",
       " 'FIN',\n",
       " 'SAT',\n",
       " '21:01']"
      ]
     },
     "execution_count": 40,
     "metadata": {},
     "output_type": "execute_result"
    }
   ],
   "source": [
    "raw_data[1].split()"
   ]
  },
  {
   "cell_type": "code",
   "execution_count": 42,
   "metadata": {
    "collapsed": false
   },
   "outputs": [],
   "source": [
    "PL = []\n",
    "first_names = []\n",
    "last_names = []\n",
    "for line in raw_data:\n",
    "    try:\n",
    "        PL.append(line.split()[0])\n",
    "    except:\n",
    "        PL.append(None)\n",
    "    try:\n",
    "        first_names.append(line.split()[1])\n",
    "    except:\n",
    "        first_names.append(None)\n",
    "    try:\n",
    "        last_names.append(line.split()[2])\n",
    "    except:\n",
    "        last_names.append(None)"
   ]
  },
  {
   "cell_type": "code",
   "execution_count": 46,
   "metadata": {
    "collapsed": false
   },
   "outputs": [
    {
     "data": {
      "text/plain": [
       "[' 19  Simonsen          Rick             71  20:05:23  12:04    7  M4049  El Dorado Hills, CA              OUT SAT 05:00                 IN SAT 09:41                  IN SAT 14:49  OUT SAT 16:06   IN SAT 19:11   OUT SAT 23:34  FIN SUN 01:05\\n',\n",
       " ' 20  Park              Luanne           F3  20:10:33  12:07    2  F4049  Redding, CA                      OUT SAT 05:00  IN SAT 08:04   IN SAT 10:00                  IN SAT 15:30  OUT SAT 16:46   IN SAT 19:58   OUT SAT 23:36  FIN SUN 01:10\\n',\n",
       " '\\n',\n",
       " 'Pl   Last Name         First Name      Bib  Time      Pace   D-Pl Div    Hometown                         Start          Red Star       LB Mtn         DThumb         Michigan      Foresthill      River         Hwy49          Finish\\n']"
      ]
     },
     "execution_count": 46,
     "metadata": {},
     "output_type": "execute_result"
    }
   ],
   "source": [
    "raw_data[19:23]"
   ]
  },
  {
   "cell_type": "markdown",
   "metadata": {},
   "source": [
    "Task for data clean:\n",
    "1. PL numbers -> each dictionary\n",
    "2. First Name and Last Name to dictionary\n",
    "3. Extract time to dictionary\n",
    "4. Put all problem data into bad"
   ]
  }
 ],
 "metadata": {
  "anaconda-cloud": {},
  "kernelspec": {
   "display_name": "Python 2",
   "language": "python",
   "name": "python2"
  },
  "language_info": {
   "codemirror_mode": {
    "name": "ipython",
    "version": 2
   },
   "file_extension": ".py",
   "mimetype": "text/x-python",
   "name": "python",
   "nbconvert_exporter": "python",
   "pygments_lexer": "ipython2",
   "version": "2.7.12"
  }
 },
 "nbformat": 4,
 "nbformat_minor": 2
}
