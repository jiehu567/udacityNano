{
 "cells": [
  {
   "cell_type": "code",
   "execution_count": 8,
   "metadata": {
    "collapsed": true
   },
   "outputs": [],
   "source": [
    "#!/usr/bin/env python\n",
    "# -*- coding: utf-8 -*-\n",
    "\"\"\"\n",
    "In this problem set you work with cities infobox data, audit it, come up with a\n",
    "cleaning idea and then clean it up.\n",
    "\n",
    "Since in the previous quiz you made a decision on which value to keep for the\n",
    "\"areaLand\" field, you now know what has to be done.\n",
    "\n",
    "Finish the function fix_area(). It will receive a string as an input, and it\n",
    "has to return a float representing the value of the area or None.\n",
    "You have to change the function fix_area. You can use extra functions if you\n",
    "like, but changes to process_file will not be taken into account.\n",
    "The rest of the code is just an example on how this function can be used.\n",
    "\"\"\"\n",
    "import codecs\n",
    "import csv\n",
    "import json\n",
    "import pprint\n",
    "import re\n",
    "\n",
    "CITIES = 'cities.csv'\n",
    "\n"
   ]
  },
  {
   "cell_type": "code",
   "execution_count": 4,
   "metadata": {
    "collapsed": true
   },
   "outputs": [],
   "source": [
    "def detect_type(string):\n",
    "    if string == \"NULL\" or string == \"\":\n",
    "        return type(None)\n",
    "    elif string.startswith(\"{\"):\n",
    "        return type(list())\n",
    "    elif string.isdigit():\n",
    "        return type(int())\n",
    "    else:\n",
    "        try: \n",
    "            float(string)\n",
    "            return type(float())\n",
    "        except ValueError:\n",
    "            return type(str())"
   ]
  },
  {
   "cell_type": "code",
   "execution_count": 2,
   "metadata": {
    "collapsed": true
   },
   "outputs": [],
   "source": [
    "areaLand_values = []\n",
    "\n",
    "with open(CITIES, 'r') as f:\n",
    "    reader = csv.DictReader(f)\n",
    "    for i,line in enumerate(reader):\n",
    "        if i > 4:\n",
    "            if line.has_key('areaLand'):\n",
    "                areaLand_values.append(line['areaLand'])"
   ]
  },
  {
   "cell_type": "code",
   "execution_count": 3,
   "metadata": {
    "collapsed": false
   },
   "outputs": [
    {
     "data": {
      "text/plain": [
       "['NULL',\n",
       " 'NULL',\n",
       " 'NULL',\n",
       " 'NULL',\n",
       " '{1.01787e+08|1.019e+08}',\n",
       " '{3.15979e+07|3.17e+07}',\n",
       " '{5.51667e+07|5.53e+07}',\n",
       " '{6.36e+07|6.37137e+07}',\n",
       " '{3.78138e+07|3.79e+07}',\n",
       " '{2.02e+07|2.02019e+07}',\n",
       " '{2.87489e+08|2.875e+08}',\n",
       " '{2.5355e+07|2.5356e+07}',\n",
       " '{2.512e+08|2.51229e+08}',\n",
       " '{8.25e+07|8.26206e+07}',\n",
       " '3.58195e+07',\n",
       " '1.13e+07',\n",
       " '5.32e+07',\n",
       " '{4.48e+06|4.48068e+06}',\n",
       " '{1.458e+07|1.45816e+07}',\n",
       " '{1.71198e+07|1.712e+07}',\n",
       " '{2.07e+06|2.07199e+06}',\n",
       " '{4.61e+06|4.61018e+06}',\n",
       " '{3.26e+06|3.26339e+06}',\n",
       " '{9.057e+07|9.05719e+07}',\n",
       " '{1.274e+07|1.27427e+07}',\n",
       " '{3.136e+07|3.13648e+07}',\n",
       " '{5.31466e+07|5.315e+07}',\n",
       " '{3.43173e+07|3.432e+07}',\n",
       " '{5.33538e+06|5.34e+06}',\n",
       " '{8.184e+07|8.18436e+07}',\n",
       " '{1.13959e+07|1.14e+07}',\n",
       " '{2.056e+07|2.05645e+07}',\n",
       " '{9.782e+07|9.78239e+07}',\n",
       " 'NULL',\n",
       " 'NULL',\n",
       " '{4.94688e+06|4.95e+06}',\n",
       " '{1.20175e+07|1.202e+07}']"
      ]
     },
     "execution_count": 3,
     "metadata": {},
     "output_type": "execute_result"
    }
   ],
   "source": [
    "areaLand_values"
   ]
  },
  {
   "cell_type": "code",
   "execution_count": 51,
   "metadata": {
    "collapsed": false
   },
   "outputs": [],
   "source": [
    "def significant_num_in_str(s):\n",
    "    sig_num = None\n",
    "    length = 0\n",
    "    for num_str in re.findall('\\{(.*)\\}', s)[0].split('|'):\n",
    "        if len(num_str) > length:\n",
    "            sig_num = float(num_str)\n",
    "            length = len(num_str)\n",
    "    return sig_num"
   ]
  },
  {
   "cell_type": "code",
   "execution_count": 50,
   "metadata": {
    "collapsed": false
   },
   "outputs": [
    {
     "data": {
      "text/plain": [
       "4946880.0"
      ]
     },
     "execution_count": 50,
     "metadata": {},
     "output_type": "execute_result"
    }
   ],
   "source": []
  },
  {
   "cell_type": "code",
   "execution_count": 53,
   "metadata": {
    "collapsed": false
   },
   "outputs": [
    {
     "data": {
      "text/plain": [
       "63713700.0"
      ]
     },
     "execution_count": 53,
     "metadata": {},
     "output_type": "execute_result"
    }
   ],
   "source": [
    "fix_area('{6.36e+07|6.37137e+07}')"
   ]
  },
  {
   "cell_type": "code",
   "execution_count": 54,
   "metadata": {
    "collapsed": true
   },
   "outputs": [],
   "source": [
    "def fix_area(area):\n",
    "\n",
    "    # YOUR CODE HERE\n",
    "    if detect_type(area) == type(float()):\n",
    "        return float(area)\n",
    "    elif detect_type(area) == type([]):\n",
    "        return significant_num_in_str(area)\n",
    "    else:\n",
    "        return None\n",
    "    \n",
    "\n",
    "\n",
    "\n"
   ]
  },
  {
   "cell_type": "code",
   "execution_count": 56,
   "metadata": {
    "collapsed": false
   },
   "outputs": [
    {
     "name": "stdout",
     "output_type": "stream",
     "text": [
      "Printing three example results:\n",
      "None\n",
      "101787000.0\n",
      "31597900.0\n"
     ]
    }
   ],
   "source": [
    "def process_file(filename):\n",
    "    # CHANGES TO THIS FUNCTION WILL BE IGNORED WHEN YOU SUBMIT THE EXERCISE\n",
    "    data = []\n",
    "\n",
    "    with open(filename, \"r\") as f:\n",
    "        reader = csv.DictReader(f)\n",
    "\n",
    "        #skipping the extra metadata\n",
    "        for i in range(3):\n",
    "            l = reader.next()\n",
    "\n",
    "        # processing file\n",
    "        for line in reader:\n",
    "            # calling your function to fix the area value\n",
    "            if \"areaLand\" in line:\n",
    "                line[\"areaLand\"] = fix_area(line[\"areaLand\"])\n",
    "            data.append(line)\n",
    "\n",
    "    return data\n",
    "\n",
    "\n",
    "def test():\n",
    "    data = process_file(CITIES)\n",
    "\n",
    "    print \"Printing three example results:\"\n",
    "    for n in range(5,8):\n",
    "        pprint.pprint(data[n][\"areaLand\"])\n",
    "\n",
    "    assert data[3][\"areaLand\"] == None        \n",
    "    assert data[8][\"areaLand\"] == 55166700.0\n",
    "    assert data[20][\"areaLand\"] == 14581600.0\n",
    "    assert data[33][\"areaLand\"] == 20564500.0    \n",
    "    # print data[8][\"areaLand\"]\n",
    "\n",
    "if __name__ == \"__main__\":\n",
    "    test()"
   ]
  },
  {
   "cell_type": "code",
   "execution_count": null,
   "metadata": {
    "collapsed": true
   },
   "outputs": [],
   "source": []
  }
 ],
 "metadata": {
  "anaconda-cloud": {},
  "kernelspec": {
   "display_name": "Python 2",
   "language": "python",
   "name": "python2"
  },
  "language_info": {
   "codemirror_mode": {
    "name": "ipython",
    "version": 2
   },
   "file_extension": ".py",
   "mimetype": "text/x-python",
   "name": "python",
   "nbconvert_exporter": "python",
   "pygments_lexer": "ipython2",
   "version": "2.7.12"
  }
 },
 "nbformat": 4,
 "nbformat_minor": 2
}
