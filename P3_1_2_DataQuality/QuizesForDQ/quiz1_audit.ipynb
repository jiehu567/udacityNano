{
 "cells": [
  {
   "cell_type": "code",
   "execution_count": 1,
   "metadata": {
    "collapsed": true
   },
   "outputs": [],
   "source": [
    "#!/usr/bin/env python\n",
    "# -*- coding: utf-8 -*-\n",
    "\"\"\"\n",
    "In this problem set you work with cities infobox data, audit it, come up with a\n",
    "cleaning idea and then clean it up. In the first exercise we want you to audit\n",
    "the datatypes that can be found in some particular fields in the dataset.\n",
    "The possible types of values can be:\n",
    "- NoneType if the value is a string \"NULL\" or an empty string \"\"\n",
    "- list, if the value starts with \"{\"\n",
    "- int, if the value can be cast to int\n",
    "- float, if the value can be cast to float, but CANNOT be cast to int.\n",
    "   For example, '3.23e+07' should be considered a float because it can be cast\n",
    "   as float but int('3.23e+07') will throw a ValueError\n",
    "- 'str', for all other values\n",
    "\n",
    "The audit_file function should return a dictionary containing fieldnames and a \n",
    "SET of the types that can be found in the field. e.g.\n",
    "{\"field1\": set([type(float()), type(int()), type(str())]),\n",
    " \"field2\": set([type(str())]),\n",
    "  ....\n",
    "}\n",
    "The type() function returns a type object describing the argument given to the \n",
    "function. You can also use examples of objects to create type objects, e.g.\n",
    "type(1.1) for a float: see the test function below for examples.\n",
    "\n",
    "Note that the first three rows (after the header row) in the cities.csv file\n",
    "are not actual data points. The contents of these rows should note be included\n",
    "when processing data types. Be sure to include functionality in your code to\n",
    "skip over or detect these rows.\n",
    "\"\"\"\n",
    "import codecs\n",
    "import csv\n",
    "import json\n",
    "import pprint\n",
    "\n",
    "CITIES = 'cities.csv'\n",
    "\n",
    "FIELDS = [\"name\", \"timeZone_label\", \"utcOffset\", \"homepage\", \"governmentType_label\",\n",
    "          \"isPartOf_label\", \"areaCode\", \"populationTotal\", \"elevation\",\n",
    "          \"maximumElevation\", \"minimumElevation\", \"populationDensity\",\n",
    "          \"wgs84_pos#lat\", \"wgs84_pos#long\", \"areaLand\", \"areaMetro\", \"areaUrban\"]\n",
    "\n",
    "\n"
   ]
  },
  {
   "cell_type": "code",
   "execution_count": 2,
   "metadata": {
    "collapsed": true
   },
   "outputs": [],
   "source": [
    "import re\n",
    "\n",
    "def detect_type(string):\n",
    "    if string == \"NULL\" or string == \"\":\n",
    "        return type(None)\n",
    "    elif string.startswith(\"{\"):\n",
    "        return type(list())\n",
    "    elif string.isdigit():\n",
    "        return type(int())\n",
    "    else:\n",
    "        try: \n",
    "            float(string)\n",
    "            return type(float())\n",
    "        except ValueError:\n",
    "            return type(str())\n",
    "        "
   ]
  },
  {
   "cell_type": "code",
   "execution_count": 3,
   "metadata": {
    "collapsed": false
   },
   "outputs": [],
   "source": [
    "fieldtypes = {}\n",
    "with open(CITIES, 'r') as f:\n",
    "    reader = csv.DictReader(f)\n",
    "    for row in reader:\n",
    "        for key in FIELDS:\n",
    "            type_of_cell = detect_type(row[key])\n",
    "            if fieldtypes.has_key(key):\n",
    "                fieldtypes[key].add(type_of_cell)\n",
    "            else:\n",
    "                fieldtypes[key] = set([type_of_cell])\n"
   ]
  },
  {
   "cell_type": "code",
   "execution_count": null,
   "metadata": {
    "collapsed": false
   },
   "outputs": [],
   "source": []
  },
  {
   "cell_type": "code",
   "execution_count": 4,
   "metadata": {
    "collapsed": false
   },
   "outputs": [],
   "source": [
    "def audit_file(filename, fields):\n",
    "    fieldtypes = {}\n",
    "\n",
    "    # YOUR CODE HERE\n",
    "    with open(filename, 'r') as f:\n",
    "        reader = csv.DictReader(f)\n",
    "        \n",
    "        for i, row in enumerate(reader):\n",
    "            if i > 4:                        # Skip to 5th row\n",
    "                for key in FIELDS:\n",
    "                    type_of_cell = detect_type(row[key])\n",
    "                    if fieldtypes.has_key(key):\n",
    "                        fieldtypes[key].add(type_of_cell)\n",
    "                    else:\n",
    "                        fieldtypes[key] = set([type_of_cell])\n",
    "    return fieldtypes\n",
    "\n",
    "\n"
   ]
  },
  {
   "cell_type": "code",
   "execution_count": 5,
   "metadata": {
    "collapsed": false
   },
   "outputs": [
    {
     "data": {
      "text/plain": [
       "{'areaCode': {int, NoneType, str},\n",
       " 'areaLand': {float, list, NoneType},\n",
       " 'areaMetro': {float, NoneType},\n",
       " 'areaUrban': {float, NoneType},\n",
       " 'elevation': {float, list, NoneType},\n",
       " 'governmentType_label': {NoneType, str},\n",
       " 'homepage': {NoneType, str},\n",
       " 'isPartOf_label': {list, NoneType, str},\n",
       " 'maximumElevation': {NoneType},\n",
       " 'minimumElevation': {NoneType},\n",
       " 'name': {list, NoneType, str},\n",
       " 'populationDensity': {float, list, NoneType},\n",
       " 'populationTotal': {int, NoneType},\n",
       " 'timeZone_label': {NoneType, str},\n",
       " 'utcOffset': {float, list, NoneType, str},\n",
       " 'wgs84_pos#lat': {float},\n",
       " 'wgs84_pos#long': {float}}"
      ]
     },
     "execution_count": 5,
     "metadata": {},
     "output_type": "execute_result"
    }
   ],
   "source": [
    "fieldtypes = {}\n",
    "fieldtypes = audit_file(CITIES, FIELDS)\n",
    "fieldtypes"
   ]
  },
  {
   "cell_type": "code",
   "execution_count": 6,
   "metadata": {
    "collapsed": false
   },
   "outputs": [
    {
     "name": "stdout",
     "output_type": "stream",
     "text": [
      "{'areaCode': set([<type 'int'>, <type 'NoneType'>, <type 'str'>]),\n",
      " 'areaLand': set([<type 'float'>, <type 'list'>, <type 'NoneType'>]),\n",
      " 'areaMetro': set([<type 'float'>, <type 'NoneType'>]),\n",
      " 'areaUrban': set([<type 'float'>, <type 'NoneType'>]),\n",
      " 'elevation': set([<type 'float'>, <type 'list'>, <type 'NoneType'>]),\n",
      " 'governmentType_label': set([<type 'NoneType'>, <type 'str'>]),\n",
      " 'homepage': set([<type 'NoneType'>, <type 'str'>]),\n",
      " 'isPartOf_label': set([<type 'list'>, <type 'NoneType'>, <type 'str'>]),\n",
      " 'maximumElevation': set([<type 'NoneType'>]),\n",
      " 'minimumElevation': set([<type 'NoneType'>]),\n",
      " 'name': set([<type 'list'>, <type 'NoneType'>, <type 'str'>]),\n",
      " 'populationDensity': set([<type 'float'>, <type 'list'>, <type 'NoneType'>]),\n",
      " 'populationTotal': set([<type 'int'>, <type 'NoneType'>]),\n",
      " 'timeZone_label': set([<type 'NoneType'>, <type 'str'>]),\n",
      " 'utcOffset': set([<type 'float'>,\n",
      "                   <type 'list'>,\n",
      "                   <type 'NoneType'>,\n",
      "                   <type 'str'>]),\n",
      " 'wgs84_pos#lat': set([<type 'float'>]),\n",
      " 'wgs84_pos#long': set([<type 'float'>])}\n"
     ]
    }
   ],
   "source": [
    "def test():\n",
    "    fieldtypes = audit_file(CITIES, FIELDS)\n",
    "\n",
    "    pprint.pprint(fieldtypes)\n",
    "\n",
    "    assert fieldtypes[\"areaLand\"] == set([type(1.1), type([]), type(None)])\n",
    "    assert fieldtypes['areaMetro'] == set([type(1.1), type(None)])\n",
    "    \n",
    "if __name__ == \"__main__\":\n",
    "    test()"
   ]
  },
  {
   "cell_type": "code",
   "execution_count": 7,
   "metadata": {
    "collapsed": false
   },
   "outputs": [
    {
     "data": {
      "text/plain": [
       "float"
      ]
     },
     "execution_count": 7,
     "metadata": {},
     "output_type": "execute_result"
    }
   ],
   "source": [
    "type(float())"
   ]
  },
  {
   "cell_type": "code",
   "execution_count": null,
   "metadata": {
    "collapsed": true
   },
   "outputs": [],
   "source": []
  }
 ],
 "metadata": {
  "anaconda-cloud": {},
  "kernelspec": {
   "display_name": "Python 2",
   "language": "python",
   "name": "python2"
  },
  "language_info": {
   "codemirror_mode": {
    "name": "ipython",
    "version": 2
   },
   "file_extension": ".py",
   "mimetype": "text/x-python",
   "name": "python",
   "nbconvert_exporter": "python",
   "pygments_lexer": "ipython2",
   "version": "2.7.12"
  }
 },
 "nbformat": 4,
 "nbformat_minor": 2
}
