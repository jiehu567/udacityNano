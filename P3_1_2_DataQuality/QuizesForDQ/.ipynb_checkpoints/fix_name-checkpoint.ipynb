{
 "cells": [
  {
   "cell_type": "code",
   "execution_count": 10,
   "metadata": {
    "collapsed": true
   },
   "outputs": [],
   "source": [
    "#!/usr/bin/env python\n",
    "# -*- coding: utf-8 -*-\n",
    "\"\"\"\n",
    "In this problem set you work with cities infobox data, audit it, come up with a\n",
    "cleaning idea and then clean it up.\n",
    "\n",
    "In the previous quiz you recognized that the \"name\" value can be an array (or\n",
    "list in Python terms). It would make it easier to process and query the data\n",
    "later if all values for the name are in a Python list, instead of being\n",
    "just a string separated with special characters, like now.\n",
    "\n",
    "Finish the function fix_name(). It will recieve a string as an input, and it\n",
    "will return a list of all the names. If there is only one name, the list will\n",
    "have only one item in it; if the name is \"NULL\", the list should be empty.\n",
    "The rest of the code is just an example on how this function can be used.\n",
    "\"\"\"\n",
    "import codecs\n",
    "import csv\n",
    "import re\n",
    "import pprint\n",
    "\n",
    "CITIES = 'cities.csv'\n",
    "\n",
    "\n",
    "\n",
    "\n"
   ]
  },
  {
   "cell_type": "code",
   "execution_count": 13,
   "metadata": {
    "collapsed": true
   },
   "outputs": [],
   "source": [
    "def detect_type(string):\n",
    "    if string == \"NULL\" or string == \"\":\n",
    "        return type(None)\n",
    "    elif string.startswith(\"{\"):\n",
    "        return type(list())\n",
    "    elif string.isdigit():\n",
    "        return type(int())\n",
    "    else:\n",
    "        try: \n",
    "            float(string)\n",
    "            return type(float())\n",
    "        except ValueError:\n",
    "            return type(str())"
   ]
  },
  {
   "cell_type": "code",
   "execution_count": 31,
   "metadata": {
    "collapsed": false
   },
   "outputs": [
    {
     "name": "stdout",
     "output_type": "stream",
     "text": [
      "Kumbhraj\n",
      "Kumhari\n",
      "Kunigal\n",
      "Kurgunta\n",
      "Athens\n",
      "Demopolis\n",
      "Chelsea Alabama\n",
      "Pell City Alabama\n",
      "City of Northport\n",
      "Sand Point\n",
      "Unalaska Alaska\n",
      "City of Menlo Park\n",
      "{Negtemiut|Nightmute}\n",
      "Fairbanks Alaska\n",
      "Homer\n",
      "Ketchikan Alaska\n",
      "{Nuniaq|Old Harbor}\n",
      "Rainier Washington\n",
      "City of Blaine\n",
      "Ferndale Washington\n",
      "Mabton Washington\n",
      "Zillah Washington\n",
      "Kenova West Virginia\n",
      "Fitchburg Wisconsin\n",
      "Stoughton Wisconsin\n",
      "Watertown Wisconsin\n",
      "LaCrosse Wisconsin\n",
      "Wauwatosa Wisconsin\n",
      "Osseo Wisconsin\n",
      "Muskego Wisconsin\n",
      "Clintonville Wisconsin\n",
      "Hartford Wisconsin\n",
      "City of Spokane Valley Washington\n",
      "NULL\n",
      "Dortmund\n",
      "Stratford Iowa\n",
      "Forest City Iowa\n"
     ]
    }
   ],
   "source": [
    "\n",
    "with open(CITIES, 'r') as f:\n",
    "    reader = csv.DictReader(f)\n",
    "    for i,line in enumerate(reader):\n",
    "        if i > 4 and (line.has_key('name')):\n",
    "            print line['name']"
   ]
  },
  {
   "cell_type": "code",
   "execution_count": 44,
   "metadata": {
    "collapsed": false
   },
   "outputs": [
    {
     "data": {
      "text/plain": [
       "[]"
      ]
     },
     "execution_count": 44,
     "metadata": {},
     "output_type": "execute_result"
    }
   ],
   "source": [
    "fix_name('{Negtemiut|Nightmute}')"
   ]
  },
  {
   "cell_type": "code",
   "execution_count": 40,
   "metadata": {
    "collapsed": false
   },
   "outputs": [],
   "source": [
    "names_lst = []\n",
    "\n",
    "with open(CITIES, 'r') as f:\n",
    "    reader = csv.DictReader(f)\n",
    "    for i,line in enumerate(reader):\n",
    "        names = []\n",
    "        if i > 4 and (line.has_key('name')):\n",
    "            if detect_type(line['name']) == type([]): \n",
    "                names_str = re.findall('\\{(.*)\\}', line['name'])[0]\n",
    "                names_lst.append(names_str.split('|'))\n",
    "            elif detect_type(line['name']) == type(str()):\n",
    "                if len(line['name']) > 0:\n",
    "                    names_lst.append([line['name']])"
   ]
  },
  {
   "cell_type": "code",
   "execution_count": 41,
   "metadata": {
    "collapsed": false
   },
   "outputs": [
    {
     "data": {
      "text/plain": [
       "[['Kumbhraj'],\n",
       " ['Kumhari'],\n",
       " ['Kunigal'],\n",
       " ['Kurgunta'],\n",
       " ['Athens'],\n",
       " ['Demopolis'],\n",
       " ['Chelsea Alabama'],\n",
       " ['Pell City Alabama'],\n",
       " ['City of Northport'],\n",
       " ['Sand Point'],\n",
       " ['Unalaska Alaska'],\n",
       " ['City of Menlo Park'],\n",
       " ['Negtemiut', 'Nightmute'],\n",
       " ['Fairbanks Alaska'],\n",
       " ['Homer'],\n",
       " ['Ketchikan Alaska'],\n",
       " ['Nuniaq', 'Old Harbor'],\n",
       " ['Rainier Washington'],\n",
       " ['City of Blaine'],\n",
       " ['Ferndale Washington'],\n",
       " ['Mabton Washington'],\n",
       " ['Zillah Washington'],\n",
       " ['Kenova West Virginia'],\n",
       " ['Fitchburg Wisconsin'],\n",
       " ['Stoughton Wisconsin'],\n",
       " ['Watertown Wisconsin'],\n",
       " ['LaCrosse Wisconsin'],\n",
       " ['Wauwatosa Wisconsin'],\n",
       " ['Osseo Wisconsin'],\n",
       " ['Muskego Wisconsin'],\n",
       " ['Clintonville Wisconsin'],\n",
       " ['Hartford Wisconsin'],\n",
       " ['City of Spokane Valley Washington'],\n",
       " ['Dortmund'],\n",
       " ['Stratford Iowa'],\n",
       " ['Forest City Iowa']]"
      ]
     },
     "execution_count": 41,
     "metadata": {},
     "output_type": "execute_result"
    }
   ],
   "source": [
    "names_lst"
   ]
  },
  {
   "cell_type": "code",
   "execution_count": null,
   "metadata": {
    "collapsed": true
   },
   "outputs": [],
   "source": []
  },
  {
   "cell_type": "code",
   "execution_count": 46,
   "metadata": {
    "collapsed": false
   },
   "outputs": [],
   "source": [
    "def fix_name(name):\n",
    "    \n",
    "    if detect_type(name) == type([]): \n",
    "        names_str = re.findall('\\{(.*)\\}', name)[0]\n",
    "        return names_str.split('|')\n",
    "    elif detect_type(name) == type(str()):\n",
    "        return [name]\n",
    "    else: return [None]\n"
   ]
  },
  {
   "cell_type": "code",
   "execution_count": 47,
   "metadata": {
    "collapsed": false
   },
   "outputs": [
    {
     "name": "stdout",
     "output_type": "stream",
     "text": [
      "Printing 20 results:\n",
      "['Kud']\n",
      "['Kuju']\n",
      "['Kumbhraj']\n",
      "['Kumhari']\n",
      "['Kunigal']\n",
      "['Kurgunta']\n",
      "['Athens']\n",
      "['Demopolis']\n",
      "['Chelsea Alabama']\n",
      "['Pell City Alabama']\n",
      "['City of Northport']\n",
      "['Sand Point']\n",
      "['Unalaska Alaska']\n",
      "['City of Menlo Park']\n",
      "['Negtemiut', 'Nightmute']\n",
      "['Fairbanks Alaska']\n",
      "['Homer']\n",
      "['Ketchikan Alaska']\n",
      "['Nuniaq', 'Old Harbor']\n",
      "['Rainier Washington']\n"
     ]
    }
   ],
   "source": [
    "def process_file(filename):\n",
    "    data = []\n",
    "    with open(filename, \"r\") as f:\n",
    "        reader = csv.DictReader(f)\n",
    "        #skipping the extra metadata\n",
    "        for i in range(3):\n",
    "            l = reader.next()\n",
    "        # processing file\n",
    "        for line in reader:\n",
    "            # calling your function to fix the area value\n",
    "            if \"name\" in line:\n",
    "                line[\"name\"] = fix_name(line[\"name\"])\n",
    "            data.append(line)\n",
    "    return data\n",
    "\n",
    "\n",
    "def test():\n",
    "    data = process_file(CITIES)\n",
    "\n",
    "    print \"Printing 20 results:\"\n",
    "    for n in range(20):\n",
    "        pprint.pprint(data[n][\"name\"])\n",
    "\n",
    "    assert data[14][\"name\"] == ['Negtemiut', 'Nightmute']\n",
    "    assert data[9][\"name\"] == ['Pell City Alabama']\n",
    "    assert data[3][\"name\"] == ['Kumhari']\n",
    "\n",
    "if __name__ == \"__main__\":\n",
    "    test()"
   ]
  },
  {
   "cell_type": "code",
   "execution_count": null,
   "metadata": {
    "collapsed": true
   },
   "outputs": [],
   "source": []
  }
 ],
 "metadata": {
  "anaconda-cloud": {},
  "kernelspec": {
   "display_name": "Python 2",
   "language": "python",
   "name": "python2"
  },
  "language_info": {
   "codemirror_mode": {
    "name": "ipython",
    "version": 2
   },
   "file_extension": ".py",
   "mimetype": "text/x-python",
   "name": "python",
   "nbconvert_exporter": "python",
   "pygments_lexer": "ipython2",
   "version": "2.7.12"
  }
 },
 "nbformat": 4,
 "nbformat_minor": 2
}
