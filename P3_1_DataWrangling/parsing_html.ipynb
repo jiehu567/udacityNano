{
 "cells": [
  {
   "cell_type": "code",
   "execution_count": 45,
   "metadata": {
    "collapsed": false
   },
   "outputs": [],
   "source": [
    "from bs4 import BeautifulSoup"
   ]
  },
  {
   "cell_type": "code",
   "execution_count": 51,
   "metadata": {
    "collapsed": true
   },
   "outputs": [],
   "source": [
    "def options(soup, id):\n",
    "    option_values = []\n",
    "    carrier_list = soup.find(id=id)\n",
    "    for option in carrier_list.find_all('option'):\n",
    "        option_values.append(option['value'])\n",
    "    return option_values"
   ]
  },
  {
   "cell_type": "code",
   "execution_count": 52,
   "metadata": {
    "collapsed": true
   },
   "outputs": [],
   "source": [
    "def print_lst(label, codes):\n",
    "    print \"\\n%s:\" % label\n",
    "    for c in codes:\n",
    "        print c"
   ]
  },
  {
   "cell_type": "code",
   "execution_count": 53,
   "metadata": {
    "collapsed": false
   },
   "outputs": [],
   "source": [
    "soup = BeautifulSoup(open(\"page_source.html\"))\n",
    "codes = options(soup, 'CarrierList')"
   ]
  },
  {
   "cell_type": "code",
   "execution_count": 74,
   "metadata": {
    "collapsed": false
   },
   "outputs": [
    {
     "name": "stdout",
     "output_type": "stream",
     "text": [
      "<option selected=\"selected\" value=\"All\">All U.S. and Foreign Carriers</option>\n",
      "<option value=\"AllUS\">All U.S. Carriers</option>\n",
      "<option value=\"AllForeign\">All Foreign Carriers</option>\n",
      "<option value=\"FL\">AirTran Airways</option>\n",
      "<option value=\"AS\">Alaska Airlines </option>\n",
      "<option value=\"AA\">American Airlines </option>\n",
      "<option value=\"MQ\">American Eagle Airlines </option>\n",
      "<option value=\"5Y\">Atlas Air </option>\n",
      "<option value=\"DL\">Delta Air Lines </option>\n",
      "<option value=\"EV\">ExpressJet Airlines </option>\n",
      "<option value=\"F9\">Frontier Airlines </option>\n",
      "<option value=\"HA\">Hawaiian Airlines </option>\n",
      "<option value=\"B6\">JetBlue Airways</option>\n",
      "<option value=\"OO\">SkyWest Airlines </option>\n",
      "<option value=\"WN\">Southwest Airlines </option>\n",
      "<option value=\"NK\">Spirit Air Lines</option>\n",
      "<option value=\"US\">US Airways </option>\n",
      "<option value=\"UA\">United Air Lines </option>\n",
      "<option value=\"VX\">Virgin America</option>\n"
     ]
    }
   ],
   "source": [
    "for option in soup.find(id='CarrierList').find_all('option'):\n",
    "    print option"
   ]
  },
  {
   "cell_type": "code",
   "execution_count": 58,
   "metadata": {
    "collapsed": false
   },
   "outputs": [
    {
     "name": "stdout",
     "output_type": "stream",
     "text": [
      "\n",
      "Carriers:\n",
      "All\n",
      "AllUS\n",
      "AllForeign\n",
      "FL\n",
      "AS\n",
      "AA\n",
      "MQ\n",
      "5Y\n",
      "DL\n",
      "EV\n",
      "F9\n",
      "HA\n",
      "B6\n",
      "OO\n",
      "WN\n",
      "NK\n",
      "US\n",
      "UA\n",
      "VX\n"
     ]
    }
   ],
   "source": [
    "print_lst('Carriers', codes)"
   ]
  },
  {
   "cell_type": "code",
   "execution_count": 12,
   "metadata": {
    "collapsed": true
   },
   "outputs": [],
   "source": [
    "# Quiz\n",
    "#!/usr/bin/env python\n",
    "# -*- coding: utf-8 -*-\n",
    "# Please note that the function 'make_request' is provided for your reference only.\n",
    "# You will not be able to to actually use it from within the Udacity web UI.\n",
    "# Your task is to process the HTML using BeautifulSoup, extract the hidden\n",
    "# form field values for \"__EVENTVALIDATION\" and \"__VIEWSTATE\" and set the appropriate\n",
    "# values in the data dictionary.\n",
    "# All your changes should be in the 'extract_data' function\n",
    "from bs4 import BeautifulSoup\n",
    "import requests\n",
    "import json\n",
    "\n",
    "html_page = \"page_source.html\""
   ]
  },
  {
   "cell_type": "code",
   "execution_count": 32,
   "metadata": {
    "collapsed": false
   },
   "outputs": [],
   "source": [
    "soup = BeautifulSoup(open(html_page))\n",
    "__EVENTVALIDATION_tag = soup.find(id='__EVENTVALIDATION')\n",
    "__VIEWSTATE_tag = soup.find(id='__VIEWSTATE')\n"
   ]
  },
  {
   "cell_type": "code",
   "execution_count": null,
   "metadata": {
    "collapsed": false
   },
   "outputs": [],
   "source": []
  },
  {
   "cell_type": "code",
   "execution_count": 43,
   "metadata": {
    "collapsed": true
   },
   "outputs": [],
   "source": [
    "def extract_data(page):\n",
    "    data = {\"eventvalidation\": \"\",\n",
    "            \"viewstate\": \"\"}\n",
    "    with open(page, \"r\") as html:\n",
    "        # do something here to find the necessary values\n",
    "        soup = BeautifulSoup(html, 'lxml')\n",
    "        \n",
    "       # \"lxml\", comes from the parser in the Python library 'lxml'. \n",
    "       # Other parsers can be set up as the second argument, \n",
    "       # such as the Python library's default \"html.parser\" or other options as shown in the documentation:\n",
    "       # https://www.crummy.com/software/BeautifulSoup/bs4/doc/#installing-a-parser\n",
    "        \n",
    "        \n",
    "        __EVENTVALIDATION_tag = soup.find(id='__EVENTVALIDATION')\n",
    "        __VIEWSTATE_tag = soup.find(id='__VIEWSTATE')\n",
    "        data['eventvalidation'] = __EVENTVALIDATION_tag.attrs['value']\n",
    "        data['viewstate'] = __VIEWSTATE_tag.attrs['value']\n",
    "\n",
    "    return data"
   ]
  },
  {
   "cell_type": "code",
   "execution_count": 44,
   "metadata": {
    "collapsed": false
   },
   "outputs": [
    {
     "ename": "FeatureNotFound",
     "evalue": "Couldn't find a tree builder with the features you requested: lxml. Do you need to install a parser library?",
     "output_type": "error",
     "traceback": [
      "\u001b[0;31m---------------------------------------------------------------------------\u001b[0m",
      "\u001b[0;31mFeatureNotFound\u001b[0m                           Traceback (most recent call last)",
      "\u001b[0;32m<ipython-input-44-cf77602ed6f4>\u001b[0m in \u001b[0;36m<module>\u001b[0;34m()\u001b[0m\n\u001b[1;32m     23\u001b[0m     \u001b[0;32mprint\u001b[0m \u001b[0mdata\u001b[0m\u001b[0;34m.\u001b[0m\u001b[0mvalues\u001b[0m\u001b[0;34m(\u001b[0m\u001b[0;34m)\u001b[0m\u001b[0;34m\u001b[0m\u001b[0m\n\u001b[1;32m     24\u001b[0m \u001b[0;34m\u001b[0m\u001b[0m\n\u001b[0;32m---> 25\u001b[0;31m \u001b[0mtest\u001b[0m\u001b[0;34m(\u001b[0m\u001b[0;34m)\u001b[0m\u001b[0;34m\u001b[0m\u001b[0m\n\u001b[0m",
      "\u001b[0;32m<ipython-input-44-cf77602ed6f4>\u001b[0m in \u001b[0;36mtest\u001b[0;34m()\u001b[0m\n\u001b[1;32m     17\u001b[0m \u001b[0;34m\u001b[0m\u001b[0m\n\u001b[1;32m     18\u001b[0m \u001b[0;32mdef\u001b[0m \u001b[0mtest\u001b[0m\u001b[0;34m(\u001b[0m\u001b[0;34m)\u001b[0m\u001b[0;34m:\u001b[0m\u001b[0;34m\u001b[0m\u001b[0m\n\u001b[0;32m---> 19\u001b[0;31m     \u001b[0mdata\u001b[0m \u001b[0;34m=\u001b[0m \u001b[0mextract_data\u001b[0m\u001b[0;34m(\u001b[0m\u001b[0mhtml_page\u001b[0m\u001b[0;34m)\u001b[0m\u001b[0;34m\u001b[0m\u001b[0m\n\u001b[0m\u001b[1;32m     20\u001b[0m     \u001b[0;31m#assert data[\"eventvalidation\"] != \"\"\u001b[0m\u001b[0;34m\u001b[0m\u001b[0;34m\u001b[0m\u001b[0m\n\u001b[1;32m     21\u001b[0m    \u001b[0;31m# assert data[\"eventvalidation\"].startswith(\"/wEWjAkCoIj1ng0\")\u001b[0m\u001b[0;34m\u001b[0m\u001b[0;34m\u001b[0m\u001b[0m\n",
      "\u001b[0;32m<ipython-input-43-6be93e894d81>\u001b[0m in \u001b[0;36mextract_data\u001b[0;34m(page)\u001b[0m\n\u001b[1;32m      4\u001b[0m     \u001b[0;32mwith\u001b[0m \u001b[0mopen\u001b[0m\u001b[0;34m(\u001b[0m\u001b[0mpage\u001b[0m\u001b[0;34m,\u001b[0m \u001b[0;34m\"r\"\u001b[0m\u001b[0;34m)\u001b[0m \u001b[0;32mas\u001b[0m \u001b[0mhtml\u001b[0m\u001b[0;34m:\u001b[0m\u001b[0;34m\u001b[0m\u001b[0m\n\u001b[1;32m      5\u001b[0m         \u001b[0;31m# do something here to find the necessary values\u001b[0m\u001b[0;34m\u001b[0m\u001b[0;34m\u001b[0m\u001b[0m\n\u001b[0;32m----> 6\u001b[0;31m         \u001b[0msoup\u001b[0m \u001b[0;34m=\u001b[0m \u001b[0mBeautifulSoup\u001b[0m\u001b[0;34m(\u001b[0m\u001b[0mhtml\u001b[0m\u001b[0;34m,\u001b[0m \u001b[0;34m'lxml'\u001b[0m\u001b[0;34m)\u001b[0m\u001b[0;34m\u001b[0m\u001b[0m\n\u001b[0m\u001b[1;32m      7\u001b[0m \u001b[0;34m\u001b[0m\u001b[0m\n\u001b[1;32m      8\u001b[0m        \u001b[0;31m# \"lxml\", comes from the parser in the Python library 'lxml'.\u001b[0m\u001b[0;34m\u001b[0m\u001b[0;34m\u001b[0m\u001b[0m\n",
      "\u001b[0;32m/Users/hujie/anaconda/envs/ipykernel_py2/lib/python2.7/site-packages/bs4/__init__.pyc\u001b[0m in \u001b[0;36m__init__\u001b[0;34m(self, markup, features, builder, parse_only, from_encoding, exclude_encodings, **kwargs)\u001b[0m\n\u001b[1;32m    163\u001b[0m                     \u001b[0;34m\"Couldn't find a tree builder with the features you \"\u001b[0m\u001b[0;34m\u001b[0m\u001b[0m\n\u001b[1;32m    164\u001b[0m                     \u001b[0;34m\"requested: %s. Do you need to install a parser library?\"\u001b[0m\u001b[0;34m\u001b[0m\u001b[0m\n\u001b[0;32m--> 165\u001b[0;31m                     % \",\".join(features))\n\u001b[0m\u001b[1;32m    166\u001b[0m             \u001b[0mbuilder\u001b[0m \u001b[0;34m=\u001b[0m \u001b[0mbuilder_class\u001b[0m\u001b[0;34m(\u001b[0m\u001b[0;34m)\u001b[0m\u001b[0;34m\u001b[0m\u001b[0m\n\u001b[1;32m    167\u001b[0m             if not (original_features == builder.NAME or\n",
      "\u001b[0;31mFeatureNotFound\u001b[0m: Couldn't find a tree builder with the features you requested: lxml. Do you need to install a parser library?"
     ]
    }
   ],
   "source": [
    "def make_request(data):\n",
    "    eventvalidation = data[\"eventvalidation\"]\n",
    "    viewstate = data[\"viewstate\"]\n",
    "\n",
    "    r = requests.post(\"http://www.transtats.bts.gov/Data_Elements.aspx?Data=2\",\n",
    "                    data={'AirportList': \"BOS\",\n",
    "                          'CarrierList': \"VX\",\n",
    "                          'Submit': 'Submit',\n",
    "                          \"__EVENTTARGET\": \"\",\n",
    "                          \"__EVENTARGUMENT\": \"\",\n",
    "                          \"__EVENTVALIDATION\": eventvalidation,\n",
    "                          \"__VIEWSTATE\": viewstate\n",
    "                    })\n",
    "\n",
    "    return r.text\n",
    "\n",
    "\n",
    "def test():\n",
    "    data = extract_data(html_page)\n",
    "    #assert data[\"eventvalidation\"] != \"\"\n",
    "   # assert data[\"eventvalidation\"].startswith(\"/wEWjAkCoIj1ng0\")\n",
    "    #assert data[\"viewstate\"].startswith(\"/wEPDwUKLTI\")\n",
    "    print data.values()\n",
    "    \n",
    "test()"
   ]
  },
  {
   "cell_type": "code",
   "execution_count": 35,
   "metadata": {
    "collapsed": false
   },
   "outputs": [
    {
     "ename": "NameError",
     "evalue": "name 'data' is not defined",
     "output_type": "error",
     "traceback": [
      "\u001b[0;31m---------------------------------------------------------------------------\u001b[0m",
      "\u001b[0;31mNameError\u001b[0m                                 Traceback (most recent call last)",
      "\u001b[0;32m<ipython-input-35-6137cde4893c>\u001b[0m in \u001b[0;36m<module>\u001b[0;34m()\u001b[0m\n\u001b[0;32m----> 1\u001b[0;31m \u001b[0mdata\u001b[0m\u001b[0;34m\u001b[0m\u001b[0m\n\u001b[0m",
      "\u001b[0;31mNameError\u001b[0m: name 'data' is not defined"
     ]
    }
   ],
   "source": []
  },
  {
   "cell_type": "code",
   "execution_count": 46,
   "metadata": {
    "collapsed": true
   },
   "outputs": [],
   "source": [
    "test_str = ['All', 'AllUS', 'AllForeign', 'FL', 'AS', 'AA', 'MQ', '5Y', 'DL', 'EV', 'F9', 'HA', 'B6', 'OO', 'WN', 'NK', 'US', 'UA', 'VX']"
   ]
  },
  {
   "cell_type": "code",
   "execution_count": 93,
   "metadata": {
    "collapsed": false
   },
   "outputs": [
    {
     "data": {
      "text/plain": [
       "['FL',\n",
       " 'AS',\n",
       " 'AA',\n",
       " 'MQ',\n",
       " '5Y',\n",
       " 'DL',\n",
       " 'EV',\n",
       " 'F9',\n",
       " 'HA',\n",
       " 'B6',\n",
       " 'OO',\n",
       " 'WN',\n",
       " 'NK',\n",
       " 'US',\n",
       " 'UA',\n",
       " 'VX']"
      ]
     },
     "execution_count": 93,
     "metadata": {},
     "output_type": "execute_result"
    }
   ],
   "source": [
    "[item for item in test_str if not item.startswith('All')]"
   ]
  },
  {
   "cell_type": "code",
   "execution_count": 140,
   "metadata": {
    "collapsed": false
   },
   "outputs": [
    {
     "name": "stdout",
     "output_type": "stream",
     "text": [
      "\n",
      "\n",
      "<option selected=\"selected\" value=\"All\">All</option>\n",
      "\n",
      "\n",
      "<option value=\"AllMajors\">All Major Airports</option>\n",
      "\n",
      "\n",
      "<option value=\"ATL\"> - Atlanta, GA: Hartsfield-Jackson Atlanta International</option>\n",
      "\n",
      "\n",
      "<option value=\"BWI\"> - Baltimore, MD: Baltimore/Washington International Thurgood Marshall</option>\n",
      "\n",
      "\n",
      "<option value=\"BOS\"> - Boston, MA: Logan International</option>\n",
      "\n",
      "\n",
      "<option value=\"CLT\"> - Charlotte, NC: Charlotte Douglas International</option>\n",
      "\n",
      "\n",
      "<option value=\"MDW\"> - Chicago, IL: Chicago Midway International</option>\n",
      "\n",
      "\n",
      "<option value=\"ORD\"> - Chicago, IL: Chicago O'Hare International</option>\n",
      "\n",
      "\n",
      "<option value=\"DFW\"> - Dallas/Fort Worth, TX: Dallas/Fort Worth International</option>\n",
      "\n",
      "\n",
      "<option value=\"DEN\"> - Denver, CO: Denver International</option>\n",
      "\n",
      "\n",
      "<option value=\"DTW\"> - Detroit, MI: Detroit Metro Wayne County</option>\n",
      "\n",
      "\n",
      "<option value=\"FLL\"> - Fort Lauderdale, FL: Fort Lauderdale-Hollywood International</option>\n",
      "\n",
      "\n",
      "<option value=\"IAH\"> - Houston, TX: George Bush Intercontinental/Houston</option>\n",
      "\n",
      "\n",
      "<option value=\"LAS\"> - Las Vegas, NV: McCarran International</option>\n",
      "\n",
      "\n",
      "<option value=\"LAX\"> - Los Angeles, CA: Los Angeles International</option>\n",
      "\n",
      "\n",
      "<option value=\"AllOthers\">All Other Airports</option>\n",
      "\n",
      "\n",
      "<option value=\"ABR\"> - Aberdeen, SD: Aberdeen Regional</option>\n",
      "\n",
      "\n",
      "<option value=\"ABI\"> - Abilene, TX: Abilene Regional</option>\n",
      "\n",
      "\n"
     ]
    }
   ],
   "source": [
    "with open('options.html', \"r\") as html:\n",
    "        # do something here to find the necessary values\n",
    "    soup = BeautifulSoup(html)\n",
    "     # data = [item for item in soup.find(id='AirportList').find_all('value') if not item.startswith('All')]\n",
    "    options = soup.find(id='AirportList')\n",
    "    for option in options:\n",
    "        print option"
   ]
  },
  {
   "cell_type": "code",
   "execution_count": 133,
   "metadata": {
    "collapsed": false
   },
   "outputs": [
    {
     "data": {
      "text/plain": [
       "<select class=\"slcBox\" id=\"AirportList\" name=\"AirportList\" style=\"width:250px;\">\\n<option selected=\"selected\" value=\"All\">All</option>\\n<option value=\"AllMajors\">All Major Airports</option>\\n<option value=\"ATL\"> - Atlanta, GA: Hartsfield-Jackson Atlanta International</option>\\n<option value=\"BWI\"> - Baltimore, MD: Baltimore/Washington International Thurgood Marshall</option>\\n<option value=\"BOS\"> - Boston, MA: Logan International</option>\\n<option value=\"CLT\"> - Charlotte, NC: Charlotte Douglas International</option>\\n<option value=\"MDW\"> - Chicago, IL: Chicago Midway International</option>\\n<option value=\"ORD\"> - Chicago, IL: Chicago O'Hare International</option>\\n<option value=\"DFW\"> - Dallas/Fort Worth, TX: Dallas/Fort Worth International</option>\\n<option value=\"DEN\"> - Denver, CO: Denver International</option>\\n<option value=\"DTW\"> - Detroit, MI: Detroit Metro Wayne County</option>\\n<option value=\"FLL\"> - Fort Lauderdale, FL: Fort Lauderdale-Hollywood International</option>\\n<option value=\"IAH\"> - Houston, TX: George Bush Intercontinental/Houston</option>\\n<option value=\"LAS\"> - Las Vegas, NV: McCarran International</option>\\n<option value=\"LAX\"> - Los Angeles, CA: Los Angeles International</option>\\n<option value=\"AllOthers\">All Other Airports</option>\\n<option value=\"ABR\"> - Aberdeen, SD: Aberdeen Regional</option>\\n<option value=\"ABI\"> - Abilene, TX: Abilene Regional</option>\\n</select>"
      ]
     },
     "execution_count": 133,
     "metadata": {},
     "output_type": "execute_result"
    }
   ],
   "source": [
    "temp"
   ]
  },
  {
   "cell_type": "code",
   "execution_count": 85,
   "metadata": {
    "collapsed": false
   },
   "outputs": [
    {
     "name": "stdout",
     "output_type": "stream",
     "text": [
      "1\n"
     ]
    }
   ],
   "source": [
    "print 1"
   ]
  },
  {
   "cell_type": "code",
   "execution_count": null,
   "metadata": {
    "collapsed": true
   },
   "outputs": [],
   "source": [
    "def extract_airports(page):\n",
    "    data = []\n",
    "    with open(page, \"r\") as html:\n",
    "        # do something here to find the necessary values\n",
    "        soup = BeautifulSoup(html, \"lxml\")\n",
    "        for item in soup.find(id='AirportList').find_all('option'):\n",
    "            if not item['value'].startswith('All'):\n",
    "                data.append(item['value'])\n",
    "    return data"
   ]
  }
 ],
 "metadata": {
  "anaconda-cloud": {},
  "kernelspec": {
   "display_name": "Python 2",
   "language": "python",
   "name": "python2"
  },
  "language_info": {
   "codemirror_mode": {
    "name": "ipython",
    "version": 2
   },
   "file_extension": ".py",
   "mimetype": "text/x-python",
   "name": "python",
   "nbconvert_exporter": "python",
   "pygments_lexer": "ipython2",
   "version": "2.7.12"
  }
 },
 "nbformat": 4,
 "nbformat_minor": 2
}
