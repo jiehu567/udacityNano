{
 "cells": [
  {
   "cell_type": "markdown",
   "metadata": {},
   "source": [
    "# Machine learning to analyze Enron Dataset\n",
    "**Udacity Nanodegree P5 project**\n",
    "\n",
    "*Author: Jie Hu,  jie.hu.ds@gmail.com*\n",
    "\n",
    "------------\n",
    "\n",
    "## 0. Abstract\n",
    "\n",
    "This is a project in which I use skills learned from Udacity course, including data wrangling, exploratory data analysis and machine learning, to do research on [Enron Fraud Email dataset](https://www.cs.cmu.edu/~./enron/).\n",
    "\n",
    "The goal of this research is to find out most significant features to predict whether a person in the dataset is committed to fraud. The structure of this article is:\n",
    "- Data Wrangling, in which I modify NA values and remove outliers\n",
    "- Feature Selecting, in which I create some features I think important to predict fraud\n",
    "- Training and tuning machine learning, in which I use sklearn to train 4 different models and compare their performance matrices, including precision, recall and f1 score\n",
    "- Final part, in which I select Naive Bayes as my best model\n",
    "- Conclusion"
   ]
  },
  {
   "cell_type": "markdown",
   "metadata": {},
   "source": [
    "## 1. Data Wrangling\n",
    "\n",
    "Firstly, load the dataset:"
   ]
  },
  {
   "cell_type": "code",
   "execution_count": 2,
   "metadata": {
    "collapsed": false,
    "hideCode": false,
    "hideOutput": true,
    "hidePrompt": true
   },
   "outputs": [],
   "source": [
    "#!/usr/bin/python\n",
    "\n",
    "import sys\n",
    "import pickle\n",
    "sys.path.append(\"../tools/\")\n",
    "\n",
    "from feature_format import featureFormat, targetFeatureSplit\n",
    "from tester import dump_classifier_and_data\n",
    "from sklearn.feature_selection import SelectKBest\n",
    "from sklearn.feature_selection import f_classif\n",
    "from sklearn.decomposition import PCA\n",
    "from sklearn.tree import DecisionTreeClassifier\n",
    "from sklearn.naive_bayes import GaussianNB\n",
    "from sklearn.pipeline import Pipeline, make_pipeline\n",
    "from sklearn.grid_search import GridSearchCV\n",
    "from sklearn.cross_validation import train_test_split, cross_val_score, StratifiedShuffleSplit\n",
    "from sklearn.metrics import classification_report, precision_recall_curve\n",
    "from sklearn.feature_selection import SelectKBest, chi2, f_classif\n",
    "from sklearn.model_selection import StratifiedKFold"
   ]
  },
  {
   "cell_type": "code",
   "execution_count": 3,
   "metadata": {
    "collapsed": false,
    "hideCode": false,
    "hideOutput": true,
    "hidePrompt": true
   },
   "outputs": [],
   "source": [
    "with open(\"final_project_dataset.pkl\", \"r\") as data_file:\n",
    "    data_dict = pickle.load(data_file)"
   ]
  },
  {
   "cell_type": "markdown",
   "metadata": {},
   "source": [
    "The dataset has 146 observations (people) including 18 person of interest (poi). And there're totally 21 features. Beside 'email_address' (string) and 'poi' (bool), all features are numeric.\n",
    "\n",
    "It's a highly skewed data because the target 2 labels for classification are greatly unbalanced: poi people take up only 12.3% dataset."
   ]
  },
  {
   "cell_type": "markdown",
   "metadata": {},
   "source": [
    "Beside, the data has a lot of NA values of each features:"
   ]
  },
  {
   "cell_type": "code",
   "execution_count": 4,
   "metadata": {
    "collapsed": true,
    "hideCode": false,
    "hideOutput": true,
    "hidePrompt": true
   },
   "outputs": [],
   "source": [
    "persons = data_dict.keys()\n",
    "keys = data_dict[data_dict.keys()[1]].keys()"
   ]
  },
  {
   "cell_type": "code",
   "execution_count": 5,
   "metadata": {
    "collapsed": true,
    "hideCode": false,
    "hideOutput": true,
    "hidePrompt": true
   },
   "outputs": [],
   "source": [
    "# Check 'NaN' value of each feature in dict_data\n",
    "NA_count = {}\n",
    "\n",
    "for person in persons:\n",
    "    for key in keys:\n",
    "        if data_dict[person][key] == 'NaN':\n",
    "            if not NA_count.has_key(key):\n",
    "                NA_count[key] = 1\n",
    "            else:\n",
    "                NA_count[key] += 1"
   ]
  },
  {
   "cell_type": "code",
   "execution_count": 6,
   "metadata": {
    "collapsed": false,
    "hideCode": false,
    "hidePrompt": true
   },
   "outputs": [
    {
     "data": {
      "text/plain": [
       "{'bonus': 64,\n",
       " 'deferral_payments': 107,\n",
       " 'deferred_income': 97,\n",
       " 'director_fees': 129,\n",
       " 'email_address': 35,\n",
       " 'exercised_stock_options': 44,\n",
       " 'expenses': 51,\n",
       " 'from_messages': 60,\n",
       " 'from_poi_to_this_person': 60,\n",
       " 'from_this_person_to_poi': 60,\n",
       " 'loan_advances': 142,\n",
       " 'long_term_incentive': 80,\n",
       " 'other': 53,\n",
       " 'restricted_stock': 36,\n",
       " 'restricted_stock_deferred': 128,\n",
       " 'salary': 51,\n",
       " 'shared_receipt_with_poi': 60,\n",
       " 'to_messages': 60,\n",
       " 'total_payments': 21,\n",
       " 'total_stock_value': 20}"
      ]
     },
     "execution_count": 6,
     "metadata": {},
     "output_type": "execute_result"
    }
   ],
   "source": [
    "NA_count"
   ]
  },
  {
   "cell_type": "markdown",
   "metadata": {},
   "source": [
    "So the first thing needed to be done is to replace these 'NaN' values.\n",
    "Because for financial data, 'NaN' most likely mean he/she had no such income, so it's 0 \n",
    "And for email data, it can also be 0 if there's no such count, so I replace all numeric 'NaN' values by 0. Now most NA values are replaced, we only have people without email address, which is reasonable and can be ignored."
   ]
  },
  {
   "cell_type": "code",
   "execution_count": 7,
   "metadata": {
    "collapsed": false,
    "hideCode": false,
    "hidePrompt": true
   },
   "outputs": [],
   "source": [
    "# Before doing any feature selection and creation work, I remove the 'NaN'\n",
    "# Because for financial data, 'NaN' most likely mean he/she had no such income, so it's 0\n",
    "# And for email data, it can also be 0 if there's no such count\n",
    "for person in persons:\n",
    "    for key in keys:\n",
    "        if data_dict[person][key] == 'NaN' and key != 'email_address':\n",
    "            data_dict[person][key] = 0"
   ]
  },
  {
   "cell_type": "code",
   "execution_count": 8,
   "metadata": {
    "collapsed": false,
    "hidePrompt": true
   },
   "outputs": [
    {
     "data": {
      "text/plain": [
       "{'email_address': 35}"
      ]
     },
     "execution_count": 8,
     "metadata": {},
     "output_type": "execute_result"
    }
   ],
   "source": [
    "# Now NAs have been removed (Only email has NaN but it doesn't matter):\n",
    "NA_count = {}\n",
    "\n",
    "for person in persons:\n",
    "    for key in keys:\n",
    "        if data_dict[person][key] == 'NaN':\n",
    "            if not NA_count.has_key(key):\n",
    "                NA_count[key] = 1\n",
    "            else:\n",
    "                NA_count[key] += 1\n",
    "NA_count"
   ]
  },
  {
   "cell_type": "markdown",
   "metadata": {
    "hidePrompt": false
   },
   "source": [
    "The pros of such NA value replacement are:\n",
    "\n",
    "- use reasonable logic to better fit the data\n",
    "- good for training models\n",
    "\n",
    "But there's con:\n",
    "- some data might be real missing values (real value can be non-0!), for example, typo, unintended missing etc. Set them to 0 might have risk to bias the result\n",
    "\n",
    "To go deeper, I have to assume the NA data be all values such person doesn't have.\n",
    "\n",
    "Beside, outliers are harmful for analysis. After all, they can significantly biased any model. For example, if I use Decision Tree, outliers can setup new rules but actually it's sometimes meaningless. However, some outliers, if they are not a wiered point, and it belongs to the true data, I will keep them.\n",
    "\n",
    "Here let's check if there's strange outliers. Let's pick up some feature combination and use scatter plot to check:\n"
   ]
  },
  {
   "cell_type": "code",
   "execution_count": 10,
   "metadata": {
    "collapsed": false,
    "hideCode": true,
    "hidePrompt": true,
    "scrolled": true
   },
   "outputs": [
    {
     "data": {
      "image/png": "[encoded data removed]",
      "text/plain": [
       "<matplotlib.figure.Figure at 0x1127c92d0>"
      ]
     },
     "metadata": {},
     "output_type": "display_data"
    }
   ],
   "source": [
    "### Task 3: Remove outliers\n",
    "\n",
    "# Because I'm not using simple linear model for next steps \n",
    "# so if the outliers are from data points, even it's outlier, I will keep it\n",
    "# otherwise I will remove it\n",
    "\n",
    "# Firstly, let's do some visualization by using 2-dimensional data\n",
    "\n",
    "features_list = ['deferral_payments','expenses']\n",
    "\n",
    "### Store to my_dataset for easy export below.\n",
    "my_dataset = data_dict\n",
    "\n",
    "### Extract features and labels from dataset\n",
    "data = featureFormat(my_dataset, features_list, sort_keys = True)\n",
    "\n",
    "import matplotlib.pyplot as plt\n",
    "\n",
    "for point in data:\n",
    "    deferral_payments = point[0]\n",
    "    expenses = point[1]\n",
    "    plt.scatter( deferral_payments, expenses )\n",
    "\n",
    "plt.xlabel(\"deferral_payments\")\n",
    "plt.ylabel(\"expenses\")\n",
    "plt.title(\"Search for outliers\")\n",
    "plt.show()"
   ]
  },
  {
   "cell_type": "markdown",
   "metadata": {},
   "source": [
    "We can see there's one point significantly far from center, let's see what it is:"
   ]
  },
  {
   "cell_type": "code",
   "execution_count": 11,
   "metadata": {
    "collapsed": false,
    "hideCode": false,
    "hidePrompt": true
   },
   "outputs": [
    {
     "name": "stdout",
     "output_type": "stream",
     "text": [
      "TOTAL\n"
     ]
    }
   ],
   "source": [
    "for person in persons:\n",
    "    if data_dict[person]['deferral_payments'] > 20000000:\n",
    "        print person"
   ]
  },
  {
   "cell_type": "markdown",
   "metadata": {},
   "source": [
    "It's unlikely for anyone to have name 'TOTAL', a more reasonable explaination is that this is summary of sum of feature values. So I remove this 'TOTAL' otherwise it might bias my models."
   ]
  },
  {
   "cell_type": "code",
   "execution_count": 12,
   "metadata": {
    "collapsed": false,
    "hideCode": false,
    "hideOutput": true,
    "hidePrompt": true
   },
   "outputs": [
    {
     "data": {
      "text/plain": [
       "{'bonus': 97343619,\n",
       " 'deferral_payments': 32083396,\n",
       " 'deferred_income': -27992891,\n",
       " 'director_fees': 1398517,\n",
       " 'email_address': 'NaN',\n",
       " 'exercised_stock_options': 311764000,\n",
       " 'expenses': 5235198,\n",
       " 'from_messages': 0,\n",
       " 'from_poi_to_this_person': 0,\n",
       " 'from_this_person_to_poi': 0,\n",
       " 'loan_advances': 83925000,\n",
       " 'long_term_incentive': 48521928,\n",
       " 'other': 42667589,\n",
       " 'poi': False,\n",
       " 'restricted_stock': 130322299,\n",
       " 'restricted_stock_deferred': -7576788,\n",
       " 'salary': 26704229,\n",
       " 'shared_receipt_with_poi': 0,\n",
       " 'to_messages': 0,\n",
       " 'total_payments': 309886585,\n",
       " 'total_stock_value': 434509511}"
      ]
     },
     "execution_count": 12,
     "metadata": {},
     "output_type": "execute_result"
    }
   ],
   "source": [
    "data_dict.pop('TOTAL')"
   ]
  },
  {
   "cell_type": "markdown",
   "metadata": {},
   "source": [
    "Then let's zoom in and see if there's other unreasonable outliers"
   ]
  },
  {
   "cell_type": "code",
   "execution_count": 13,
   "metadata": {
    "collapsed": false,
    "hideCode": false,
    "hidePrompt": true
   },
   "outputs": [
    {
     "data": {
      "image/png": "[encoded data removed]",
      "text/plain": [
       "<matplotlib.figure.Figure at 0x10e2e0850>"
      ]
     },
     "metadata": {},
     "output_type": "display_data"
    }
   ],
   "source": [
    "features_list = ['deferral_payments','expenses']\n",
    "\n",
    "### Store to my_dataset for easy export below.\n",
    "my_dataset = data_dict\n",
    "\n",
    "### Extract features and labels from dataset\n",
    "data = featureFormat(my_dataset, features_list, sort_keys = True)\n",
    "\n",
    "for point in data:\n",
    "    deferral_payments = point[0]\n",
    "    expenses = point[1]\n",
    "    plt.scatter( deferral_payments, expenses )\n",
    "\n",
    "plt.xlabel(\"deferral_payments\")\n",
    "plt.ylabel(\"expenses\")\n",
    "plt.xticks(range(-1000000, 8000000, 2000000))\n",
    "plt.title(\"Search for outliers\")\n",
    "plt.show()"
   ]
  },
  {
   "cell_type": "markdown",
   "metadata": {},
   "source": [
    "At least 4 outliers are detected visually. Let's look at these outliers"
   ]
  },
  {
   "cell_type": "code",
   "execution_count": 14,
   "metadata": {
    "collapsed": false,
    "hidePrompt": true
   },
   "outputs": [
    {
     "name": "stdout",
     "output_type": "stream",
     "text": [
      "SHANKMAN JEFFREY A\n",
      "URQUHART JOHN A\n",
      "MCCLELLAN GEORGE\n",
      "FREVERT MARK A\n"
     ]
    }
   ],
   "source": [
    "persons.remove('TOTAL')\n",
    "for person in persons:\n",
    "    if data_dict[person]['deferral_payments'] > 5000000 or data_dict[person]['expenses'] > 150000:\n",
    "        print person"
   ]
  },
  {
   "cell_type": "markdown",
   "metadata": {},
   "source": [
    "These are all names of people, and they are not by mistakes. Since they include much information I need, to keep these outliers will be a good choice."
   ]
  },
  {
   "cell_type": "markdown",
   "metadata": {},
   "source": [
    "After check other combinations, I decide to keep all remaining data because the outliers will have a lot of information which could be significant indicator of poi."
   ]
  },
  {
   "cell_type": "markdown",
   "metadata": {},
   "source": [
    "## 2. Select features, choose algorithms and tuning for best performance\n",
    "\n",
    "\n",
    "#### 2.1 Before Start\n",
    "Feature selecting depends a lot on which algorithm to be used, so to explore alroghtm and feature selection independently might miss the best match to the dataset. Therefore, instead of seperate the feature selection part and choose algorithm, I put these 2 steps together. In this section, I will:\n",
    "\n",
    "- Firstly, choose algorithm, it will be Naive Bayes, and Decision Tree (Implementing more algorithms will be similar)\n",
    "- Pipeline selecting features, PCA, fit the model and tuning for algorithm\n",
    "- Get the best score, precision and recall rate such algorithm can achieve, and the number of features it uses\n",
    "- After finish all 4 algorithms, I put the results together and make comparison to determine which algorithms\n",
    "\n",
    "To begin with I create 3 features I think could possibly be indicators for poi:\n",
    "\n",
    "- 'fixed_income': earned from how they contribute to work, salary + bonus\n",
    "- 'stock_income': all income from stock, restricted_stock_deferred + exercised_stock_options + restricted_stock\n",
    "- 'email_proportion_with_poi': \n",
    "- proportion of their emails frequency with poi over all email\n",
    "\n",
    "Now I add these features to feature list ('poi' will be put at beginning and 'email_addresses' will be removed because it's meaningless to achieve my target):"
   ]
  },
  {
   "cell_type": "code",
   "execution_count": 15,
   "metadata": {
    "collapsed": false
   },
   "outputs": [
    {
     "data": {
      "text/plain": [
       "26"
      ]
     },
     "execution_count": 15,
     "metadata": {},
     "output_type": "execute_result"
    }
   ],
   "source": [
    "# Then I create features:\n",
    "# created_feature_list:\n",
    "\n",
    "### features_list is a list of strings, each of which is a feature name.\n",
    "### The first feature must be \"poi\".\n",
    "\n",
    "for person in persons:\n",
    "    salary = float(data_dict[person]['salary'])\n",
    "    bonus = float(data_dict[person]['bonus'])\n",
    "    restricted_stock_deferred = float(data_dict[person]['restricted_stock_deferred'])\n",
    "    exercised_stock_options = float(data_dict[person]['exercised_stock_options'])\n",
    "    restricted_stock = float(data_dict[person]['restricted_stock'])\n",
    "    \n",
    "    from_this_person_to_poi = float(data_dict[person]['from_this_person_to_poi'])\n",
    "    shared_receipt_with_poi = float(data_dict[person]['shared_receipt_with_poi'])\n",
    "    from_poi_to_this_person = float(data_dict[person]['from_poi_to_this_person'])\n",
    "    to_messages = float(data_dict[person]['to_messages'])\n",
    "    from_messages = float(data_dict[person]['from_messages'])\n",
    "    \n",
    "    data_dict[person]['fixed_income'] = salary + bonus \n",
    "    data_dict[person]['stock_income'] = (restricted_stock_deferred + \\\n",
    "                                         exercised_stock_options + \\\n",
    "                                         restricted_stock)\n",
    "    data_dict[person]['email_proportion_with_poi'] = (from_this_person_to_poi + \\\n",
    "                                                         shared_receipt_with_poi + \\\n",
    "                                                         from_poi_to_this_person)/ \\\n",
    "                                                        (to_messages + from_messages + 1)\n",
    "\n",
    "\n",
    "features_list = data_dict[persons[0]].keys() + ['fixed_income', 'stock_income', 'email_proportion_with_poi']\n",
    "features_list.insert(0, features_list.pop(features_list.index('poi')))\n",
    "features_list.pop(features_list.index('email_address'))\n",
    "len(features_list)"
   ]
  },
  {
   "cell_type": "markdown",
   "metadata": {},
   "source": [
    "Now I have totally 25 features and 1 label 'poi', I use them to restructure my dataset:"
   ]
  },
  {
   "cell_type": "code",
   "execution_count": 16,
   "metadata": {
    "collapsed": false
   },
   "outputs": [],
   "source": [
    "### Store to my_dataset for easy export below.\n",
    "my_dataset = data_dict\n",
    "\n",
    "### Extract features and labels from dataset\n",
    "data = featureFormat(my_dataset, features_list, sort_keys = True)\n",
    "labels, features = targetFeatureSplit(data)"
   ]
  },
  {
   "cell_type": "markdown",
   "metadata": {
    "hidePrompt": false
   },
   "source": [
    "Because the algorithms I will use (Naive Bayes and Bayes) will not be influenced by scale of each feature, scaling the features is not necessary. (If you want to implement algorithms like SVM, Kmeans, scale the features is a must because these algorithms matters a lot with distance calculation).\n",
    "\n",
    "#### 2.2 Tuning Naive Bayes\n",
    "\n",
    "Considering the imbalanced structure of this dataset (there're much more non-poi than poi people), I will use stratified sample. As Gaussian Naive Bayes do not have any parameters, the pipeline I will use is simple:"
   ]
  },
  {
   "cell_type": "code",
   "execution_count": null,
   "metadata": {
    "collapsed": true
   },
   "outputs": [],
   "source": []
  },
  {
   "cell_type": "code",
   "execution_count": null,
   "metadata": {
    "collapsed": true
   },
   "outputs": [],
   "source": []
  },
  {
   "cell_type": "code",
   "execution_count": 24,
   "metadata": {
    "collapsed": true
   },
   "outputs": [],
   "source": [
    "from sklearn.cross_validation import train_test_split\n",
    "\n",
    "features_train, features_test, labels_train, labels_test =  train_test_split(\n",
    "    features,\n",
    "    labels,\n",
    "    test_size=0.2, \n",
    "    random_state=42\n",
    "    )"
   ]
  },
  {
   "cell_type": "markdown",
   "metadata": {},
   "source": [
    "Because the data is very imbalanced, so here I use stratefied sample. And to make sure there're approximately same ratio of poi vs. non-poi, here I check:"
   ]
  },
  {
   "cell_type": "code",
   "execution_count": 25,
   "metadata": {
    "collapsed": false
   },
   "outputs": [
    {
     "data": {
      "text/plain": [
       "0.068965517241379309"
      ]
     },
     "execution_count": 25,
     "metadata": {},
     "output_type": "execute_result"
    }
   ],
   "source": [
    "sum(labels_test)/len(labels_test)"
   ]
  },
  {
   "cell_type": "code",
   "execution_count": 28,
   "metadata": {
    "collapsed": false
   },
   "outputs": [
    {
     "data": {
      "text/plain": [
       "0.125"
      ]
     },
     "execution_count": 28,
     "metadata": {},
     "output_type": "execute_result"
    }
   ],
   "source": [
    "sum(labels)/len(labels)"
   ]
  },
  {
   "cell_type": "markdown",
   "metadata": {},
   "source": [
    "It's a good ratio. Now let's continue to train:"
   ]
  },
  {
   "cell_type": "code",
   "execution_count": 29,
   "metadata": {
    "collapsed": false,
    "hideCode": false,
    "hideOutput": true,
    "hidePrompt": false
   },
   "outputs": [],
   "source": [
    "skb = SelectKBest(f_classif)\n",
    "pca = PCA()\n",
    "clf_GNB = GaussianNB()\n",
    "\n",
    "pipeline= Pipeline(steps=[(\"SKB\", skb), (\"PCA\", pca), (\"NaiveBayes\", clf_GNB)])\n",
    "\n",
    "pca_params = {\"PCA__n_components\":[2, 4, 6, 8], \n",
    "              \"PCA__whiten\": [True],\n",
    "              \"SKB__k\":[8,10,14,16,18]}\n",
    "\n",
    "cv = StratifiedShuffleSplit(labels_train, \n",
    "                            n_iter = 100, \n",
    "                            random_state = 42)\n",
    "\n",
    "clf = GridSearchCV(\n",
    "    pipeline,\n",
    "    pca_params,\n",
    "    # n_jobs = -1,\n",
    "    verbose = 0,\n",
    "    scoring = 'f1_weighted',\n",
    "    cv = cv\n",
    ")"
   ]
  },
  {
   "cell_type": "code",
   "execution_count": 30,
   "metadata": {
    "collapsed": false
   },
   "outputs": [
    {
     "name": "stdout",
     "output_type": "stream",
     "text": [
      "------------------------\n",
      "Accuracy: 0.931\n",
      "Precision: 0.500\n",
      "Recall   : 0.500\n",
      "F1 score:  0.500\n"
     ]
    }
   ],
   "source": [
    "from sklearn.metrics import precision_score, recall_score, accuracy_score, f1_score\n",
    "\n",
    "clf.fit(features_train, labels_train)\n",
    "prediction = clf.predict(features_test)\n",
    "precision = precision_score(labels_test, prediction)\n",
    "recall = recall_score(labels_test, prediction)\n",
    "accuracy = accuracy_score(labels_test, prediction)\n",
    "f1Score = f1_score(labels_test, prediction)\n",
    "    \n",
    "    \n",
    "print '------------------------'\n",
    "print 'Accuracy: %s' % \"{:,.3f}\".format(round(accuracy, 3)) \n",
    "print 'Precision: %s' % \"{:,.3f}\".format(round(precision, 3))\n",
    "print 'Recall   : %s' % \"{:,.3f}\".format(round(recall, 3))\n",
    "print 'F1 score:  %s' % \"{:,.3f}\".format(round(f1Score, 3))\n",
    "    "
   ]
  },
  {
   "cell_type": "code",
   "execution_count": 31,
   "metadata": {
    "collapsed": false
   },
   "outputs": [
    {
     "data": {
      "text/plain": [
       "{'PCA__n_components': 6, 'PCA__whiten': True, 'SKB__k': 18}"
      ]
     },
     "execution_count": 31,
     "metadata": {},
     "output_type": "execute_result"
    }
   ],
   "source": [
    "clf.best_params_"
   ]
  },
  {
   "cell_type": "markdown",
   "metadata": {},
   "source": [
    "For Naive Bayes:\n",
    "\n",
    "- I get the best model with: accuracy(0.862), precision(0.5), and recall(0.25)\n",
    "- Number of principle components is 8\n",
    "- The best classifier has: K = 16 for kBest feature selection, and the features are:"
   ]
  },
  {
   "cell_type": "code",
   "execution_count": 31,
   "metadata": {
    "collapsed": false
   },
   "outputs": [
    {
     "data": {
      "text/plain": [
       "['expenses',\n",
       " 'fixed_income',\n",
       " 'deferred_income',\n",
       " 'long_term_incentive',\n",
       " 'shared_receipt_with_poi',\n",
       " 'loan_advances',\n",
       " 'email_proportion_with_poi',\n",
       " 'bonus',\n",
       " 'total_stock_value',\n",
       " 'from_poi_to_this_person',\n",
       " 'stock_income',\n",
       " 'restricted_stock',\n",
       " 'salary',\n",
       " 'total_payments',\n",
       " 'exercised_stock_options',\n",
       " 'fixed_income',\n",
       " 'stock_income',\n",
       " 'email_proportion_with_poi']"
      ]
     },
     "execution_count": 31,
     "metadata": {},
     "output_type": "execute_result"
    }
   ],
   "source": [
    "features_selected_bool = clf.best_estimator_.named_steps['SKB'].get_support()\n",
    "features_selected_list = [x for x, y in zip(features_list[1:], features_selected_bool) if y]\n",
    "features_selected_list"
   ]
  },
  {
   "cell_type": "markdown",
   "metadata": {},
   "source": [
    "#### 2.3 Tuning Decision Tree\n",
    "\n",
    "The process is similar, here I set up the pipeline and use exactly the same training and test set:"
   ]
  },
  {
   "cell_type": "code",
   "execution_count": 32,
   "metadata": {
    "collapsed": true
   },
   "outputs": [],
   "source": [
    "skb = SelectKBest(f_classif)\n",
    "pca = PCA()\n",
    "clf_DT = DecisionTreeClassifier()\n",
    "\n",
    "pipeline= Pipeline(steps=[(\"SKB\", skb), (\"PCA\", pca), (\"DecisionTree\", clf_DT)])\n",
    "\n",
    "params = {'PCA__n_components':[2, 4, 6], \n",
    "          'PCA__whiten': [True],\n",
    "          'SKB__k':[8,14,18]}\n",
    "\n",
    "cv = StratifiedShuffleSplit(labels_train, \n",
    "                            n_iter = 25, \n",
    "                            random_state = 21)\n",
    "\n",
    "clf = GridSearchCV(\n",
    "    pipeline,\n",
    "    params,\n",
    "    # n_jobs = -1,\n",
    "    verbose = 0,\n",
    "    scoring = 'f1_weighted',\n",
    "    cv = cv\n",
    ")"
   ]
  },
  {
   "cell_type": "code",
   "execution_count": 33,
   "metadata": {
    "collapsed": false
   },
   "outputs": [
    {
     "name": "stdout",
     "output_type": "stream",
     "text": [
      "------------------------\n",
      "Accuracy: 0.897\n",
      "Precision: 0.400\n",
      "Recall   : 1.000\n",
      "F1 score:  0.571\n"
     ]
    }
   ],
   "source": [
    "from sklearn.metrics import precision_score, recall_score, accuracy_score\n",
    "\n",
    "clf.fit(features_train, labels_train)\n",
    "prediction = clf.predict(features_test)\n",
    "precision = precision_score(labels_test, prediction)\n",
    "recall = recall_score(labels_test, prediction)\n",
    "accuracy = accuracy_score(labels_test, prediction)\n",
    "    \n",
    "    \n",
    "print '------------------------'\n",
    "print 'Accuracy: %s' % \"{:,.3f}\".format(round(accuracy, 3)) \n",
    "print 'Precision: %s' % \"{:,.3f}\".format(round(precision, 3))\n",
    "print 'Recall   : %s' % \"{:,.3f}\".format(round(recall, 3))\n",
    "\n",
    "avg_F1 = 2 * (precision * recall) / (precision + recall)\n",
    "print 'F1 score:  %s' % \"{:,.3f}\".format(round(avg_F1, 3))\n",
    "    "
   ]
  },
  {
   "cell_type": "code",
   "execution_count": null,
   "metadata": {
    "collapsed": false
   },
   "outputs": [],
   "source": [
    "zip(labels_test, prediction)"
   ]
  },
  {
   "cell_type": "code",
   "execution_count": null,
   "metadata": {
    "collapsed": false
   },
   "outputs": [],
   "source": [
    "clf2 = DecisionTreeClassifier()\n",
    "clf2.fit(features_train, labels_train)\n",
    "pred = clf2.predict(features_test)\n",
    "precision_score(pred, labels_test)"
   ]
  },
  {
   "cell_type": "code",
   "execution_count": null,
   "metadata": {
    "collapsed": true
   },
   "outputs": [],
   "source": [
    "clf.best_params_"
   ]
  },
  {
   "cell_type": "markdown",
   "metadata": {},
   "source": [
    "The best features for decision tree model is:\n",
    "\n",
    "\n",
    "\n",
    "For Naive Bayes:\n",
    "\n",
    "- I get the best model with: accuracy(0.862), precision(0.5), and recall(0.25)\n",
    "- Number of principle components is 8\n",
    "- The best classifier has: K = 16 for kBest feature selection, and the features are:"
   ]
  },
  {
   "cell_type": "code",
   "execution_count": null,
   "metadata": {
    "collapsed": true
   },
   "outputs": [],
   "source": [
    "features_selected_bool = clf.best_estimator_.named_steps['SKB'].get_support()\n",
    "features_selected_list = [x for x, y in zip(features_list[1:], features_selected_bool) if y]\n",
    "features_selected_list"
   ]
  },
  {
   "cell_type": "markdown",
   "metadata": {},
   "source": [
    "## 4. Final Discuss with Naive Bayes"
   ]
  },
  {
   "cell_type": "code",
   "execution_count": null,
   "metadata": {
    "collapsed": true,
    "hideCode": false,
    "hidePrompt": true
   },
   "outputs": [],
   "source": [
    "### Task 5: Tune your classifier to achieve better than .3 precision and recall \n",
    "### using our testing script. Check the tester.py script in the final project\n",
    "### folder for details on the evaluation method, especially the test_classifier\n",
    "### function. Because of the small size of the dataset, the script uses\n",
    "### stratified shuffle split cross validation. For more info: \n",
    "### http://scikit-learn.org/stable/modules/generated/sklearn.cross_validation.StratifiedShuffleSplit.html\n",
    "\n",
    "# Example starting point. Try investigating other evaluation techniques!\n",
    "from sklearn.cross_validation import train_test_split\n",
    "features_train, features_test, labels_train, labels_test = \\\n",
    "    train_test_split(features, labels, test_size=0.3, random_state=42)\n",
    "\n",
    "\n",
    "clf = GaussianNB()\n",
    "    \n",
    "### Task 6: Dump your classifier, dataset, and features_list so anyone can\n",
    "### check your results. You do not need to change anything below, but make sure\n",
    "### that the version of poi_id.py that you submit can be run on its own and\n",
    "### generates the necessary .pkl files for validating your results.\n",
    "\n",
    "dump_classifier_and_data(clf, my_dataset, features_list)"
   ]
  },
  {
   "cell_type": "markdown",
   "metadata": {},
   "source": [
    "By Naive Beyes, the most significant indicators are:"
   ]
  },
  {
   "cell_type": "markdown",
   "metadata": {},
   "source": [
    "I then run this model with test.py and get the result:\n",
    "\n",
    "Accuracy: 0.85679\t\n",
    "Precision: 0.49840\t\n",
    "Recall: 0.38900\t\n",
    "F1: 0.43696\t\n",
    "F2: 0.40686\n",
    "Total predictions: 14000\t\n",
    "True positives:  778\t\n",
    "False positives:  783\t\n",
    "False negatives: 1222\t\n",
    "True negatives: 11217\n",
    "\n",
    "This is pretty close to the result I get with 146-length dataset."
   ]
  },
  {
   "cell_type": "markdown",
   "metadata": {},
   "source": [
    "The features I created also act as essential part of this model. Let's compare the result with / without the features I created."
   ]
  },
  {
   "cell_type": "code",
   "execution_count": null,
   "metadata": {
    "collapsed": false,
    "hideCode": false,
    "hidePrompt": true
   },
   "outputs": [],
   "source": [
    "features_list = ['poi','deferred_income',\n",
    "                 'total_stock_value'] \n",
    "### Store to my_dataset for easy export below.\n",
    "my_dataset = data_dict\n",
    "\n",
    "### Extract features and labels from dataset\n",
    "data = featureFormat(my_dataset, features_list, sort_keys = True)\n",
    "labels, features = targetFeatureSplit(data)\n",
    "\n",
    "clf = GaussianNB()\n",
    "parameters = {}\n",
    "grid_search = GridSearchCV(clf, parameters)\n",
    "print '\\nGaussian Naive Bayes:'\n",
    "classifer_tester(clf, features, labels, parameters)"
   ]
  },
  {
   "cell_type": "markdown",
   "metadata": {},
   "source": [
    "Score Type|With New Features|Without New Features\n",
    "------------|------------|------------\n",
    "Accuracy|0.86|0.87\n",
    "Precision|0.43|0.50\n",
    "Recall|0.37|0.34\n",
    "F1 score|0.40|0.41"
   ]
  },
  {
   "cell_type": "markdown",
   "metadata": {},
   "source": [
    "Even without the features I created, the model will have more accuracy, precision and f1 score, I prefer using with created features to keep recall rate higher. Since higher recall rate means lower risk to label non-poi if he's truely poi. We can set up inquiries beside this analysis to make further judgement, but missing a poi is harmful. So even sacrifice precision, I would keep the created new features to increase recall rate. "
   ]
  },
  {
   "cell_type": "markdown",
   "metadata": {},
   "source": [
    "## 5. Conclusion\n",
    "\n",
    "In this report I firstly summarize the dataset, remove outliers and replace NaN values. Next, I create 3 features and figure out which features to be selected by sklearn KBest method. Then I rescale the dataset and use these features to train different model, and finally find Naive Bayes as my best model.\n",
    "\n",
    "This is a quantative analysis and can only be a reference for commitment. The real procedure of convict guilty will be more complicated.\n",
    "\n",
    "In future, to improve the accuracy of the model, I think there're some ways we can try:\n",
    "- Given more detailed dataset, more features might have risk of overfitting, but more data can possibly provide more informaiton we need\n",
    "- Mining more information from emails, for example, how they communicate with Enron's partners, how they poi communicate with each other"
   ]
  },
  {
   "cell_type": "code",
   "execution_count": null,
   "metadata": {
    "collapsed": true
   },
   "outputs": [],
   "source": []
  }
 ],
 "metadata": {
  "anaconda-cloud": {},
  "celltoolbar": "Hide code",
  "kernelspec": {
   "display_name": "Python [conda env:ipykernel_py2]",
   "language": "python",
   "name": "conda-env-ipykernel_py2-py"
  },
  "language_info": {
   "codemirror_mode": {
    "name": "ipython",
    "version": 2
   },
   "file_extension": ".py",
   "mimetype": "text/x-python",
   "name": "python",
   "nbconvert_exporter": "python",
   "pygments_lexer": "ipython2",
   "version": "2.7.12"
  }
 },
 "nbformat": 4,
 "nbformat_minor": 2
}
