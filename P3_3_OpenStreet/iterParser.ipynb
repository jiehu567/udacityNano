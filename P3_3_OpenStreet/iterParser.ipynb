{
 "cells": [
  {
   "cell_type": "code",
   "execution_count": 1,
   "metadata": {
    "collapsed": true
   },
   "outputs": [],
   "source": [
    "#!/usr/bin/env python\n",
    "# -*- coding: utf-8 -*-\n",
    "\"\"\"\n",
    "Your task is to use the iterative parsing to process the map file and\n",
    "find out not only what tags are there, but also how many, to get the\n",
    "feeling on how much of which data you can expect to have in the map.\n",
    "Fill out the count_tags function. It should return a dictionary with the \n",
    "tag name as the key and number of times this tag can be encountered in \n",
    "the map as value.\n",
    "\n",
    "Note that your code will be tested with a different data file than the 'example.osm'\n",
    "\"\"\"\n",
    "import xml.etree.cElementTree as ET\n",
    "import pprint\n",
    "from collections import defaultdict\n"
   ]
  },
  {
   "cell_type": "code",
   "execution_count": 24,
   "metadata": {
    "collapsed": true
   },
   "outputs": [],
   "source": [
    "dic = defaultdict(int)"
   ]
  },
  {
   "cell_type": "code",
   "execution_count": 25,
   "metadata": {
    "collapsed": false
   },
   "outputs": [
    {
     "name": "stdout",
     "output_type": "stream",
     "text": [
      "defaultdict(<type 'int'>, {'node': 20, 'nd': 4, 'bounds': 1, 'member': 3, 'tag': 7, 'relation': 1, 'way': 1, 'osm': 1})\n"
     ]
    }
   ],
   "source": [
    "for event, elem in ET.iterparse('example.osm'):\n",
    "    dic[elem.tag] +=1\n",
    "print dic\n"
   ]
  },
  {
   "cell_type": "code",
   "execution_count": 12,
   "metadata": {
    "collapsed": false
   },
   "outputs": [
    {
     "name": "stdout",
     "output_type": "stream",
     "text": [
      "defaultdict(<type 'int'>, {'changeset': 22, 'uid': 22, 'visible': 22, 'id': 22, 'generator': 1, 'lon': 20, 'version': 23, 'role': 3, 'type': 3, 'maxlon': 1, 'attribution': 1, 'timestamp': 22, 'user': 22, 'maxlat': 1, 'lat': 20, 'minlon': 1, 'copyright': 1, 'license': 1, 'minlat': 1, 'ref': 7, 'k': 7, 'v': 7})\n"
     ]
    }
   ],
   "source": [
    "dic = defaultdict(int)\n",
    "for event, elem in ET.iterparse('example.osm'):\n",
    "    dic[elem.tag] +=1\n",
    "\n",
    "print dic\n"
   ]
  },
  {
   "cell_type": "code",
   "execution_count": 32,
   "metadata": {
    "collapsed": false
   },
   "outputs": [
    {
     "name": "stdout",
     "output_type": "stream",
     "text": [
      "{'minlat': '41.9704500', 'maxlon': '-87.6894800', 'minlon': '-87.6928300', 'maxlat': '41.9758200'}\n",
      "{'changeset': '11129782', 'uid': '451048', 'timestamp': '2012-03-28T18:31:23Z', 'lon': '-87.6866303', 'visible': 'true', 'version': '7', 'user': 'bbmiller', 'lat': '41.9730791', 'id': '261114295'}\n",
      "{'changeset': '8448766', 'uid': '451048', 'timestamp': '2011-06-15T17:04:54Z', 'lon': '-87.6878512', 'visible': 'true', 'version': '6', 'user': 'bbmiller', 'lat': '41.9730416', 'id': '261114296'}\n",
      "{'changeset': '8581395', 'uid': '451048', 'timestamp': '2011-06-29T14:14:14Z', 'lon': '-87.6939548', 'visible': 'true', 'version': '5', 'user': 'bbmiller', 'lat': '41.9729565', 'id': '261114299'}\n",
      "{'changeset': '8581395', 'uid': '451048', 'timestamp': '2011-06-29T14:14:14Z', 'lon': '-87.6976025', 'visible': 'true', 'version': '5', 'user': 'bbmiller', 'lat': '41.9707380', 'id': '261146436'}\n",
      "{'changeset': '8581395', 'uid': '451048', 'timestamp': '2011-06-29T14:14:15Z', 'lon': '-87.6988576', 'visible': 'true', 'version': '7', 'user': 'bbmiller', 'lat': '41.9740068', 'id': '261147304'}\n",
      "{'changeset': '8581395', 'uid': '451048', 'timestamp': '2011-06-29T14:14:14Z', 'lon': '-87.6938669', 'visible': 'true', 'version': '5', 'user': 'bbmiller', 'lat': '41.9707656', 'id': '261224274'}\n",
      "{'changeset': '8448766', 'uid': '451048', 'timestamp': '2011-06-15T16:55:37Z', 'lon': '-87.6890403', 'visible': 'true', 'version': '47', 'user': 'bbmiller', 'lat': '41.9730154', 'id': '293816175'}\n",
      "{'changeset': '15348240', 'uid': '567034', 'timestamp': '2013-03-13T07:46:29Z', 'lon': '-87.6891198', 'visible': 'true', 'version': '37', 'user': 'Umbugbene', 'lat': '41.9749225', 'id': '305896090'}\n",
      "{'changeset': '15348240', 'uid': '567034', 'timestamp': '2013-03-13T08:02:56Z', 'lon': '-87.7012430', 'visible': 'true', 'version': '12', 'user': 'Umbugbene', 'lat': '41.9740292', 'id': '317636974'}\n",
      "{'changeset': '15348240', 'uid': '567034', 'timestamp': '2013-03-13T08:08:01Z', 'lon': '-87.6979712', 'visible': 'true', 'version': '13', 'user': 'Umbugbene', 'lat': '41.9740556', 'id': '317636971'}\n",
      "{'changeset': '14927972', 'uid': '567034', 'timestamp': '2013-02-05T22:43:49Z', 'lon': '-87.7012048', 'visible': 'true', 'version': '2', 'user': 'Umbugbene', 'lat': '41.9705609', 'id': '317637399'}\n",
      "{'changeset': '14927972', 'uid': '567034', 'timestamp': '2013-02-05T22:43:49Z', 'lon': '-87.7012109', 'visible': 'true', 'version': '2', 'user': 'Umbugbene', 'lat': '41.9706972', 'id': '317637398'}\n",
      "{'changeset': '8448766', 'uid': '451048', 'timestamp': '2011-06-15T17:04:54Z', 'lon': '-87.6847998', 'visible': 'true', 'version': '3', 'user': 'bbmiller', 'lat': '41.9731130', 'id': '365214872'}\n",
      "{'changeset': '8581395', 'uid': '451048', 'timestamp': '2011-06-29T14:14:15Z', 'lon': '-87.6988886', 'visible': 'true', 'version': '6', 'user': 'bbmiller', 'lat': '41.9747482', 'id': '261299091'}\n",
      "{'changeset': '8448766', 'uid': '451048', 'timestamp': '2011-06-15T17:04:54Z', 'lon': '-87.6841979', 'visible': 'true', 'version': '6', 'user': 'bbmiller', 'lat': '41.9731219', 'id': '261114294'}\n",
      "{'changeset': '3359748', 'uid': '147510', 'timestamp': '2009-12-13T00:36:09Z', 'lon': '-87.7000019', 'visible': 'true', 'version': '4', 'user': 'woodpeck_fixbot', 'lat': '41.9707217', 'id': '261210804'}\n",
      "{'changeset': '8581395', 'uid': '451048', 'timestamp': '2011-06-29T14:14:15Z', 'lon': '-87.6922652', 'visible': 'true', 'version': '7', 'user': 'bbmiller', 'lat': '41.9748542', 'id': '261221422'}\n",
      "{'k': 'highway', 'v': 'traffic_signals'}\n",
      "{'changeset': '8581395', 'uid': '451048', 'timestamp': '2011-06-29T14:14:15Z', 'lon': '-87.6923639', 'visible': 'true', 'version': '7', 'user': 'bbmiller', 'lat': '41.9758794', 'id': '261221424'}\n",
      "{'changeset': '8581395', 'uid': '451048', 'timestamp': '2011-06-29T14:14:13Z', 'lon': '-87.6963097', 'visible': 'true', 'version': '6', 'user': 'bbmiller', 'lat': '41.9707413', 'id': '261198953'}\n",
      "{'k': 'amenity', 'v': 'fast_food'}\n",
      "{'k': 'cuisine', 'v': 'sausage'}\n",
      "{'k': 'name', 'v': \"Shelly's Tasty Freeze\"}\n",
      "{'changeset': '5288876', 'uid': '26299', 'timestamp': '2010-07-22T16:16:51Z', 'lon': '-87.6920102', 'visible': 'true', 'version': '2', 'user': 'uboot', 'lat': '41.9747374', 'id': '757860928'}\n",
      "{'ref': '2636086179'}\n",
      "{'ref': '2636086178'}\n",
      "{'ref': '2636086177'}\n",
      "{'ref': '2636086176'}\n",
      "{'k': 'highway', 'v': 'service'}\n",
      "{'changeset': '20187382', 'uid': '1219059', 'timestamp': '2014-01-25T02:01:54Z', 'visible': 'true', 'version': '1', 'user': 'linuxUser16', 'id': '258219703'}\n",
      "{'ref': '1258927212', 'role': 'via', 'type': 'node'}\n",
      "{'ref': '110160127', 'role': 'from', 'type': 'way'}\n",
      "{'ref': '34073105', 'role': 'to', 'type': 'way'}\n",
      "{'k': 'restriction', 'v': 'only_right_turn'}\n",
      "{'k': 'type', 'v': 'restriction'}\n",
      "{'changeset': '14326854', 'uid': '939355', 'timestamp': '2012-12-19T05:32:37Z', 'visible': 'true', 'version': '2', 'user': 'fredr', 'id': '1557627'}\n",
      "{'license': 'http://opendatacommons.org/licenses/odbl/1-0/', 'version': '0.6', 'attribution': 'http://www.openstreetmap.org/copyright', 'copyright': 'OpenStreetMap and contributors', 'generator': 'CGImap 0.3.3 (28791 thorn-03.openstreetmap.org)'}\n"
     ]
    }
   ],
   "source": [
    "for event, elem in ET.iterparse('example.osm'):\n",
    "    print elem.attrib"
   ]
  },
  {
   "cell_type": "code",
   "execution_count": 26,
   "metadata": {
    "collapsed": true
   },
   "outputs": [],
   "source": [
    "def count_tags(filename):\n",
    "        # YOUR CODE HERE\n",
    "    dic = defaultdict(int)\n",
    "    for event, elem in ET.iterparse('example.osm'):\n",
    "        dic[elem.tag] +=1\n",
    "    return dic"
   ]
  },
  {
   "cell_type": "code",
   "execution_count": 27,
   "metadata": {
    "collapsed": false
   },
   "outputs": [
    {
     "name": "stdout",
     "output_type": "stream",
     "text": [
      "defaultdict(<type 'int'>, {'node': 20, 'nd': 4, 'bounds': 1, 'member': 3, 'tag': 7, 'relation': 1, 'way': 1, 'osm': 1})\n"
     ]
    }
   ],
   "source": [
    "def test():\n",
    "\n",
    "    tags = count_tags('example.osm')\n",
    "    pprint.pprint(tags)\n",
    "    assert tags == {'bounds': 1,\n",
    "                     'member': 3,\n",
    "                     'nd': 4,\n",
    "                     'node': 20,\n",
    "                     'osm': 1,\n",
    "                     'relation': 1,\n",
    "                     'tag': 7,\n",
    "                     'way': 1}\n",
    "\n",
    "    \n",
    "\n",
    "if __name__ == \"__main__\":\n",
    "    test()"
   ]
  },
  {
   "cell_type": "code",
   "execution_count": null,
   "metadata": {
    "collapsed": true
   },
   "outputs": [],
   "source": []
  }
 ],
 "metadata": {
  "anaconda-cloud": {},
  "kernelspec": {
   "display_name": "Python 2",
   "language": "python",
   "name": "python2"
  },
  "language_info": {
   "codemirror_mode": {
    "name": "ipython",
    "version": 2
   },
   "file_extension": ".py",
   "mimetype": "text/x-python",
   "name": "python",
   "nbconvert_exporter": "python",
   "pygments_lexer": "ipython2",
   "version": "2.7.12"
  }
 },
 "nbformat": 4,
 "nbformat_minor": 2
}
