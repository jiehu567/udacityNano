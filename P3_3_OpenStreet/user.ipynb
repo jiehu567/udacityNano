{
 "cells": [
  {
   "cell_type": "code",
   "execution_count": 1,
   "metadata": {
    "collapsed": false
   },
   "outputs": [
    {
     "data": {
      "text/plain": [
       "'\\nYour task is to explore the data a bit more.\\nThe first task is a fun one - find out how many unique users\\nhave contributed to the map in this particular area!\\n\\nThe function process_map should return a set of unique user IDs (\"uid\")\\n'"
      ]
     },
     "execution_count": 1,
     "metadata": {},
     "output_type": "execute_result"
    }
   ],
   "source": [
    "#!/usr/bin/env python\n",
    "# -*- coding: utf-8 -*-\n",
    "import xml.etree.cElementTree as ET\n",
    "import pprint\n",
    "import re\n",
    "\"\"\"\n",
    "Your task is to explore the data a bit more.\n",
    "The first task is a fun one - find out how many unique users\n",
    "have contributed to the map in this particular area!\n",
    "\n",
    "The function process_map should return a set of unique user IDs (\"uid\")\n",
    "\"\"\"\n",
    "\n"
   ]
  },
  {
   "cell_type": "code",
   "execution_count": 14,
   "metadata": {
    "collapsed": false
   },
   "outputs": [
    {
     "name": "stdout",
     "output_type": "stream",
     "text": [
      "451048\n",
      "451048\n",
      "451048\n",
      "451048\n",
      "451048\n",
      "451048\n",
      "451048\n",
      "567034\n",
      "567034\n",
      "567034\n",
      "567034\n",
      "567034\n",
      "451048\n",
      "451048\n",
      "451048\n",
      "147510\n",
      "451048\n",
      "451048\n",
      "451048\n",
      "26299\n",
      "451048\n",
      "451048\n",
      "451048\n",
      "451048\n",
      "451048\n",
      "451048\n",
      "451048\n",
      "567034\n",
      "567034\n",
      "567034\n",
      "567034\n",
      "567034\n",
      "451048\n",
      "451048\n",
      "451048\n",
      "147510\n",
      "451048\n",
      "451048\n",
      "451048\n",
      "26299\n"
     ]
    }
   ],
   "source": [
    "user_file = open('user.osm','r')\n",
    "for _, elem in ET.iterparse(user_file):\n",
    "    for node in elem.iter('node'):\n",
    "         node.attrib['uid']"
   ]
  },
  {
   "cell_type": "code",
   "execution_count": null,
   "metadata": {
    "collapsed": true
   },
   "outputs": [],
   "source": []
  },
  {
   "cell_type": "code",
   "execution_count": null,
   "metadata": {
    "collapsed": true
   },
   "outputs": [],
   "source": []
  },
  {
   "cell_type": "code",
   "execution_count": null,
   "metadata": {
    "collapsed": true
   },
   "outputs": [],
   "source": [
    "def get_user(element):\n",
    "    return\n",
    "\n",
    "\n"
   ]
  },
  {
   "cell_type": "code",
   "execution_count": 15,
   "metadata": {
    "collapsed": true
   },
   "outputs": [],
   "source": [
    "users = set()\n"
   ]
  },
  {
   "cell_type": "code",
   "execution_count": 19,
   "metadata": {
    "collapsed": false
   },
   "outputs": [],
   "source": [
    "def process_map(filename):\n",
    "    users = set()\n",
    "    for _, element in ET.iterparse(filename):\n",
    "        for node in elem.iter('node'):\n",
    "             users.add(node.attrib['uid'])\n",
    "        for way in elem.iter('way'):\n",
    "            users.add(way.attrib['uid'])\n",
    "        for relation in elem.iter('relation'):\n",
    "            users.add(relation.attrib['uid'])\n",
    "                \n",
    "    return users\n",
    "\n",
    "\n"
   ]
  },
  {
   "cell_type": "code",
   "execution_count": 20,
   "metadata": {
    "collapsed": false
   },
   "outputs": [
    {
     "name": "stdout",
     "output_type": "stream",
     "text": [
      "set(['1219059', '147510', '26299', '451048', '567034', '939355'])\n"
     ]
    }
   ],
   "source": [
    "def test():\n",
    "\n",
    "    users = process_map('user.osm')\n",
    "    pprint.pprint(users)\n",
    "    assert len(users) == 6\n",
    "\n",
    "\n",
    "\n",
    "if __name__ == \"__main__\":\n",
    "    test()"
   ]
  },
  {
   "cell_type": "code",
   "execution_count": null,
   "metadata": {
    "collapsed": true
   },
   "outputs": [],
   "source": []
  },
  {
   "cell_type": "code",
   "execution_count": null,
   "metadata": {
    "collapsed": true
   },
   "outputs": [],
   "source": []
  }
 ],
 "metadata": {
  "anaconda-cloud": {},
  "kernelspec": {
   "display_name": "Python 2",
   "language": "python",
   "name": "python2"
  },
  "language_info": {
   "codemirror_mode": {
    "name": "ipython",
    "version": 2
   },
   "file_extension": ".py",
   "mimetype": "text/x-python",
   "name": "python",
   "nbconvert_exporter": "python",
   "pygments_lexer": "ipython2",
   "version": "2.7.12"
  }
 },
 "nbformat": 4,
 "nbformat_minor": 2
}
