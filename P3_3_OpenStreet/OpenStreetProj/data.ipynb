{
 "cells": [
  {
   "cell_type": "markdown",
   "metadata": {},
   "source": [
    "## OpenStreetMap Project for Nano degree\n",
    "*by Jie Hu, jie.hu.ds@gmail.com*\n",
    "\n",
    "This is a project for Udacity [Nano-degree](https://classroom.udacity.com/nanodegrees/) P3 part. \n",
    "In this project I will clean the open street data of [San Francisco Bay Area](https://mapzen.com/data/metro-extracts/metro/san-francisco-bay_california/) and write into MongoDB database, after which yields some visualization work. \n",
    "\n",
    "The structure of this report is:\n",
    "\n",
    "1. Problems in dataset\n",
    "2. Data Cleaning\n",
    "3. Discusion on improvements I made\n",
    "4. Data Overview and Wrangling with MongoDB\n",
    "5. Additional Ideas\n",
    "6. Conclusion\n",
    "\n",
    "\n",
    "### Part 1. Problems in dataset\n"
   ]
  },
  {
   "cell_type": "code",
   "execution_count": 1,
   "metadata": {
    "collapsed": false
   },
   "outputs": [],
   "source": [
    "# import package\n",
    "# Load packages and raw data file\n",
    "import re\n",
    "from collections import defaultdict\n",
    "import json\n",
    "import xml.etree.cElementTree as ET\n",
    "import pprint\n",
    "import numpy as np\n",
    "import datetime as dt\n",
    "\n",
    "osm_file = 'sf_sample.osm'"
   ]
  },
  {
   "cell_type": "markdown",
   "metadata": {},
   "source": [
    "After I get sample data, I find out there are several problems in the dataset.\n",
    "\n",
    "1. data are listed within different tags, which might have different structure: "
   ]
  },
  {
   "cell_type": "code",
   "execution_count": 2,
   "metadata": {
    "collapsed": false
   },
   "outputs": [
    {
     "name": "stdout",
     "output_type": "stream",
     "text": [
      "defaultdict(<type 'int'>, {'node': 47149, 'nd': 56388, 'member': 370, 'tag': 17356, 'relation': 56, 'way': 5512, 'osm': 1})\n"
     ]
    }
   ],
   "source": [
    "# type and number of nodes\n",
    "dic = defaultdict(int)\n",
    "\n",
    "for _, elem in ET.iterparse(osm_file):\n",
    "    dic[elem.tag] +=1\n",
    "print dic"
   ]
  },
  {
   "cell_type": "markdown",
   "metadata": {},
   "source": [
    "2. keys, like 'exit_to', 'exit_to:left', 'exit_to:right' can be involved in one list\n",
    "3. keys, like 'lat' and 'lon' can be saved in a dictionary to seperate from other attributes:\n",
    "~~~~\n",
    "{\n",
    "    'position': {'lat': ..., \n",
    "                 'lon': ...\n",
    "                 }\n",
    "}\n",
    "~~~~\n",
    "4. value of 'timestamp' is just a string, which can be transformed into: \n",
    "~~~~\n",
    "{\n",
    "    'time': {'year':...,\n",
    "             'month':...,\n",
    "             'day':...,\n",
    "             ...}\n",
    "}\n",
    "~~~~\n",
    "5. keys, like 'sfgov.org', 'addr.source' can not be used in MongoDB because they include '.'\n",
    "6. keys, like 'addr:country', 'addr:state' should be transformed into:\n",
    "\n",
    "~~~~\n",
    "{\n",
    "    'addr': {'city': ...\n",
    "             'country':...\n",
    "             'state':...\n",
    " ...\n",
    "}\n",
    "~~~~\n",
    "instead of:\n",
    "~~~~\n",
    "{\n",
    "    'addr:city':...\n",
    "    'addr:country':...\n",
    "    'addr:state':...\n",
    "}\n",
    "~~~~\n",
    "\n",
    "\n",
    "### Part 2. Data Cleaning\n",
    "\n",
    "Then I check data structure of each node, and write a function to process each part respectively.\n",
    "\n",
    "**Problems 1-4:**\n",
    "\n",
    "The method 'attach_node' will process node according to its type and problems and then save into a dictionary, 'temp_dic'. Then after this, the processed data of such node, in the form of dictionary will be appended to a list."
   ]
  },
  {
   "cell_type": "code",
   "execution_count": 3,
   "metadata": {
    "collapsed": true
   },
   "outputs": [],
   "source": [
    "def attach_node(temp_dic, node_name):\n",
    "    for node in elem.iter(node_name):\n",
    "            # add uid, version, changeset, user, id\n",
    "            for key in ['uid', 'version', 'changeset', 'user', 'id']:    \n",
    "                if node.attrib.has_key(key):\n",
    "                    temp_dic[key] = node.attrib[key]\n",
    "\n",
    "            # add position with latitude and longitude\n",
    "            if node.attrib.has_key('lat') and node.attrib.has_key('lon'):\n",
    "                temp_dic['position'] = {'lat': float(node.attrib['lat']),\n",
    "                                        'lon': float(node.attrib['lon'])}\n",
    "\n",
    "            # timestamp into year, month, day, hour, minute, second\n",
    "            if node.attrib.has_key('timestamp'):\n",
    "                time = dt.datetime.strptime(node.attrib['timestamp'], \"%Y-%m-%dT%H:%M:%SZ\")\n",
    "                temp_dic['time'] = {'year': time.year,\n",
    "                                    'month': time.month,\n",
    "                                    'day': time.day,\n",
    "                                    'hour': time.hour,\n",
    "                                    'minute': time.minute}         # Here I think not necessary to extract second\n",
    "\n",
    "\n",
    "            # attach data from key 'tag'\n",
    "            for tag in node.iter('tag'):\n",
    "\n",
    "                # attach tag value IN exit_to list\n",
    "                exit_arr = []\n",
    "                for key in ['exit_to','exit_to:left','exit_to:right']:\n",
    "                    if tag.attrib['k'] == key:\n",
    "                        exit_arr.append(tag.attrib['v'])\n",
    "\n",
    "                if exit_arr != []:\n",
    "                    temp_dic['exit_to'] = exit_arr\n",
    "\n",
    "                # attach tag value NOT IN exit_to list\n",
    "                if not tag.attrib['k'] in ['exit_to','exit_to:left','exit_to:right']:\n",
    "                    temp_dic[tag.attrib['k']] = tag.attrib['v']\n",
    "\n",
    "            temp_dic['node_type'] = node_name"
   ]
  },
  {
   "cell_type": "code",
   "execution_count": 4,
   "metadata": {
    "collapsed": false
   },
   "outputs": [],
   "source": [
    "# Process data\n",
    "\n",
    "dic_sample = []\n",
    "\n",
    "for _, elem in ET.iterparse(osm_file):\n",
    "\n",
    "    temp_dic = {}\n",
    "    \n",
    "    \n",
    "    # attach data from key 'member'\n",
    "    for member in elem.iter('member'):\n",
    "        for key in member.keys():\n",
    "            if member.attrib[key] != \"\":\n",
    "                temp_dic[key] = member.attrib[key]\n",
    "            else:\n",
    "                temp_dic[key] = None\n",
    "    \n",
    "    # attach data from key 'node'\n",
    "    attach_node(temp_dic, 'node')\n",
    "    \n",
    "    # attach data from key 'relation', it's exactly the same as 'node'\n",
    "    attach_node(temp_dic, 'relation')\n",
    "    \n",
    "    # attach data from key 'way', it's exactly the same as 'node'\n",
    "    attach_node(temp_dic, 'way')\n",
    "    \n",
    "    if temp_dic != {}:\n",
    "        dic_sample.append(temp_dic)\n",
    "        "
   ]
  },
  {
   "cell_type": "markdown",
   "metadata": {},
   "source": [
    "Now dic_sample almost have cleaned data:"
   ]
  },
  {
   "cell_type": "code",
   "execution_count": 5,
   "metadata": {
    "collapsed": false,
    "scrolled": true
   },
   "outputs": [
    {
     "data": {
      "text/plain": [
       "[{'changeset': '22950379',\n",
       "  'id': '281266',\n",
       "  'node_type': 'node',\n",
       "  'position': {'lat': 37.5601845, 'lon': -122.3025783},\n",
       "  'time': {'day': 15, 'hour': 18, 'minute': 55, 'month': 6, 'year': 2014},\n",
       "  'uid': '1660455',\n",
       "  'user': 'juergenb22',\n",
       "  'version': '6'},\n",
       " {'changeset': '3949010',\n",
       "  'id': '30029483',\n",
       "  'node_type': 'node',\n",
       "  'position': {'lat': 37.7019213, 'lon': -122.0341958},\n",
       "  'time': {'day': 23, 'hour': 0, 'minute': 44, 'month': 2, 'year': 2010},\n",
       "  'uid': '14293',\n",
       "  'user': 'KindredCoda',\n",
       "  'version': '13'}]"
      ]
     },
     "execution_count": 5,
     "metadata": {},
     "output_type": "execute_result"
    }
   ],
   "source": [
    "dic_sample[:2]"
   ]
  },
  {
   "cell_type": "markdown",
   "metadata": {},
   "source": [
    "** Problem 5**\n",
    "- keys, like 'sfgov.org', 'addr.source' can not be used in MongoDB because they include '.'\n",
    "- keys, like 'addr:country', 'addr:state' should be transformed into:\n",
    "\n",
    "~~~~\n",
    "{\n",
    "    'addr': {'city': ...\n",
    "             'country':...\n",
    "             'state':...\n",
    " ...\n",
    "}\n",
    "~~~~\n",
    "\n",
    "Then will be solved by below replacement, my idea is not just process address data, but also all data structured in such way, now I need to check what these key like:"
   ]
  },
  {
   "cell_type": "code",
   "execution_count": 6,
   "metadata": {
    "collapsed": false
   },
   "outputs": [],
   "source": [
    "post_style = re.compile(r'.*:.*')\n",
    "key_set = set()\n",
    "for item in dic_sample:\n",
    "    for key, value in item.items():\n",
    "        if post_style.match(key) and key not in key_set:\n",
    "            key_set.add(key)\n",
    "\n",
    "# print key_set"
   ]
  },
  {
   "cell_type": "markdown",
   "metadata": {},
   "source": [
    "Result of print:\n",
    "~~~~\n",
    "{'FG:COND_INDEX', \n",
    " 'FG:GPS_DATE',\n",
    " ...\n",
    " 'Tiger:HYDROID',\n",
    " 'Tiger:MTFCC',\n",
    " 'abandoned:place',\n",
    " ...\n",
    " 'addr:city',\n",
    " ..\n",
    " }\n",
    "~~~~\n",
    "\n",
    "Here's the method to do the processing:"
   ]
  },
  {
   "cell_type": "code",
   "execution_count": 7,
   "metadata": {
    "collapsed": false
   },
   "outputs": [],
   "source": [
    "# change key:sub_key pairs into key: {subkey1:..., subkey2:...,...}\n",
    "\n",
    "re_style = re.compile(r'.+:.+')\n",
    "\n",
    "for item in dic_sample:\n",
    "    \n",
    "    key_set = set()\n",
    "    \n",
    "    for item_key in item.keys():\n",
    "        if re_style.match(item_key):\n",
    "            item_subkeys = item_key.split(':')\n",
    "            if len(item_subkeys) >= 2:\n",
    "                if item_subkeys[0] not in key_set:\n",
    "                    key_set.add(item_subkeys[0])\n",
    "                    item[item_subkeys[0]] = {}\n",
    "            \n",
    "                item[item_subkeys[0]][item_subkeys[1]] = item.pop(item_key)\n",
    "                    \n",
    "            \n"
   ]
  },
  {
   "cell_type": "markdown",
   "metadata": {},
   "source": [
    "** Problem 6**\n",
    "\n",
    "Some keys, for example: {'addr.source', 'sfgov.org'} is not suitable to be used in MongoDB so I replace them."
   ]
  },
  {
   "cell_type": "code",
   "execution_count": 8,
   "metadata": {
    "collapsed": true
   },
   "outputs": [],
   "source": [
    "post_style = re.compile(r'.+\\..+')\n",
    "for item in dic_sample:\n",
    "    for key, value in item.items():\n",
    "        if key == 'addr.source':\n",
    "            if item.has_key('addr'):\n",
    "                item['addr']['source'] = item.pop('addr.source')\n",
    "            else:\n",
    "                item['addr_source'] = item.pop('addr.source')\n",
    "        elif key == 'sfgov.org':\n",
    "            item['sfgov'] = item.pop('sfgov.org')\n"
   ]
  },
  {
   "cell_type": "markdown",
   "metadata": {},
   "source": [
    "Now dic_sample saved our data in a pretty good format, so I can store it into a JSON file."
   ]
  },
  {
   "cell_type": "code",
   "execution_count": 9,
   "metadata": {
    "collapsed": true
   },
   "outputs": [],
   "source": [
    "import json\n",
    "with open('data_example.json', 'w') as fp:\n",
    "    json.dump(dic_sample, fp)"
   ]
  },
  {
   "cell_type": "markdown",
   "metadata": {},
   "source": [
    "#### Part 3: Discussion on improvements I made\n",
    "\n",
    "There are 6 improvements made to the original dataset, but they might have risk. In this section I gonna discuss the pros and cons of these improvements one by one.\n",
    "\n",
    "* Improve 1 to: data are listed within different tags, which might have different structure\n",
    "\n",
    "  * Pros:\n",
    "    * it's very clear and fast to do the improvements by add them directly into a list of dictionary based on the key I already know.\n",
    "    * adding key 'node_type' can both keep uniform structure for each node and keep information of its node type for future usage\n",
    "\n",
    "\n",
    "  * Cons:\n",
    "    * I use same method based on the assumption that the nodes, like 'node', 'way', 'member' and 'relation' have similar structure of keys and corresponding values. It's possible some typo or unintended error or, eventually, some designed difference might occur within each node. \n",
    "  \n",
    "  * Suggestion for future:\n",
    "    * In future, if to explore further, a script to exam structure of each node is necessary.\n",
    "\n",
    "\n",
    "* Improve 2 to: keys, like 'exit_to', 'exit_to:left', 'exit_to:right' can be involved in one list\n",
    "\n",
    "\n",
    "  * Pros:\n",
    "    * After merge these keys into one list, it's pretty clear to know all exit of node/way values\n",
    "    \n",
    "  * Cons:\n",
    "    * It's hard to tell if it's going straightforward or to left or to right\n",
    "    \n",
    "  * Suggesition for future:\n",
    "    * Better create a dictionary with structure:\n",
    "    \n",
    "    ~~~~\n",
    "    {\n",
    "        'exit_to': {'type': 'left', 'value': '...'}\n",
    "    }\n",
    "    ~~~~\n",
    "    \n",
    "\n",
    "\n",
    "* Improve 3 to: keys, like 'lat' and 'lon' can be saved in a dictionary to seperate from other attributes:\n",
    "~~~~\n",
    "{\n",
    "    'position': {'lat': ..., \n",
    "                 'lon': ...\n",
    "                 }\n",
    "}\n",
    "~~~~\n",
    "\n",
    "  * Pros:\n",
    "    It makes data logically structured and meanwhile keep all information. Accessing the data of position is also very easy.\n",
    "\n",
    "  * Cons:\n",
    "    I don't see any cons for this improvements.\n",
    "\n",
    "\n",
    "* Improve 4 to: value of 'timestamp' is just a string, which can be transformed into: \n",
    "~~~~\n",
    "{\n",
    "    'time': {'year':...,\n",
    "             'month':...,\n",
    "             'day':...,\n",
    "             ...}\n",
    "}\n",
    "~~~~\n",
    "\n",
    "  * Pros:\n",
    "    It makes data logically structured and meanwhile keep all information of time. \n",
    "    \n",
    "  * Cons:\n",
    "    It might take 5 or more times of storage to store the data because the original data is just a string, but now it is seperated into 5 values: year, month, day, hour, minute.\n",
    "    \n",
    "  * Suggestions for future\n",
    "\n",
    "\n",
    "* Improve 5 to: keys, like 'sfgov.org', 'addr.source' can not be used in MongoDB because they include '.'\n",
    "\n",
    "  * Pros:\n",
    "    It prohibits potential error by adding keys like 'addr.source' directly to MongoDB because '.' means subkey of key or zooming in key of a document in MongoDB.\n",
    "    \n",
    "  * Cons:\n",
    "    I don't see if there's any con. It's a must step before we write data into database.\n",
    "    \n",
    "\n",
    "* Improve 6 to: keys, like 'addr:country', 'addr:state' should be transformed into:\n",
    "\n",
    "~~~~\n",
    "{\n",
    "    'addr': {'city': ...\n",
    "             'country':...\n",
    "             'state':...\n",
    " ...\n",
    "}\n",
    "~~~~\n",
    "instead of:\n",
    "~~~~\n",
    "{\n",
    "    'addr:city':...\n",
    "    'addr:country':...\n",
    "    'addr:state':...\n",
    "}\n",
    "~~~~\n",
    "\n",
    "  * Pros:\n",
    "    It makes data logically structured and meanwhile keep all information of address. \n",
    "    \n",
    "  * Cons:\n",
    "    It might take much more times of storage to store the data because the original data is just a string, but now it is seperated into several different values.\n",
    "  \n",
    "  * Future suggestion:\n",
    "    Be careful about the size of database before write in data.\n",
    "  \n",
    "\n",
    "Beside the pros and cons discussed above, it's possible to have other unseen problems. Any ideas are welcome to email me: [jie.hu.ds@gmail.com](mailto: jie.hu.ds@gmail.com)"
   ]
  },
  {
   "cell_type": "markdown",
   "metadata": {},
   "source": [
    "### Part 4. Data Overview and Wrangling with MongoDB\n",
    "\n",
    "\n",
    "Now start my MongoDB, connect with python client, and insert the data:\n"
   ]
  },
  {
   "cell_type": "code",
   "execution_count": 10,
   "metadata": {
    "collapsed": true
   },
   "outputs": [],
   "source": [
    "from pymongo import MongoClient"
   ]
  },
  {
   "cell_type": "code",
   "execution_count": 11,
   "metadata": {
    "collapsed": false
   },
   "outputs": [],
   "source": [
    "client = MongoClient('localhost:27017')\n",
    "db = client.openstreetmap\n",
    "\n",
    "for item in dic_sample:\n",
    "    db.openstreetmap.insert_one(item)\n",
    "    "
   ]
  },
  {
   "cell_type": "markdown",
   "metadata": {},
   "source": [
    "Basic data information:\n",
    "\n",
    "sf_sample.osm ..................... 102.5 MB\n",
    "san-francisco_california.osm........1.01  GB    \n",
    "\n",
    "(Because it takes too long time to process whole data on my old mac, here I will only use sample data, which is large enough for this project. Ideas will be the same)\n",
    "\n",
    "data_example.json .... 132.1 MB\n",
    "                                                \n",
    "#### Number of documents"
   ]
  },
  {
   "cell_type": "code",
   "execution_count": 14,
   "metadata": {
    "collapsed": false
   },
   "outputs": [
    {
     "data": {
      "text/plain": [
       "585600"
      ]
     },
     "execution_count": 14,
     "metadata": {},
     "output_type": "execute_result"
    }
   ],
   "source": [
    "db.openstreetmap.find().count()"
   ]
  },
  {
   "cell_type": "markdown",
   "metadata": {},
   "source": [
    "#### Number of nodes"
   ]
  },
  {
   "cell_type": "code",
   "execution_count": 15,
   "metadata": {
    "collapsed": false
   },
   "outputs": [
    {
     "data": {
      "text/plain": [
       "518637"
      ]
     },
     "execution_count": 15,
     "metadata": {},
     "output_type": "execute_result"
    }
   ],
   "source": [
    "db.openstreetmap.find({\"node_type\":\"node\"}).count()"
   ]
  },
  {
   "cell_type": "markdown",
   "metadata": {},
   "source": [
    "#### Number of way"
   ]
  },
  {
   "cell_type": "code",
   "execution_count": 16,
   "metadata": {
    "collapsed": false
   },
   "outputs": [
    {
     "data": {
      "text/plain": [
       "60629"
      ]
     },
     "execution_count": 16,
     "metadata": {},
     "output_type": "execute_result"
    }
   ],
   "source": [
    "db.openstreetmap.find({\"node_type\":\"way\"}).count()"
   ]
  },
  {
   "cell_type": "markdown",
   "metadata": {},
   "source": [
    "All are exactly match what we get in front of this report:\n",
    "\n",
    "{'node': 471488, ..., 'way': 55115})\n",
    "\n",
    "Number of 'way' is almost same, I will just ignore the only one difference of count.\n",
    "\n",
    "#### Number of unique users"
   ]
  },
  {
   "cell_type": "code",
   "execution_count": 17,
   "metadata": {
    "collapsed": false
   },
   "outputs": [
    {
     "data": {
      "text/plain": [
       "1541"
      ]
     },
     "execution_count": 17,
     "metadata": {},
     "output_type": "execute_result"
    }
   ],
   "source": [
    "len(db.openstreetmap.distinct('user'))"
   ]
  },
  {
   "cell_type": "markdown",
   "metadata": {},
   "source": [
    "Here I use below methods to write my query pipelines:"
   ]
  },
  {
   "cell_type": "code",
   "execution_count": 18,
   "metadata": {
    "collapsed": true
   },
   "outputs": [],
   "source": [
    "def aggregate(db, pipeline):\n",
    "    return [doc for doc in db.openstreetmap.aggregate(pipeline)]"
   ]
  },
  {
   "cell_type": "code",
   "execution_count": 19,
   "metadata": {
    "collapsed": true
   },
   "outputs": [],
   "source": [
    "def make_pipeline():\n",
    "    pipeline = [{\"$group\": {\"_id\": \"$user\",\n",
    "                                        \"count\": {\"$sum\": 1}}},\n",
    "                            {\"$sort\": {\"count\": -1}},\n",
    "                            {\"$limit\": 10}\n",
    "]\n",
    "    return pipeline"
   ]
  },
  {
   "cell_type": "markdown",
   "metadata": {},
   "source": [
    "#### Top 10 most contribution users"
   ]
  },
  {
   "cell_type": "code",
   "execution_count": 20,
   "metadata": {
    "collapsed": false
   },
   "outputs": [
    {
     "name": "stdout",
     "output_type": "stream",
     "text": [
      "[{u'_id': u'ediyes', u'count': 101137},\n",
      " {u'_id': u'Luis36995', u'count': 78167},\n",
      " {u'_id': u'Rub21', u'count': 43527},\n",
      " {u'_id': u'RichRico', u'count': 24717},\n",
      " {u'_id': u'calfarome', u'count': 20438},\n",
      " {u'_id': u'oldtopos', u'count': 18451},\n",
      " {u'_id': u'KindredCoda', u'count': 16608},\n",
      " {u'_id': u'karitotp', u'count': 14981},\n",
      " {u'_id': u'samely', u'count': 13886},\n",
      " {u'_id': u'abel801', u'count': 11921}]\n"
     ]
    }
   ],
   "source": [
    "import pprint\n",
    "pipeline = make_pipeline()\n",
    "result = aggregate(db, pipeline)\n",
    "pprint.pprint(result)"
   ]
  },
  {
   "cell_type": "markdown",
   "metadata": {},
   "source": [
    "### Part 5: Additional Ideas"
   ]
  },
  {
   "cell_type": "markdown",
   "metadata": {},
   "source": [
    "#### Most contribution hour"
   ]
  },
  {
   "cell_type": "code",
   "execution_count": 21,
   "metadata": {
    "collapsed": false
   },
   "outputs": [],
   "source": [
    "def make_pipeline():\n",
    "    pipeline = [{\"$group\": {\"_id\": \"$time.hour\",\n",
    "                                        \"count\": {\"$sum\": 1}}},\n",
    "                            {\"$sort\": {\"count\": -1}},\n",
    "                            {\"$limit\": 24}\n",
    "]\n",
    "    return pipeline\n",
    "\n",
    "pipeline = make_pipeline()\n",
    "result = aggregate(db, pipeline)\n",
    "result_dic = {}\n",
    "for item in result:\n",
    "    result_dic[item['_id']] = item['count']"
   ]
  },
  {
   "cell_type": "code",
   "execution_count": 23,
   "metadata": {
    "collapsed": false
   },
   "outputs": [
    {
     "data": {
      "image/png": "[encoded data removed]",
      "text/plain": [
       "<matplotlib.figure.Figure at 0x11cab6d90>"
      ]
     },
     "metadata": {},
     "output_type": "display_data"
    }
   ],
   "source": [
    "import matplotlib.pyplot as plt\n",
    "\n",
    "values = result_dic.values()\n",
    "clrs = ['#01cab4' if (x < max(values)) else '#ff3f49' for x in values ]\n",
    "\n",
    "plt.bar(range(len(result_dic)), values, align='center', color = clrs)\n",
    "plt.title(\"Most Contribution Hour\")\n",
    "plt.xlabel(\"Hour\")\n",
    "plt.ylabel(\"Contribution\")\n",
    "plt.xlim(-1,24)\n",
    "plt.show()"
   ]
  },
  {
   "cell_type": "markdown",
   "metadata": {},
   "source": [
    "#### most contribution month"
   ]
  },
  {
   "cell_type": "code",
   "execution_count": 24,
   "metadata": {
    "collapsed": false
   },
   "outputs": [
    {
     "data": {
      "image/png": "[encoded data removed]",
      "text/plain": [
       "<matplotlib.figure.Figure at 0x11cc42850>"
      ]
     },
     "metadata": {},
     "output_type": "display_data"
    }
   ],
   "source": [
    "def make_pipeline():\n",
    "    pipeline = [{\"$group\": {\"_id\": \"$time.month\",\n",
    "                                        \"count\": {\"$sum\": 1}}},\n",
    "                            {\"$sort\": {\"count\": -1}},\n",
    "                            {\"$limit\": 24}\n",
    "]\n",
    "    return pipeline\n",
    "\n",
    "pipeline = make_pipeline()\n",
    "result = aggregate(db, pipeline)\n",
    "result_dic = {}\n",
    "for item in result:\n",
    "    result_dic[item['_id']] = item['count']\n",
    "\n",
    "values = result_dic.values()\n",
    "clrs = ['#01cab4' if (x < max(values)) else '#ff3f49' for x in values ]\n",
    "\n",
    "plt.bar(range(len(result_dic)), values, align='center', color = clrs)\n",
    "plt.title(\"Most Contribution Month\")\n",
    "plt.xlabel(\"Month\")\n",
    "plt.ylabel(\"Contribution\")\n",
    "plt.xlim(-1,13)\n",
    "plt.show()"
   ]
  },
  {
   "cell_type": "markdown",
   "metadata": {},
   "source": [
    "#### Top 10 appearing amenities"
   ]
  },
  {
   "cell_type": "code",
   "execution_count": 25,
   "metadata": {
    "collapsed": false
   },
   "outputs": [
    {
     "data": {
      "text/plain": [
       "[{u'_id': u'parking', u'count': 457},\n",
       " {u'_id': u'restaurant', u'count': 358},\n",
       " {u'_id': u'school', u'count': 151},\n",
       " {u'_id': u'bench', u'count': 147},\n",
       " {u'_id': u'place_of_worship', u'count': 125},\n",
       " {u'_id': u'cafe', u'count': 103},\n",
       " {u'_id': u'post_box', u'count': 76},\n",
       " {u'_id': u'fast_food', u'count': 61},\n",
       " {u'_id': u'bank', u'count': 60},\n",
       " {u'_id': u'bicycle_parking', u'count': 57}]"
      ]
     },
     "execution_count": 25,
     "metadata": {},
     "output_type": "execute_result"
    }
   ],
   "source": [
    "def make_pipeline():\n",
    "    pipeline = [{\"$match\":{\"amenity\":{\"$exists\":1}}},\n",
    "                {\"$group\": {\"_id\": \"$amenity\",\n",
    "                                        \"count\": {\"$sum\": 1}}},\n",
    "                {\"$sort\": {\"count\": -1}},\n",
    "                {\"$limit\": 10}\n",
    "]\n",
    "    return pipeline\n",
    "\n",
    "\n",
    "pipeline = make_pipeline()\n",
    "result = aggregate(db, pipeline)\n",
    "result"
   ]
  },
  {
   "cell_type": "markdown",
   "metadata": {},
   "source": [
    "#### Most popular cuisines"
   ]
  },
  {
   "cell_type": "code",
   "execution_count": 26,
   "metadata": {
    "collapsed": false
   },
   "outputs": [
    {
     "data": {
      "text/plain": [
       "[{u'_id': None, u'count': 1922},\n",
       " {u'_id': u'mexican', u'count': 34},\n",
       " {u'_id': u'coffee_shop', u'count': 30},\n",
       " {u'_id': u'pizza', u'count': 24},\n",
       " {u'_id': u'chinese', u'count': 21},\n",
       " {u'_id': u'burger', u'count': 17},\n",
       " {u'_id': u'japanese', u'count': 15},\n",
       " {u'_id': u'italian', u'count': 15},\n",
       " {u'_id': u'american', u'count': 15},\n",
       " {u'_id': u'thai', u'count': 13}]"
      ]
     },
     "execution_count": 26,
     "metadata": {},
     "output_type": "execute_result"
    }
   ],
   "source": [
    "def make_pipeline():\n",
    "    pipeline = [{\"$match\":{\"amenity\":{\"$exists\":1}}},\n",
    "                {\"$group\": {\"_id\": \"$cuisine\",\n",
    "                            \"count\": {\"$sum\": 1}}},\n",
    "                {\"$sort\": {\"count\": -1}},\n",
    "                {\"$limit\": 10}\n",
    "]\n",
    "    return pipeline\n",
    "\n",
    "\n",
    "pipeline = make_pipeline()\n",
    "result = aggregate(db, pipeline)\n",
    "result"
   ]
  },
  {
   "cell_type": "markdown",
   "metadata": {},
   "source": [
    "While ignoring the None type, we can say that the coffee shops are most popular cuisine."
   ]
  },
  {
   "cell_type": "markdown",
   "metadata": {},
   "source": [
    "#### Part 6: Conclusion\n"
   ]
  },
  {
   "cell_type": "markdown",
   "metadata": {},
   "source": [
    "This project offers me very effecient way to wrangle data. I've learned extracting, transforming and loading technicals and I found a lot of interesting ideas in the city I'm living. I'm amazed by the data produced by people.\n",
    "\n",
    "Regarding the possible improvements of this report, I think below approaches might be a good choice:\n",
    "- Time distribution of top10 contributors\n",
    "- Most frequent contribution regions, I think bounding boxes of district in San Francisco are required\n",
    "- Distribution of most popular cuisines, we can see this from how people with different culture background might be distributed"
   ]
  },
  {
   "cell_type": "code",
   "execution_count": null,
   "metadata": {
    "collapsed": true
   },
   "outputs": [],
   "source": []
  }
 ],
 "metadata": {
  "anaconda-cloud": {},
  "kernelspec": {
   "display_name": "Python 2",
   "language": "python",
   "name": "python2"
  },
  "language_info": {
   "codemirror_mode": {
    "name": "ipython",
    "version": 2
   },
   "file_extension": ".py",
   "mimetype": "text/x-python",
   "name": "python",
   "nbconvert_exporter": "python",
   "pygments_lexer": "ipython2",
   "version": "2.7.12"
  }
 },
 "nbformat": 4,
 "nbformat_minor": 2
}
