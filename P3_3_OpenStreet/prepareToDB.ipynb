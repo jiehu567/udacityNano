{
 "cells": [
  {
   "cell_type": "code",
   "execution_count": 1,
   "metadata": {
    "collapsed": true
   },
   "outputs": [],
   "source": [
    "#!/usr/bin/env python\n",
    "# -*- coding: utf-8 -*-\n",
    "import xml.etree.cElementTree as ET\n",
    "import pprint\n",
    "import re\n",
    "import codecs\n",
    "import json\n",
    "\"\"\"\n",
    "Your task is to wrangle the data and transform the shape of the data\n",
    "into the model we mentioned earlier. The output should be a list of dictionaries\n",
    "that look like this:\n",
    "\n",
    "{\n",
    "\"id\": \"2406124091\",\n",
    "\"type: \"node\",\n",
    "\"visible\":\"true\",\n",
    "\"created\": {\n",
    "          \"version\":\"2\",\n",
    "          \"changeset\":\"17206049\",\n",
    "          \"timestamp\":\"2013-08-03T16:43:42Z\",\n",
    "          \"user\":\"linuxUser16\",\n",
    "          \"uid\":\"1219059\"\n",
    "        },\n",
    "\"pos\": [41.9757030, -87.6921867],\n",
    "\"address\": {\n",
    "          \"housenumber\": \"5157\",\n",
    "          \"postcode\": \"60625\",\n",
    "          \"street\": \"North Lincoln Ave\"\n",
    "        },\n",
    "\"amenity\": \"restaurant\",\n",
    "\"cuisine\": \"mexican\",\n",
    "\"name\": \"La Cabana De Don Luis\",\n",
    "\"phone\": \"1 (773)-271-5176\"\n",
    "}\n",
    "\n",
    "You have to complete the function 'shape_element'.\n",
    "We have provided a function that will parse the map file, and call the function with the element\n",
    "as an argument. You should return a dictionary, containing the shaped data for that element.\n",
    "We have also provided a way to save the data in a file, so that you could use\n",
    "mongoimport later on to import the shaped data into MongoDB. \n",
    "\n",
    "Note that in this exercise we do not use the 'update street name' procedures\n",
    "you worked on in the previous exercise. If you are using this code in your final\n",
    "project, you are strongly encouraged to use the code from previous exercise to \n",
    "update the street names before you save them to JSON. \n",
    "\n",
    "In particular the following things should be done:\n",
    "- you should process only 2 types of top level tags: \"node\" and \"way\"\n",
    "- all attributes of \"node\" and \"way\" should be turned into regular key/value pairs, except:\n",
    "    - attributes in the CREATED array should be added under a key \"created\"\n",
    "    - attributes for latitude and longitude should be added to a \"pos\" array,\n",
    "      for use in geospacial indexing. Make sure the values inside \"pos\" array are floats\n",
    "      and not strings. \n",
    "- if the second level tag \"k\" value contains problematic characters, it should be ignored\n",
    "- if the second level tag \"k\" value starts with \"addr:\", it should be added to a dictionary \"address\"\n",
    "- if the second level tag \"k\" value does not start with \"addr:\", but contains \":\", you can\n",
    "  process it in a way that you feel is best. For example, you might split it into a two-level\n",
    "  dictionary like with \"addr:\", or otherwise convert the \":\" to create a valid key.\n",
    "- if there is a second \":\" that separates the type/direction of a street,\n",
    "  the tag should be ignored, for example:\n",
    "\n",
    "<tag k=\"addr:housenumber\" v=\"5158\"/>\n",
    "<tag k=\"addr:street\" v=\"North Lincoln Avenue\"/>\n",
    "<tag k=\"addr:street:name\" v=\"Lincoln\"/>\n",
    "<tag k=\"addr:street:prefix\" v=\"North\"/>\n",
    "<tag k=\"addr:street:type\" v=\"Avenue\"/>\n",
    "<tag k=\"amenity\" v=\"pharmacy\"/>\n",
    "\n",
    "  should be turned into:\n",
    "\n",
    "{...\n",
    "\"address\": {\n",
    "    \"housenumber\": 5158,\n",
    "    \"street\": \"North Lincoln Avenue\"\n",
    "}\n",
    "\"amenity\": \"pharmacy\",\n",
    "...\n",
    "}\n",
    "\n",
    "- for \"way\" specifically:\n",
    "\n",
    "  <nd ref=\"305896090\"/>\n",
    "  <nd ref=\"1719825889\"/>\n",
    "\n",
    "should be turned into\n",
    "\"node_refs\": [\"305896090\", \"1719825889\"]\n",
    "\"\"\"\n",
    "\n",
    "\n",
    "lower = re.compile(r'^([a-z]|_)*$')\n",
    "lower_colon = re.compile(r'^([a-z]|_)*:([a-z]|_)*$')\n",
    "problemchars = re.compile(r'[=\\+/&<>;\\'\"\\?%#$@\\,\\. \\t\\r\\n]')\n",
    "\n",
    "CREATED = [ \"version\", \"changeset\", \"timestamp\", \"user\", \"uid\"]\n",
    "\n",
    "\n"
   ]
  },
  {
   "cell_type": "code",
   "execution_count": 109,
   "metadata": {
    "collapsed": false
   },
   "outputs": [
    {
     "name": "stdout",
     "output_type": "stream",
     "text": [
      "[('changeset', '11129782'), ('uid', '451048'), ('timestamp', '2012-03-28T18:31:23Z'), ('lon', '-87.6866303'), ('visible', 'true'), ('version', '7'), ('user', 'bbmiller'), ('lat', '41.9730791'), ('id', '261114295')]\n",
      "[('changeset', '8448766'), ('uid', '451048'), ('timestamp', '2011-06-15T17:04:54Z'), ('lon', '-87.6878512'), ('visible', 'true'), ('version', '6'), ('user', 'bbmiller'), ('lat', '41.9730416'), ('id', '261114296')]\n",
      "[('changeset', '8581395'), ('uid', '451048'), ('timestamp', '2011-06-29T14:14:14Z'), ('lon', '-87.6939548'), ('visible', 'true'), ('version', '5'), ('user', 'bbmiller'), ('lat', '41.9729565'), ('id', '261114299')]\n",
      "[('changeset', '8581395'), ('uid', '451048'), ('timestamp', '2011-06-29T14:14:14Z'), ('lon', '-87.6976025'), ('visible', 'true'), ('version', '5'), ('user', 'bbmiller'), ('lat', '41.9707380'), ('id', '261146436')]\n",
      "[('changeset', '8581395'), ('uid', '451048'), ('timestamp', '2011-06-29T14:14:15Z'), ('lon', '-87.6988576'), ('visible', 'true'), ('version', '7'), ('user', 'bbmiller'), ('lat', '41.9740068'), ('id', '261147304')]\n",
      "[('changeset', '8581395'), ('uid', '451048'), ('timestamp', '2011-06-29T14:14:14Z'), ('lon', '-87.6938669'), ('visible', 'true'), ('version', '5'), ('user', 'bbmiller'), ('lat', '41.9707656'), ('id', '261224274')]\n",
      "[('changeset', '8448766'), ('uid', '451048'), ('timestamp', '2011-06-15T16:55:37Z'), ('lon', '-87.6890403'), ('visible', 'true'), ('version', '47'), ('user', 'bbmiller'), ('lat', '41.9730154'), ('id', '293816175')]\n",
      "[('changeset', '15348240'), ('uid', '567034'), ('timestamp', '2013-03-13T07:46:29Z'), ('lon', '-87.6891198'), ('visible', 'true'), ('version', '37'), ('user', 'Umbugbene'), ('lat', '41.9749225'), ('id', '305896090')]\n",
      "[('changeset', '15348240'), ('uid', '567034'), ('timestamp', '2013-03-13T08:02:56Z'), ('lon', '-87.7012430'), ('visible', 'true'), ('version', '12'), ('user', 'Umbugbene'), ('lat', '41.9740292'), ('id', '317636974')]\n",
      "[('changeset', '15348240'), ('uid', '567034'), ('timestamp', '2013-03-13T08:08:01Z'), ('lon', '-87.6979712'), ('visible', 'true'), ('version', '13'), ('user', 'Umbugbene'), ('lat', '41.9740556'), ('id', '317636971')]\n",
      "[('changeset', '14927972'), ('uid', '567034'), ('timestamp', '2013-02-05T22:43:49Z'), ('lon', '-87.7012048'), ('visible', 'true'), ('version', '2'), ('user', 'Umbugbene'), ('lat', '41.9705609'), ('id', '317637399')]\n",
      "[('changeset', '14927972'), ('uid', '567034'), ('timestamp', '2013-02-05T22:43:49Z'), ('lon', '-87.7012109'), ('visible', 'true'), ('version', '2'), ('user', 'Umbugbene'), ('lat', '41.9706972'), ('id', '317637398')]\n",
      "[('changeset', '8448766'), ('uid', '451048'), ('timestamp', '2011-06-15T17:04:54Z'), ('lon', '-87.6847998'), ('visible', 'true'), ('version', '3'), ('user', 'bbmiller'), ('lat', '41.9731130'), ('id', '365214872')]\n",
      "[('changeset', '8581395'), ('uid', '451048'), ('timestamp', '2011-06-29T14:14:15Z'), ('lon', '-87.6988886'), ('visible', 'true'), ('version', '6'), ('user', 'bbmiller'), ('lat', '41.9747482'), ('id', '261299091')]\n",
      "[('changeset', '8448766'), ('uid', '451048'), ('timestamp', '2011-06-15T17:04:54Z'), ('lon', '-87.6841979'), ('visible', 'true'), ('version', '6'), ('user', 'bbmiller'), ('lat', '41.9731219'), ('id', '261114294')]\n",
      "[('changeset', '3359748'), ('uid', '147510'), ('timestamp', '2009-12-13T00:36:09Z'), ('lon', '-87.7000019'), ('visible', 'true'), ('version', '4'), ('user', 'woodpeck_fixbot'), ('lat', '41.9707217'), ('id', '261210804')]\n",
      "[('changeset', '8581395'), ('uid', '451048'), ('timestamp', '2011-06-29T14:14:15Z'), ('lon', '-87.6922652'), ('visible', 'true'), ('version', '7'), ('user', 'bbmiller'), ('lat', '41.9748542'), ('id', '261221422')]\n",
      "[('changeset', '8581395'), ('uid', '451048'), ('timestamp', '2011-06-29T14:14:15Z'), ('lon', '-87.6923639'), ('visible', 'true'), ('version', '7'), ('user', 'bbmiller'), ('lat', '41.9758794'), ('id', '261221424')]\n",
      "[('changeset', '17206049'), ('uid', '1219059'), ('timestamp', '2013-08-03T16:43:42Z'), ('lon', '-87.6921867'), ('visible', 'true'), ('version', '2'), ('user', 'linuxUser16'), ('lat', '41.9757030'), ('id', '2406124091')]\n",
      "[('changeset', '20187349'), ('uid', '1219059'), ('timestamp', '2014-01-25T01:56:10Z'), ('lon', '-87.6900344'), ('visible', 'true'), ('version', '1'), ('user', 'linuxUser16'), ('lat', '41.9705219'), ('id', '2636084635')]\n",
      "[('changeset', '8581395'), ('uid', '451048'), ('timestamp', '2011-06-29T14:14:13Z'), ('lon', '-87.6963097'), ('visible', 'true'), ('version', '6'), ('user', 'bbmiller'), ('lat', '41.9707413'), ('id', '261198953')]\n",
      "[('changeset', '5288876'), ('uid', '26299'), ('timestamp', '2010-07-22T16:16:51Z'), ('lon', '-87.6920102'), ('visible', 'true'), ('version', '2'), ('user', 'uboot'), ('lat', '41.9747374'), ('id', '757860928')]\n",
      "[('changeset', '11043902'), ('uid', '634589'), ('timestamp', '2012-03-20T18:56:44Z'), ('lon', '-88.0780576'), ('version', '2'), ('user', 'Jacobs Studios'), ('lat', '42.1251718'), ('id', '1683602133')]\n"
     ]
    }
   ],
   "source": [
    "nod = []\n",
    "for _, element in ET.iterparse('prepare.osm'):\n",
    "    if element.tag == 'node':\n",
    "       ## for tag in element.iter('tag'):\n",
    "       ##     print tag\n",
    "        print element.items()"
   ]
  },
  {
   "cell_type": "code",
   "execution_count": 70,
   "metadata": {
    "collapsed": false
   },
   "outputs": [
    {
     "data": {
      "text/plain": [
       "False"
      ]
     },
     "execution_count": 70,
     "metadata": {},
     "output_type": "execute_result"
    }
   ],
   "source": [
    "[] is None"
   ]
  },
  {
   "cell_type": "code",
   "execution_count": 110,
   "metadata": {
    "collapsed": false
   },
   "outputs": [],
   "source": [
    "result = []\n",
    "for _, element in ET.iterparse('prepare.osm'):\n",
    "    node = {}\n",
    "    if element.tag == \"node\" or element.tag == \"way\" :\n",
    "        \n",
    "        if element.attrib.has_key('id'):\n",
    "            node['id']= element.attrib['id']\n",
    "\n",
    "        node['type'] = element.tag   \n",
    "            \n",
    "        if element.attrib.has_key('visible'):\n",
    "            node['visible'] = element.attrib['visible'] == 'true'\n",
    "\n",
    "        node['created'] = {}\n",
    "        for key in CREATED:\n",
    "            if element.attrib.has_key(key):\n",
    "                node['created'][key] = element.attrib[key]\n",
    "        \n",
    "        if element.attrib.has_key('lat') and element.attrib.has_key('lon'):\n",
    "            node['pos'] = [element.attrib['lat'], element.attrib['lon']]\n",
    "        \n",
    "        temp_dict = {}\n",
    "        for tag in element.iter('tag'):\n",
    "            st_1 = re.compile('.*:(.*)').findall(tag.attrib['k'])\n",
    "            \n",
    "            st_2 = re.compile('.*:.*:(.*)').findall(tag.attrib['k'])\n",
    "            # print st_2\n",
    "            if st_2 != []:\n",
    "                continue\n",
    "            elif st_1 != []:\n",
    "                str_1 = st_1[0]\n",
    "                temp_dict[str_1] = tag.attrib['v']\n",
    "                # print str_1\n",
    "            else:\n",
    "                node[tag.attrib['k']] = tag.attrib['v']\n",
    "        if temp_dict != {}:\n",
    "            node['address'] = temp_dict\n",
    "        \n",
    "        if element.tag == 'way':\n",
    "            node['node_refs'] = []\n",
    "            for nd in element.iter('nd'):\n",
    "                node['node_refs'].append(nd.attrib['ref'])\n",
    "        result.append(node)\n",
    "        \n",
    "        \n",
    "        \n",
    "    "
   ]
  },
  {
   "cell_type": "code",
   "execution_count": 119,
   "metadata": {
    "collapsed": false
   },
   "outputs": [
    {
     "data": {
      "text/plain": [
       "True"
      ]
     },
     "execution_count": 119,
     "metadata": {},
     "output_type": "execute_result"
    }
   ],
   "source": [
    "\"result\" == 'result'"
   ]
  },
  {
   "cell_type": "code",
   "execution_count": 141,
   "metadata": {
    "collapsed": false
   },
   "outputs": [],
   "source": [
    "def shape_element(element):\n",
    "    node = {}\n",
    "    if element.tag == \"node\" or element.tag == \"way\" :\n",
    "        \n",
    "        if element.attrib.has_key('id'):\n",
    "            node['id']= element.attrib['id']\n",
    "\n",
    "        node['type'] = element.tag   \n",
    "            \n",
    "        if element.attrib.has_key('visible'):\n",
    "            node['visible'] = element.attrib['visible']\n",
    "\n",
    "        node['created'] = {}\n",
    "        for key in CREATED:\n",
    "            if element.attrib.has_key(key):\n",
    "                node['created'][key] = element.attrib[key]\n",
    "        \n",
    "        if element.attrib.has_key('lat') and element.attrib.has_key('lon'):\n",
    "            node['pos'] = [float(element.attrib['lat']), float(element.attrib['lon'])]\n",
    "        \n",
    "        temp_dict = {}\n",
    "        for tag in element.iter('tag'):\n",
    "            st_1 = re.compile('.*:(.*)').findall(tag.attrib['k'])\n",
    "            \n",
    "            st_2 = re.compile('.*:.*:(.*)').findall(tag.attrib['k'])\n",
    "            # print st_2\n",
    "            if st_2 != []:\n",
    "                continue\n",
    "            elif st_1 != []:\n",
    "                str_1 = st_1[0]\n",
    "                temp_dict[str_1] = tag.attrib['v']\n",
    "                # print str_1\n",
    "            else:\n",
    "                node[tag.attrib['k']] = tag.attrib['v']\n",
    "        \n",
    "        if temp_dict != {}:\n",
    "            node['address'] = {}\n",
    "            for k,v in temp_dict.items():\n",
    "                if k == 'housenumber' or k == 'street':\n",
    "                    node['address'][k] = temp_dict[k]\n",
    "        \n",
    "        if element.tag == 'way':\n",
    "            node['node_refs'] = []\n",
    "            for nd in element.iter('nd'):\n",
    "                node['node_refs'].append(nd.attrib['ref'])\n",
    "        \n",
    "        \n",
    "        return node\n",
    "    else:\n",
    "        return None\n",
    "\n",
    "\n",
    "def process_map(file_in, pretty = False):\n",
    "    # You do not need to change this file\n",
    "    file_out = \"{0}.json\".format(file_in)\n",
    "    data = []\n",
    "    with codecs.open(file_out, \"w\") as fo:\n",
    "        for _, element in ET.iterparse(file_in):\n",
    "            el = shape_element(element)\n",
    "            if el:\n",
    "                data.append(el)\n",
    "                if pretty:\n",
    "                    fo.write(json.dumps(el, indent=2)+\"\\n\")\n",
    "                else:\n",
    "                    fo.write(json.dumps(el) + \"\\n\")\n",
    "    return data\n",
    "\n"
   ]
  },
  {
   "cell_type": "code",
   "execution_count": 144,
   "metadata": {
    "collapsed": false
   },
   "outputs": [
    {
     "name": "stdout",
     "output_type": "stream",
     "text": [
      "{'pos': [41.9730791, -87.6866303], 'visible': 'true', 'type': 'node', 'id': '261114295', 'created': {'uid': '451048', 'changeset': '11129782', 'version': '7', 'user': 'bbmiller', 'timestamp': '2012-03-28T18:31:23Z'}}\n",
      "{'visible': 'true', 'created': {'changeset': '11129782', 'version': '7', 'user': 'bbmiller', 'timestamp': '2012-03-28T18:31:23Z', 'uid': '451048'}, 'type': 'node', 'id': '261114295', 'pos': [41.9730791, -87.6866303]}\n",
      "{'building': 'yes', 'node_refs': ['2199822281', '2199822390', '2199822392', '2199822369', '2199822370', '2199822284', '2199822281'], 'created': {'uid': '674454', 'changeset': '15353317', 'version': '1', 'user': 'chicago-buildings', 'timestamp': '2013-03-13T15:58:04Z'}, 'visible': 'true', 'address': {'street': 'West Lexington St.', 'housenumber': '1412'}, 'type': 'way', 'id': '209809850'}\n"
     ]
    }
   ],
   "source": [
    "def test():\n",
    "    # NOTE: if you are running this code on your computer, with a larger dataset, \n",
    "    # call the process_map procedure with pretty=False. The pretty=True option adds \n",
    "    # additional spaces to the output, making it significantly larger.\n",
    "    data = process_map('prepare.osm', False)\n",
    "    #pprint.pprint(data)\n",
    "    \n",
    "    correct_first_elem = {\n",
    "        \"id\": \"261114295\", \n",
    "        \"visible\": \"true\", \n",
    "        \"type\": \"node\", \n",
    "        \"pos\": [41.9730791, -87.6866303], \n",
    "        \"created\": {\n",
    "            \"changeset\": \"11129782\", \n",
    "            \"user\": \"bbmiller\", \n",
    "            \"version\": \"7\", \n",
    "            \"uid\": \"451048\", \n",
    "            \"timestamp\": \"2012-03-28T18:31:23Z\"\n",
    "        }\n",
    "    }\n",
    "    print data[0]\n",
    "    print correct_first_elem\n",
    "    \n",
    "    for k, v in data[0].items():\n",
    "        if not correct_first_elem.has_key(k) or data[0][k] != correct_first_elem[k]:\n",
    "            print k\n",
    "    \n",
    "    assert data[0] == correct_first_elem\n",
    "    assert data[-1][\"address\"] == {\n",
    "                                    \"street\": \"West Lexington St.\", \n",
    "                                    \"housenumber\": \"1412\"\n",
    "                                      }\n",
    "    assert data[-1][\"node_refs\"] == [ \"2199822281\", \"2199822390\",  \"2199822392\", \"2199822369\", \n",
    "                                    \"2199822370\", \"2199822284\", \"2199822281\"]\n",
    "    print data[-1]\n",
    "if __name__ == \"__main__\":\n",
    "    test()"
   ]
  },
  {
   "cell_type": "code",
   "execution_count": 129,
   "metadata": {
    "collapsed": true
   },
   "outputs": [],
   "source": [
    "dic1 = {'pos': [41.9730791, -87.6866303], 'visible': 'true', 'type': 'node', 'id': '261114295', 'created': {'uid': '451048', 'changeset': '11129782', 'version': '7', 'user': 'bbmiller', 'timestamp': '2012-03-28T18:31:23Z'}}"
   ]
  },
  {
   "cell_type": "code",
   "execution_count": 130,
   "metadata": {
    "collapsed": true
   },
   "outputs": [],
   "source": [
    "dic2 = {'visible': 'true', 'created': {'changeset': '11129782', 'version': '7', 'user': 'bbmiller', 'timestamp': '2012-03-28T18:31:23Z', 'uid': '451048'}, 'type': 'node', 'id': '261114295', 'pos': [41.9730791, -87.6866303]}"
   ]
  },
  {
   "cell_type": "code",
   "execution_count": 131,
   "metadata": {
    "collapsed": false
   },
   "outputs": [
    {
     "data": {
      "text/plain": [
       "True"
      ]
     },
     "execution_count": 131,
     "metadata": {},
     "output_type": "execute_result"
    }
   ],
   "source": [
    "dic1 == dic2"
   ]
  },
  {
   "cell_type": "code",
   "execution_count": null,
   "metadata": {
    "collapsed": true
   },
   "outputs": [],
   "source": []
  }
 ],
 "metadata": {
  "anaconda-cloud": {},
  "kernelspec": {
   "display_name": "Python 2",
   "language": "python",
   "name": "python2"
  },
  "language_info": {
   "codemirror_mode": {
    "name": "ipython",
    "version": 2
   },
   "file_extension": ".py",
   "mimetype": "text/x-python",
   "name": "python",
   "nbconvert_exporter": "python",
   "pygments_lexer": "ipython2",
   "version": "2.7.12"
  }
 },
 "nbformat": 4,
 "nbformat_minor": 2
}
